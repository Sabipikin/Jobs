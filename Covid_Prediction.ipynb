{
  "nbformat": 4,
  "nbformat_minor": 0,
  "metadata": {
    "colab": {
      "provenance": []
    },
    "kernelspec": {
      "name": "python3",
      "display_name": "Python 3"
    },
    "language_info": {
      "name": "python"
    }
  },
  "cells": [
    {
      "cell_type": "markdown",
      "source": [
        "## Import Data Set"
      ],
      "metadata": {
        "id": "6Pz65aJCpVWj"
      }
    },
    {
      "cell_type": "code",
      "execution_count": null,
      "metadata": {
        "id": "qSNnHv-mokA1"
      },
      "outputs": [],
      "source": [
        "import pandas as pd"
      ]
    },
    {
      "cell_type": "code",
      "source": [
        "df= pd.read_csv('/content/drive/MyDrive/Murphy/covid.csv')\n",
        "\n",
        "# Print 5 roles of the columns\n",
        "df.head()"
      ],
      "metadata": {
        "colab": {
          "base_uri": "https://localhost:8080/",
          "height": 288
        },
        "id": "jm1lHQDypOx6",
        "outputId": "ecce1824-60c9-4e97-a36e-d30f71384991"
      },
      "execution_count": null,
      "outputs": [
        {
          "output_type": "execute_result",
          "data": {
            "text/plain": [
              "   id             location country  gender   age     sym_on   hosp_vis  \\\n",
              "0   1  Shenzhen, Guangdong   China    male  66.0   1/3/2020  1/11/2020   \n",
              "1   2             Shanghai   China  female  56.0  1/15/2020  1/15/2020   \n",
              "2   3             Zhejiang   China    male  46.0   1/4/2020  1/17/2020   \n",
              "3   4              Tianjin   China  female  60.0        NaN        NaN   \n",
              "4   5              Tianjin   China    male  58.0        NaN        NaN   \n",
              "\n",
              "   vis_wuhan  from_wuhan  death  recov symptom1 symptom2 symptom3 symptom4  \\\n",
              "0          1         0.0      0      0      NaN      NaN      NaN      NaN   \n",
              "1          0         1.0      0      0      NaN      NaN      NaN      NaN   \n",
              "2          0         1.0      0      0      NaN      NaN      NaN      NaN   \n",
              "3          1         0.0      0      0      NaN      NaN      NaN      NaN   \n",
              "4          0         0.0      0      0      NaN      NaN      NaN      NaN   \n",
              "\n",
              "  symptom5 symptom6  \n",
              "0      NaN      NaN  \n",
              "1      NaN      NaN  \n",
              "2      NaN      NaN  \n",
              "3      NaN      NaN  \n",
              "4      NaN      NaN  "
            ],
            "text/html": [
              "\n",
              "  <div id=\"df-551e9da4-f8d3-4ec7-85d4-498bd02ad809\">\n",
              "    <div class=\"colab-df-container\">\n",
              "      <div>\n",
              "<style scoped>\n",
              "    .dataframe tbody tr th:only-of-type {\n",
              "        vertical-align: middle;\n",
              "    }\n",
              "\n",
              "    .dataframe tbody tr th {\n",
              "        vertical-align: top;\n",
              "    }\n",
              "\n",
              "    .dataframe thead th {\n",
              "        text-align: right;\n",
              "    }\n",
              "</style>\n",
              "<table border=\"1\" class=\"dataframe\">\n",
              "  <thead>\n",
              "    <tr style=\"text-align: right;\">\n",
              "      <th></th>\n",
              "      <th>id</th>\n",
              "      <th>location</th>\n",
              "      <th>country</th>\n",
              "      <th>gender</th>\n",
              "      <th>age</th>\n",
              "      <th>sym_on</th>\n",
              "      <th>hosp_vis</th>\n",
              "      <th>vis_wuhan</th>\n",
              "      <th>from_wuhan</th>\n",
              "      <th>death</th>\n",
              "      <th>recov</th>\n",
              "      <th>symptom1</th>\n",
              "      <th>symptom2</th>\n",
              "      <th>symptom3</th>\n",
              "      <th>symptom4</th>\n",
              "      <th>symptom5</th>\n",
              "      <th>symptom6</th>\n",
              "    </tr>\n",
              "  </thead>\n",
              "  <tbody>\n",
              "    <tr>\n",
              "      <th>0</th>\n",
              "      <td>1</td>\n",
              "      <td>Shenzhen, Guangdong</td>\n",
              "      <td>China</td>\n",
              "      <td>male</td>\n",
              "      <td>66.0</td>\n",
              "      <td>1/3/2020</td>\n",
              "      <td>1/11/2020</td>\n",
              "      <td>1</td>\n",
              "      <td>0.0</td>\n",
              "      <td>0</td>\n",
              "      <td>0</td>\n",
              "      <td>NaN</td>\n",
              "      <td>NaN</td>\n",
              "      <td>NaN</td>\n",
              "      <td>NaN</td>\n",
              "      <td>NaN</td>\n",
              "      <td>NaN</td>\n",
              "    </tr>\n",
              "    <tr>\n",
              "      <th>1</th>\n",
              "      <td>2</td>\n",
              "      <td>Shanghai</td>\n",
              "      <td>China</td>\n",
              "      <td>female</td>\n",
              "      <td>56.0</td>\n",
              "      <td>1/15/2020</td>\n",
              "      <td>1/15/2020</td>\n",
              "      <td>0</td>\n",
              "      <td>1.0</td>\n",
              "      <td>0</td>\n",
              "      <td>0</td>\n",
              "      <td>NaN</td>\n",
              "      <td>NaN</td>\n",
              "      <td>NaN</td>\n",
              "      <td>NaN</td>\n",
              "      <td>NaN</td>\n",
              "      <td>NaN</td>\n",
              "    </tr>\n",
              "    <tr>\n",
              "      <th>2</th>\n",
              "      <td>3</td>\n",
              "      <td>Zhejiang</td>\n",
              "      <td>China</td>\n",
              "      <td>male</td>\n",
              "      <td>46.0</td>\n",
              "      <td>1/4/2020</td>\n",
              "      <td>1/17/2020</td>\n",
              "      <td>0</td>\n",
              "      <td>1.0</td>\n",
              "      <td>0</td>\n",
              "      <td>0</td>\n",
              "      <td>NaN</td>\n",
              "      <td>NaN</td>\n",
              "      <td>NaN</td>\n",
              "      <td>NaN</td>\n",
              "      <td>NaN</td>\n",
              "      <td>NaN</td>\n",
              "    </tr>\n",
              "    <tr>\n",
              "      <th>3</th>\n",
              "      <td>4</td>\n",
              "      <td>Tianjin</td>\n",
              "      <td>China</td>\n",
              "      <td>female</td>\n",
              "      <td>60.0</td>\n",
              "      <td>NaN</td>\n",
              "      <td>NaN</td>\n",
              "      <td>1</td>\n",
              "      <td>0.0</td>\n",
              "      <td>0</td>\n",
              "      <td>0</td>\n",
              "      <td>NaN</td>\n",
              "      <td>NaN</td>\n",
              "      <td>NaN</td>\n",
              "      <td>NaN</td>\n",
              "      <td>NaN</td>\n",
              "      <td>NaN</td>\n",
              "    </tr>\n",
              "    <tr>\n",
              "      <th>4</th>\n",
              "      <td>5</td>\n",
              "      <td>Tianjin</td>\n",
              "      <td>China</td>\n",
              "      <td>male</td>\n",
              "      <td>58.0</td>\n",
              "      <td>NaN</td>\n",
              "      <td>NaN</td>\n",
              "      <td>0</td>\n",
              "      <td>0.0</td>\n",
              "      <td>0</td>\n",
              "      <td>0</td>\n",
              "      <td>NaN</td>\n",
              "      <td>NaN</td>\n",
              "      <td>NaN</td>\n",
              "      <td>NaN</td>\n",
              "      <td>NaN</td>\n",
              "      <td>NaN</td>\n",
              "    </tr>\n",
              "  </tbody>\n",
              "</table>\n",
              "</div>\n",
              "      <button class=\"colab-df-convert\" onclick=\"convertToInteractive('df-551e9da4-f8d3-4ec7-85d4-498bd02ad809')\"\n",
              "              title=\"Convert this dataframe to an interactive table.\"\n",
              "              style=\"display:none;\">\n",
              "        \n",
              "  <svg xmlns=\"http://www.w3.org/2000/svg\" height=\"24px\"viewBox=\"0 0 24 24\"\n",
              "       width=\"24px\">\n",
              "    <path d=\"M0 0h24v24H0V0z\" fill=\"none\"/>\n",
              "    <path d=\"M18.56 5.44l.94 2.06.94-2.06 2.06-.94-2.06-.94-.94-2.06-.94 2.06-2.06.94zm-11 1L8.5 8.5l.94-2.06 2.06-.94-2.06-.94L8.5 2.5l-.94 2.06-2.06.94zm10 10l.94 2.06.94-2.06 2.06-.94-2.06-.94-.94-2.06-.94 2.06-2.06.94z\"/><path d=\"M17.41 7.96l-1.37-1.37c-.4-.4-.92-.59-1.43-.59-.52 0-1.04.2-1.43.59L10.3 9.45l-7.72 7.72c-.78.78-.78 2.05 0 2.83L4 21.41c.39.39.9.59 1.41.59.51 0 1.02-.2 1.41-.59l7.78-7.78 2.81-2.81c.8-.78.8-2.07 0-2.86zM5.41 20L4 18.59l7.72-7.72 1.47 1.35L5.41 20z\"/>\n",
              "  </svg>\n",
              "      </button>\n",
              "      \n",
              "  <style>\n",
              "    .colab-df-container {\n",
              "      display:flex;\n",
              "      flex-wrap:wrap;\n",
              "      gap: 12px;\n",
              "    }\n",
              "\n",
              "    .colab-df-convert {\n",
              "      background-color: #E8F0FE;\n",
              "      border: none;\n",
              "      border-radius: 50%;\n",
              "      cursor: pointer;\n",
              "      display: none;\n",
              "      fill: #1967D2;\n",
              "      height: 32px;\n",
              "      padding: 0 0 0 0;\n",
              "      width: 32px;\n",
              "    }\n",
              "\n",
              "    .colab-df-convert:hover {\n",
              "      background-color: #E2EBFA;\n",
              "      box-shadow: 0px 1px 2px rgba(60, 64, 67, 0.3), 0px 1px 3px 1px rgba(60, 64, 67, 0.15);\n",
              "      fill: #174EA6;\n",
              "    }\n",
              "\n",
              "    [theme=dark] .colab-df-convert {\n",
              "      background-color: #3B4455;\n",
              "      fill: #D2E3FC;\n",
              "    }\n",
              "\n",
              "    [theme=dark] .colab-df-convert:hover {\n",
              "      background-color: #434B5C;\n",
              "      box-shadow: 0px 1px 3px 1px rgba(0, 0, 0, 0.15);\n",
              "      filter: drop-shadow(0px 1px 2px rgba(0, 0, 0, 0.3));\n",
              "      fill: #FFFFFF;\n",
              "    }\n",
              "  </style>\n",
              "\n",
              "      <script>\n",
              "        const buttonEl =\n",
              "          document.querySelector('#df-551e9da4-f8d3-4ec7-85d4-498bd02ad809 button.colab-df-convert');\n",
              "        buttonEl.style.display =\n",
              "          google.colab.kernel.accessAllowed ? 'block' : 'none';\n",
              "\n",
              "        async function convertToInteractive(key) {\n",
              "          const element = document.querySelector('#df-551e9da4-f8d3-4ec7-85d4-498bd02ad809');\n",
              "          const dataTable =\n",
              "            await google.colab.kernel.invokeFunction('convertToInteractive',\n",
              "                                                     [key], {});\n",
              "          if (!dataTable) return;\n",
              "\n",
              "          const docLinkHtml = 'Like what you see? Visit the ' +\n",
              "            '<a target=\"_blank\" href=https://colab.research.google.com/notebooks/data_table.ipynb>data table notebook</a>'\n",
              "            + ' to learn more about interactive tables.';\n",
              "          element.innerHTML = '';\n",
              "          dataTable['output_type'] = 'display_data';\n",
              "          await google.colab.output.renderOutput(dataTable, element);\n",
              "          const docLink = document.createElement('div');\n",
              "          docLink.innerHTML = docLinkHtml;\n",
              "          element.appendChild(docLink);\n",
              "        }\n",
              "      </script>\n",
              "    </div>\n",
              "  </div>\n",
              "  "
            ]
          },
          "metadata": {},
          "execution_count": 202
        }
      ]
    },
    {
      "cell_type": "code",
      "source": [
        "# get the shape of the DataFrame\n",
        "num_rows, num_cols = df.shape\n",
        "\n",
        "# print the size of the DataFrame\n",
        "print(f\"The DataFrame has {num_rows} rows and {num_cols} columns.\")"
      ],
      "metadata": {
        "colab": {
          "base_uri": "https://localhost:8080/"
        },
        "id": "RKkhNYPbrjV5",
        "outputId": "74f6ae95-dd9d-4ded-a5d5-782e9ecfeadb"
      },
      "execution_count": null,
      "outputs": [
        {
          "output_type": "stream",
          "name": "stdout",
          "text": [
            "The DataFrame has 1085 rows and 17 columns.\n"
          ]
        }
      ]
    },
    {
      "cell_type": "markdown",
      "source": [
        "## Data Profiling"
      ],
      "metadata": {
        "id": "mArYMnI2ruwU"
      }
    },
    {
      "cell_type": "code",
      "source": [
        "# display the summary statistics for numerical variables\n",
        "print(df.describe())"
      ],
      "metadata": {
        "colab": {
          "base_uri": "https://localhost:8080/"
        },
        "id": "PUPVrpvAryIy",
        "outputId": "bafdd660-82eb-4e1b-810d-0cdedf9d0b1e"
      },
      "execution_count": null,
      "outputs": [
        {
          "output_type": "stream",
          "name": "stdout",
          "text": [
            "                id         age    vis_wuhan   from_wuhan        death  \\\n",
            "count  1085.000000  843.000000  1085.000000  1081.000000  1085.000000   \n",
            "mean    543.000000   49.483689     0.176959     0.144311     0.058065   \n",
            "std     313.356825   18.255334     0.381810     0.351567     0.233973   \n",
            "min       1.000000    0.250000     0.000000     0.000000     0.000000   \n",
            "25%     272.000000   35.000000     0.000000     0.000000     0.000000   \n",
            "50%     543.000000   51.000000     0.000000     0.000000     0.000000   \n",
            "75%     814.000000   64.000000     0.000000     0.000000     0.000000   \n",
            "max    1085.000000   96.000000     1.000000     1.000000     1.000000   \n",
            "\n",
            "             recov  \n",
            "count  1085.000000  \n",
            "mean      0.146544  \n",
            "std       0.353814  \n",
            "min       0.000000  \n",
            "25%       0.000000  \n",
            "50%       0.000000  \n",
            "75%       0.000000  \n",
            "max       1.000000  \n"
          ]
        }
      ]
    },
    {
      "cell_type": "code",
      "source": [
        "# generate descriptive statistics for non-numerical data\n",
        "non_num_desc = df.describe(include=['object'])\n",
        "\n",
        "print(non_num_desc)"
      ],
      "metadata": {
        "colab": {
          "base_uri": "https://localhost:8080/"
        },
        "id": "NjFbh6amr_4k",
        "outputId": "3212283e-4669-4af9-f273-208d13fddf98"
      },
      "execution_count": null,
      "outputs": [
        {
          "output_type": "stream",
          "name": "stdout",
          "text": [
            "           location country gender     sym_on   hosp_vis symptom1 symptom2  \\\n",
            "count          1085    1085    902        449        449      270      161   \n",
            "unique          156      38      2         60         58       27       31   \n",
            "top     South Korea   China   male  1/23/2020  1/23/2020    fever    cough   \n",
            "freq            112     197    520         22         27      178       66   \n",
            "\n",
            "       symptom3 symptom4  symptom5  symptom6  \n",
            "count        73       19         3         1  \n",
            "unique       23       12         3         1  \n",
            "top     malaise  dyspnea  vomiting  diarrhea  \n",
            "freq         11        3         1         1  \n"
          ]
        }
      ]
    },
    {
      "cell_type": "code",
      "source": [
        "# Print data types of columns\n",
        "print(df.dtypes)"
      ],
      "metadata": {
        "colab": {
          "base_uri": "https://localhost:8080/"
        },
        "id": "P4dzF1_Tu1Nj",
        "outputId": "2e1e94a1-e739-4ee5-d7d2-41bb82f3a845"
      },
      "execution_count": null,
      "outputs": [
        {
          "output_type": "stream",
          "name": "stdout",
          "text": [
            "id              int64\n",
            "location       object\n",
            "country        object\n",
            "gender         object\n",
            "age           float64\n",
            "sym_on         object\n",
            "hosp_vis       object\n",
            "vis_wuhan       int64\n",
            "from_wuhan    float64\n",
            "death           int64\n",
            "recov           int64\n",
            "symptom1       object\n",
            "symptom2       object\n",
            "symptom3       object\n",
            "symptom4       object\n",
            "symptom5       object\n",
            "symptom6       object\n",
            "dtype: object\n"
          ]
        }
      ]
    },
    {
      "cell_type": "markdown",
      "source": [
        "## **Data Cleaning**"
      ],
      "metadata": {
        "id": "izzn3X_NsJNN"
      }
    },
    {
      "cell_type": "markdown",
      "source": [
        "## Check For Missing Data"
      ],
      "metadata": {
        "id": "dBCVvd4wsPFu"
      }
    },
    {
      "cell_type": "code",
      "source": [
        "# check for missing values\n",
        "missing_values = df.isnull().sum()\n",
        "\n",
        "# print the results\n",
        "print(missing_values)"
      ],
      "metadata": {
        "colab": {
          "base_uri": "https://localhost:8080/"
        },
        "id": "hi6eGG_ksIZO",
        "outputId": "0cd1450a-6209-4c6d-c693-5d0c71c0b152"
      },
      "execution_count": null,
      "outputs": [
        {
          "output_type": "stream",
          "name": "stdout",
          "text": [
            "id               0\n",
            "location         0\n",
            "country          0\n",
            "gender         183\n",
            "age            242\n",
            "sym_on         636\n",
            "hosp_vis       636\n",
            "vis_wuhan        0\n",
            "from_wuhan       4\n",
            "death            0\n",
            "recov            0\n",
            "symptom1       815\n",
            "symptom2       924\n",
            "symptom3      1012\n",
            "symptom4      1066\n",
            "symptom5      1082\n",
            "symptom6      1084\n",
            "dtype: int64\n"
          ]
        }
      ]
    },
    {
      "cell_type": "markdown",
      "source": [
        "Fill Missing Numerical Data With Mean"
      ],
      "metadata": {
        "id": "e2VLvUWQsaqg"
      }
    },
    {
      "cell_type": "code",
      "source": [
        "# Fill missing numerical data with the mean\n",
        "df['age'].fillna(df['age'].mean(), inplace=True)\n",
        "df['from_wuhan'].fillna(df['from_wuhan'].mean(), inplace=True)"
      ],
      "metadata": {
        "id": "Ky9SkU4FsbwB"
      },
      "execution_count": null,
      "outputs": []
    },
    {
      "cell_type": "markdown",
      "source": [
        "Fill Missing Non-Numerical Data with Mode"
      ],
      "metadata": {
        "id": "H-BVTwDytbMJ"
      }
    },
    {
      "cell_type": "code",
      "source": [
        "# Fill missing non-numerical data with the mode\n",
        "df['gender'].fillna(df['gender'].mode()[0], inplace=True)\n",
        "df['sym_on'].fillna(df['sym_on'].mode()[0], inplace=True)\n",
        "df['hosp_vis'].fillna(df['hosp_vis'].mode()[0], inplace=True)\n",
        "df['symptom1'].fillna(df['symptom1'].mode()[0], inplace=True)\n",
        "df['symptom2'].fillna(df['symptom2'].mode()[0], inplace=True)\n",
        "df['symptom3'].fillna(df['symptom3'].mode()[0], inplace=True)\n",
        "df['symptom4'].fillna(df['symptom4'].mode()[0], inplace=True)\n",
        "df['symptom5'].fillna(df['symptom5'].mode()[0], inplace=True)\n",
        "df['symptom6'].fillna(df['symptom6'].mode()[0], inplace=True)"
      ],
      "metadata": {
        "id": "YkbEN4j8tcJZ"
      },
      "execution_count": null,
      "outputs": []
    },
    {
      "cell_type": "markdown",
      "source": [
        "Confirm if missing Values has been replaced"
      ],
      "metadata": {
        "id": "Pct52PXaurHb"
      }
    },
    {
      "cell_type": "code",
      "source": [
        "# check for missing values\n",
        "missing_values = df.isnull().sum()\n",
        "\n",
        "# print the results\n",
        "print(missing_values)"
      ],
      "metadata": {
        "colab": {
          "base_uri": "https://localhost:8080/"
        },
        "id": "XfNjQ4jMuuR8",
        "outputId": "7d81c7ca-bf16-4789-c351-05f9f5b28cc0"
      },
      "execution_count": null,
      "outputs": [
        {
          "output_type": "stream",
          "name": "stdout",
          "text": [
            "id            0\n",
            "location      0\n",
            "country       0\n",
            "gender        0\n",
            "age           0\n",
            "sym_on        0\n",
            "hosp_vis      0\n",
            "vis_wuhan     0\n",
            "from_wuhan    0\n",
            "death         0\n",
            "recov         0\n",
            "symptom1      0\n",
            "symptom2      0\n",
            "symptom3      0\n",
            "symptom4      0\n",
            "symptom5      0\n",
            "symptom6      0\n",
            "dtype: int64\n"
          ]
        }
      ]
    },
    {
      "cell_type": "markdown",
      "source": [
        "## Check For Irregular Data"
      ],
      "metadata": {
        "id": "wWK3_GhIvMwz"
      }
    },
    {
      "cell_type": "code",
      "source": [
        "import numpy as np\n",
        "\n",
        "# check for irregular data\n",
        "irregular_data = df[~df.applymap(lambda x: isinstance(x, (int, float, np.number))).all(axis=1)]\n",
        "if not irregular_data.empty:\n",
        "    print(\"Irregular data detected:\")\n",
        "    print(irregular_data)\n",
        "else:\n",
        "    print(\"No irregular data detected.\")"
      ],
      "metadata": {
        "colab": {
          "base_uri": "https://localhost:8080/"
        },
        "id": "th98y2vMvTcM",
        "outputId": "47a016a7-0eca-4280-e623-096d92f3435b"
      },
      "execution_count": null,
      "outputs": [
        {
          "output_type": "stream",
          "name": "stdout",
          "text": [
            "Irregular data detected:\n",
            "        id             location      country  gender        age     sym_on  \\\n",
            "0        1  Shenzhen, Guangdong        China    male  66.000000   1/3/2020   \n",
            "1        2             Shanghai        China  female  56.000000  1/15/2020   \n",
            "2        3             Zhejiang        China    male  46.000000   1/4/2020   \n",
            "3        4              Tianjin        China  female  60.000000  1/23/2020   \n",
            "4        5              Tianjin        China    male  58.000000  1/23/2020   \n",
            "...    ...                  ...          ...     ...        ...        ...   \n",
            "1080  1081            Innsbruck      Austria    male  24.000000  1/23/2020   \n",
            "1081  1082          Afghanistan  Afghanistan    male  35.000000  1/23/2020   \n",
            "1082  1083              Algeria      Algeria    male  49.483689  1/23/2020   \n",
            "1083  1084              Croatia      Croatia    male  49.483689  1/23/2020   \n",
            "1084  1085                 Bern  Switzerland    male  70.000000  1/23/2020   \n",
            "\n",
            "       hosp_vis  vis_wuhan  from_wuhan  death  recov symptom1 symptom2  \\\n",
            "0     1/11/2020          1         0.0      0      0    fever    cough   \n",
            "1     1/15/2020          0         1.0      0      0    fever    cough   \n",
            "2     1/17/2020          0         1.0      0      0    fever    cough   \n",
            "3     1/23/2020          1         0.0      0      0    fever    cough   \n",
            "4     1/23/2020          0         0.0      0      0    fever    cough   \n",
            "...         ...        ...         ...    ...    ...      ...      ...   \n",
            "1080  1/23/2020          0         0.0      0      0    fever    cough   \n",
            "1081  1/23/2020          0         0.0      0      0    fever    cough   \n",
            "1082  1/23/2020          0         0.0      0      0    fever    cough   \n",
            "1083  1/23/2020          0         0.0      0      0    fever    cough   \n",
            "1084  1/23/2020          0         0.0      0      0    fever    cough   \n",
            "\n",
            "     symptom3 symptom4 symptom5  symptom6  \n",
            "0     malaise  dyspnea    cough  diarrhea  \n",
            "1     malaise  dyspnea    cough  diarrhea  \n",
            "2     malaise  dyspnea    cough  diarrhea  \n",
            "3     malaise  dyspnea    cough  diarrhea  \n",
            "4     malaise  dyspnea    cough  diarrhea  \n",
            "...       ...      ...      ...       ...  \n",
            "1080  malaise  dyspnea    cough  diarrhea  \n",
            "1081  malaise  dyspnea    cough  diarrhea  \n",
            "1082  malaise  dyspnea    cough  diarrhea  \n",
            "1083  malaise  dyspnea    cough  diarrhea  \n",
            "1084  malaise  dyspnea    cough  diarrhea  \n",
            "\n",
            "[1085 rows x 17 columns]\n"
          ]
        }
      ]
    },
    {
      "cell_type": "markdown",
      "source": [
        "Split location into City and province"
      ],
      "metadata": {
        "id": "3WyKonnwwsU1"
      }
    },
    {
      "cell_type": "code",
      "source": [
        "# create new columns 'city' and 'province' by splitting 'location' on comma\n",
        "df[['city', 'province']] = df['location'].str.split(', ', n=1, expand=True)\n",
        "\n",
        "# drop original 'location' column\n",
        "df.drop('location', axis=1, inplace=True)"
      ],
      "metadata": {
        "id": "7Ya9f6T-ww0n"
      },
      "execution_count": null,
      "outputs": []
    },
    {
      "cell_type": "markdown",
      "source": [
        "## Check For Unneccesary Data"
      ],
      "metadata": {
        "id": "qYcZAFngxIRe"
      }
    },
    {
      "cell_type": "code",
      "source": [
        "# check for repetitive and duplicate data\n",
        "if df.duplicated().any():\n",
        "    print(\"Duplicate data detected:\")\n",
        "    print(df[df.duplicated()])\n",
        "else:\n",
        "    print(\"No duplicate data detected.\")"
      ],
      "metadata": {
        "colab": {
          "base_uri": "https://localhost:8080/"
        },
        "id": "tLcX8MAjxJ7L",
        "outputId": "1d599514-a015-45f9-e6a1-4b40646a236a"
      },
      "execution_count": null,
      "outputs": [
        {
          "output_type": "stream",
          "name": "stdout",
          "text": [
            "No duplicate data detected.\n"
          ]
        }
      ]
    },
    {
      "cell_type": "markdown",
      "source": [
        "## Check for Inconsistent Data"
      ],
      "metadata": {
        "id": "GU0sBBCExP5v"
      }
    },
    {
      "cell_type": "code",
      "source": [
        "# check for inconsistent data types\n",
        "for col in df.columns:\n",
        "    if len(df[col].apply(type).value_counts()) > 1:\n",
        "        print(f\"Inconsistent data type found in column {col}\")\n",
        "\n",
        "# check for values outside of expected range\n",
        "for col in df.columns:\n",
        "    if df[col].dtype == \"int64\":\n",
        "        if df[col].min() < 0 or df[col].max() > 100:\n",
        "            print(f\"Value outside of expected range found in column {col}\")"
      ],
      "metadata": {
        "colab": {
          "base_uri": "https://localhost:8080/"
        },
        "id": "lOyfVM-PxRiP",
        "outputId": "52ca51e1-a7e5-437e-d91d-4366c555d81c"
      },
      "execution_count": null,
      "outputs": [
        {
          "output_type": "stream",
          "name": "stdout",
          "text": [
            "Inconsistent data type found in column province\n",
            "Value outside of expected range found in column id\n"
          ]
        }
      ]
    },
    {
      "cell_type": "markdown",
      "source": [
        "To correct inconsistent data type found in province"
      ],
      "metadata": {
        "id": "X7CRP8iIyP80"
      }
    },
    {
      "cell_type": "code",
      "source": [
        "df['province'] = df['province'].astype(str)"
      ],
      "metadata": {
        "id": "eTGB0XEFyNEj"
      },
      "execution_count": null,
      "outputs": []
    },
    {
      "cell_type": "markdown",
      "source": [
        "Correct column id to be within range"
      ],
      "metadata": {
        "id": "YSbi9go1yX4w"
      }
    },
    {
      "cell_type": "code",
      "source": [
        "# print column id range\n",
        "print(df['id'].min())  # prints the minimum value in the 'id' column\n",
        "print(df['id'].max())  # prints the maximum value in the 'id' column"
      ],
      "metadata": {
        "colab": {
          "base_uri": "https://localhost:8080/"
        },
        "id": "qR73dfljyfLI",
        "outputId": "d7b2ab1e-c366-498f-a4bb-a18381ea15d9"
      },
      "execution_count": null,
      "outputs": [
        {
          "output_type": "stream",
          "name": "stdout",
          "text": [
            "1\n",
            "1085\n"
          ]
        }
      ]
    },
    {
      "cell_type": "code",
      "source": [
        "# Maximum number is more than 1084. reset column Id to start from 1 and increase by 1 till the end of the dataset\n",
        "df = df.reset_index(drop=True)\n",
        "df['id'] = df.index + 1"
      ],
      "metadata": {
        "id": "k2WrOfhiyw1K"
      },
      "execution_count": null,
      "outputs": []
    },
    {
      "cell_type": "markdown",
      "source": [
        "## **Exploratory Data Analysis**"
      ],
      "metadata": {
        "id": "dw3FOvF00_R-"
      }
    },
    {
      "cell_type": "code",
      "source": [
        "import pandas as pd\n",
        "import matplotlib.pyplot as plt\n",
        "\n",
        "# Histogram of age\n",
        "df['age'].hist(bins=20)\n",
        "plt.title('Histogram of Age')\n",
        "plt.xlabel('Age')\n",
        "plt.ylabel('Count')\n",
        "plt.show()\n",
        "\n",
        "# Scatter plot of age vs death\n",
        "df.plot.scatter(x='age', y='death')\n",
        "plt.title('Scatter Plot of Age vs Death')\n",
        "plt.xlabel('Age')\n",
        "plt.ylabel('Death')\n",
        "plt.show()\n",
        "\n",
        "# Bar chart of country counts\n",
        "df['country'].value_counts().plot.bar()\n",
        "plt.title('Bar Chart of Country Counts')\n",
        "plt.xlabel('Country')\n",
        "plt.ylabel('Count')\n",
        "plt.show()\n",
        "\n",
        "# Box plot of age by gender\n",
        "df.boxplot(column='age', by='gender')\n",
        "plt.title('Box Plot of Age by Gender')\n",
        "plt.xlabel('Gender')\n",
        "plt.ylabel('Age')\n",
        "plt.show()"
      ],
      "metadata": {
        "colab": {
          "base_uri": "https://localhost:8080/",
          "height": 1000
        },
        "id": "HRKoHpjj1An1",
        "outputId": "b35a5d10-6f62-4f49-f0dc-f61d4518e744"
      },
      "execution_count": null,
      "outputs": [
        {
          "output_type": "display_data",
          "data": {
            "text/plain": [
              "<Figure size 640x480 with 1 Axes>"
            ],
            "image/png": "[encoded data removed]"
          },
          "metadata": {}
        },
        {
          "output_type": "display_data",
          "data": {
            "text/plain": [
              "<Figure size 640x480 with 1 Axes>"
            ],
            "image/png": "[encoded data removed]"
          },
          "metadata": {}
        },
        {
          "output_type": "display_data",
          "data": {
            "text/plain": [
              "<Figure size 640x480 with 1 Axes>"
            ],
            "image/png": "[encoded data removed]"
          },
          "metadata": {}
        },
        {
          "output_type": "display_data",
          "data": {
            "text/plain": [
              "<Figure size 640x480 with 1 Axes>"
            ],
            "image/png": "[encoded data removed]"
          },
          "metadata": {}
        }
      ]
    },
    {
      "cell_type": "markdown",
      "source": [
        "# **Feature Engineering**"
      ],
      "metadata": {
        "id": "b9ENuX8Nf0QM"
      }
    },
    {
      "cell_type": "markdown",
      "source": [
        "## Select Featured And Target Variable"
      ],
      "metadata": {
        "id": "_8IM9bvIzJ9K"
      }
    },
    {
      "cell_type": "code",
      "source": [
        "# Print Columns\n",
        "print(df.columns)"
      ],
      "metadata": {
        "colab": {
          "base_uri": "https://localhost:8080/"
        },
        "id": "twX02WnQzLdR",
        "outputId": "335602d5-b868-4da5-d3ea-e3d6ae65b23d"
      },
      "execution_count": null,
      "outputs": [
        {
          "output_type": "stream",
          "name": "stdout",
          "text": [
            "Index(['id', 'country', 'gender', 'age', 'sym_on', 'hosp_vis', 'vis_wuhan',\n",
            "       'from_wuhan', 'death', 'recov', 'symptom1', 'symptom2', 'symptom3',\n",
            "       'symptom4', 'symptom5', 'symptom6', 'city', 'province'],\n",
            "      dtype='object')\n"
          ]
        }
      ]
    },
    {
      "cell_type": "code",
      "source": [
        "# Select the target variables\n",
        "target = ['death', 'recov']\n",
        "\n",
        "# Select the feature variables\n",
        "feature_variables = ['country', 'gender', 'age', 'sym_on', 'hosp_vis', 'vis_wuhan', 'from_wuhan', 'symptom1', 'symptom2', 'symptom3', 'symptom4', 'symptom5', 'symptom6']"
      ],
      "metadata": {
        "id": "qafyRSBtzWug"
      },
      "execution_count": null,
      "outputs": []
    },
    {
      "cell_type": "markdown",
      "source": [
        "## Encode Categorical Variables\n",
        "Using Label Encoder"
      ],
      "metadata": {
        "id": "EGpWVQXrDk26"
      }
    },
    {
      "cell_type": "code",
      "source": [
        "from sklearn.preprocessing import LabelEncoder\n",
        "\n",
        "# Define categorical and numerical columns\n",
        "cat_vars = ['gender', 'country', 'sym_on', 'hosp_vis', 'symptom1', 'symptom2', 'symptom3', 'symptom4', 'symptom5', 'symptom6']\n",
        "num_vars = ['age', 'vis_wuhan', 'from_wuhan']\n",
        "\n",
        "# Encode the target variable y\n",
        "le = LabelEncoder()\n",
        "y = le.fit_transform(df[target].values.ravel())\n",
        "\n",
        "# Encode the categorical columns\n",
        "encoded_cols = pd.get_dummies(df[cat_vars], columns=cat_vars)\n",
        "\n",
        "# Concatenate the encoded columns with the numerical columns\n",
        "X = pd.concat([encoded_cols, df[num_vars]], axis=1)\n",
        "\n",
        "# Print the encoded data\n",
        "print(encoded_cols)"
      ],
      "metadata": {
        "colab": {
          "base_uri": "https://localhost:8080/"
        },
        "id": "EUSGFNfXEHy9",
        "outputId": "23da6e20-95c6-4157-c1a7-6259afb4004c"
      },
      "execution_count": null,
      "outputs": [
        {
          "output_type": "stream",
          "name": "stdout",
          "text": [
            "      gender_female  gender_male  country_Afghanistan  country_Algeria  \\\n",
            "0                 0            1                    0                0   \n",
            "1                 1            0                    0                0   \n",
            "2                 0            1                    0                0   \n",
            "3                 1            0                    0                0   \n",
            "4                 0            1                    0                0   \n",
            "...             ...          ...                  ...              ...   \n",
            "1080              0            1                    0                0   \n",
            "1081              0            1                    1                0   \n",
            "1082              0            1                    0                1   \n",
            "1083              0            1                    0                0   \n",
            "1084              0            1                    0                0   \n",
            "\n",
            "      country_Australia  country_Austria  country_Bahrain  country_Belgium  \\\n",
            "0                     0                0                0                0   \n",
            "1                     0                0                0                0   \n",
            "2                     0                0                0                0   \n",
            "3                     0                0                0                0   \n",
            "4                     0                0                0                0   \n",
            "...                 ...              ...              ...              ...   \n",
            "1080                  0                1                0                0   \n",
            "1081                  0                0                0                0   \n",
            "1082                  0                0                0                0   \n",
            "1083                  0                0                0                0   \n",
            "1084                  0                0                0                0   \n",
            "\n",
            "      country_Cambodia  country_Canada  ...  symptom4_joint pain  \\\n",
            "0                    0               0  ...                    0   \n",
            "1                    0               0  ...                    0   \n",
            "2                    0               0  ...                    0   \n",
            "3                    0               0  ...                    0   \n",
            "4                    0               0  ...                    0   \n",
            "...                ...             ...  ...                  ...   \n",
            "1080                 0               0  ...                    0   \n",
            "1081                 0               0  ...                    0   \n",
            "1082                 0               0  ...                    0   \n",
            "1083                 0               0  ...                    0   \n",
            "1084                 0               0  ...                    0   \n",
            "\n",
            "      symptom4_malaise  symptom4_nausea  symptom4_runny nose  \\\n",
            "0                    0                0                    0   \n",
            "1                    0                0                    0   \n",
            "2                    0                0                    0   \n",
            "3                    0                0                    0   \n",
            "4                    0                0                    0   \n",
            "...                ...              ...                  ...   \n",
            "1080                 0                0                    0   \n",
            "1081                 0                0                    0   \n",
            "1082                 0                0                    0   \n",
            "1083                 0                0                    0   \n",
            "1084                 0                0                    0   \n",
            "\n",
            "      symptom4_sore throat  symptom4_vomiting  symptom5_cough  \\\n",
            "0                        0                  0               1   \n",
            "1                        0                  0               1   \n",
            "2                        0                  0               1   \n",
            "3                        0                  0               1   \n",
            "4                        0                  0               1   \n",
            "...                    ...                ...             ...   \n",
            "1080                     0                  0               1   \n",
            "1081                     0                  0               1   \n",
            "1082                     0                  0               1   \n",
            "1083                     0                  0               1   \n",
            "1084                     0                  0               1   \n",
            "\n",
            "      symptom5_shortness of breath  symptom5_vomiting  symptom6_diarrhea  \n",
            "0                                0                  0                  1  \n",
            "1                                0                  0                  1  \n",
            "2                                0                  0                  1  \n",
            "3                                0                  0                  1  \n",
            "4                                0                  0                  1  \n",
            "...                            ...                ...                ...  \n",
            "1080                             0                  0                  1  \n",
            "1081                             0                  0                  1  \n",
            "1082                             0                  0                  1  \n",
            "1083                             0                  0                  1  \n",
            "1084                             0                  0                  1  \n",
            "\n",
            "[1085 rows x 255 columns]\n"
          ]
        }
      ]
    },
    {
      "cell_type": "markdown",
      "source": [
        "# **Implentation**"
      ],
      "metadata": {
        "id": "npmTYY3shPA7"
      }
    },
    {
      "cell_type": "markdown",
      "source": [
        "## Split Data to test and train"
      ],
      "metadata": {
        "id": "duQs5Y3t6ajT"
      }
    },
    {
      "cell_type": "code",
      "source": [
        "from sklearn.model_selection import train_test_split\n",
        "\n",
        "# Split into features and target variable\n",
        "y = df[['death']]\n",
        "X = df.drop(['death'], axis=1)\n",
        "\n",
        "# Split into train and test sets\n",
        "X_train, X_test, y_train, y_test = train_test_split(encoded_cols, y, test_size=0.2, random_state=42)"
      ],
      "metadata": {
        "id": "4mYAoHvs6cj2"
      },
      "execution_count": null,
      "outputs": []
    },
    {
      "cell_type": "markdown",
      "source": [
        "## **Build Boosted Random Classifier**"
      ],
      "metadata": {
        "id": "nYefLKpW7hpc"
      }
    },
    {
      "cell_type": "code",
      "source": [
        "from sklearn.ensemble import GradientBoostingClassifier\n",
        "\n",
        "gbrt = GradientBoostingClassifier(random_state=42)"
      ],
      "metadata": {
        "id": "SglPGlnjBW9V"
      },
      "execution_count": null,
      "outputs": []
    },
    {
      "cell_type": "markdown",
      "source": [
        "## Fit Model To Train Set"
      ],
      "metadata": {
        "id": "D6k2CsiZBlKe"
      }
    },
    {
      "cell_type": "code",
      "source": [
        "# Convert y_train to numpy array and flatten it\n",
        "y_train = y_train.values.ravel()\n",
        "\n",
        "# Train model\n",
        "gbrt.fit(X_train, y_train)"
      ],
      "metadata": {
        "colab": {
          "base_uri": "https://localhost:8080/",
          "height": 75
        },
        "id": "oa01kUEhBrq5",
        "outputId": "fdf8d1b8-d15e-49af-8dbe-1227ab292500"
      },
      "execution_count": null,
      "outputs": [
        {
          "output_type": "execute_result",
          "data": {
            "text/plain": [
              "GradientBoostingClassifier(random_state=42)"
            ],
            "text/html": [
              "<style>#sk-container-id-1 {color: black;background-color: white;}#sk-container-id-1 pre{padding: 0;}#sk-container-id-1 div.sk-toggleable {background-color: white;}#sk-container-id-1 label.sk-toggleable__label {cursor: pointer;display: block;width: 100%;margin-bottom: 0;padding: 0.3em;box-sizing: border-box;text-align: center;}#sk-container-id-1 label.sk-toggleable__label-arrow:before {content: \"▸\";float: left;margin-right: 0.25em;color: #696969;}#sk-container-id-1 label.sk-toggleable__label-arrow:hover:before {color: black;}#sk-container-id-1 div.sk-estimator:hover label.sk-toggleable__label-arrow:before {color: black;}#sk-container-id-1 div.sk-toggleable__content {max-height: 0;max-width: 0;overflow: hidden;text-align: left;background-color: #f0f8ff;}#sk-container-id-1 div.sk-toggleable__content pre {margin: 0.2em;color: black;border-radius: 0.25em;background-color: #f0f8ff;}#sk-container-id-1 input.sk-toggleable__control:checked~div.sk-toggleable__content {max-height: 200px;max-width: 100%;overflow: auto;}#sk-container-id-1 input.sk-toggleable__control:checked~label.sk-toggleable__label-arrow:before {content: \"▾\";}#sk-container-id-1 div.sk-estimator input.sk-toggleable__control:checked~label.sk-toggleable__label {background-color: #d4ebff;}#sk-container-id-1 div.sk-label input.sk-toggleable__control:checked~label.sk-toggleable__label {background-color: #d4ebff;}#sk-container-id-1 input.sk-hidden--visually {border: 0;clip: rect(1px 1px 1px 1px);clip: rect(1px, 1px, 1px, 1px);height: 1px;margin: -1px;overflow: hidden;padding: 0;position: absolute;width: 1px;}#sk-container-id-1 div.sk-estimator {font-family: monospace;background-color: #f0f8ff;border: 1px dotted black;border-radius: 0.25em;box-sizing: border-box;margin-bottom: 0.5em;}#sk-container-id-1 div.sk-estimator:hover {background-color: #d4ebff;}#sk-container-id-1 div.sk-parallel-item::after {content: \"\";width: 100%;border-bottom: 1px solid gray;flex-grow: 1;}#sk-container-id-1 div.sk-label:hover label.sk-toggleable__label {background-color: #d4ebff;}#sk-container-id-1 div.sk-serial::before {content: \"\";position: absolute;border-left: 1px solid gray;box-sizing: border-box;top: 0;bottom: 0;left: 50%;z-index: 0;}#sk-container-id-1 div.sk-serial {display: flex;flex-direction: column;align-items: center;background-color: white;padding-right: 0.2em;padding-left: 0.2em;position: relative;}#sk-container-id-1 div.sk-item {position: relative;z-index: 1;}#sk-container-id-1 div.sk-parallel {display: flex;align-items: stretch;justify-content: center;background-color: white;position: relative;}#sk-container-id-1 div.sk-item::before, #sk-container-id-1 div.sk-parallel-item::before {content: \"\";position: absolute;border-left: 1px solid gray;box-sizing: border-box;top: 0;bottom: 0;left: 50%;z-index: -1;}#sk-container-id-1 div.sk-parallel-item {display: flex;flex-direction: column;z-index: 1;position: relative;background-color: white;}#sk-container-id-1 div.sk-parallel-item:first-child::after {align-self: flex-end;width: 50%;}#sk-container-id-1 div.sk-parallel-item:last-child::after {align-self: flex-start;width: 50%;}#sk-container-id-1 div.sk-parallel-item:only-child::after {width: 0;}#sk-container-id-1 div.sk-dashed-wrapped {border: 1px dashed gray;margin: 0 0.4em 0.5em 0.4em;box-sizing: border-box;padding-bottom: 0.4em;background-color: white;}#sk-container-id-1 div.sk-label label {font-family: monospace;font-weight: bold;display: inline-block;line-height: 1.2em;}#sk-container-id-1 div.sk-label-container {text-align: center;}#sk-container-id-1 div.sk-container {/* jupyter's `normalize.less` sets `[hidden] { display: none; }` but bootstrap.min.css set `[hidden] { display: none !important; }` so we also need the `!important` here to be able to override the default hidden behavior on the sphinx rendered scikit-learn.org. See: https://github.com/scikit-learn/scikit-learn/issues/21755 */display: inline-block !important;position: relative;}#sk-container-id-1 div.sk-text-repr-fallback {display: none;}</style><div id=\"sk-container-id-1\" class=\"sk-top-container\"><div class=\"sk-text-repr-fallback\"><pre>GradientBoostingClassifier(random_state=42)</pre><b>In a Jupyter environment, please rerun this cell to show the HTML representation or trust the notebook. <br />On GitHub, the HTML representation is unable to render, please try loading this page with nbviewer.org.</b></div><div class=\"sk-container\" hidden><div class=\"sk-item\"><div class=\"sk-estimator sk-toggleable\"><input class=\"sk-toggleable__control sk-hidden--visually\" id=\"sk-estimator-id-1\" type=\"checkbox\" checked><label for=\"sk-estimator-id-1\" class=\"sk-toggleable__label sk-toggleable__label-arrow\">GradientBoostingClassifier</label><div class=\"sk-toggleable__content\"><pre>GradientBoostingClassifier(random_state=42)</pre></div></div></div></div></div>"
            ]
          },
          "metadata": {},
          "execution_count": 227
        }
      ]
    },
    {
      "cell_type": "markdown",
      "source": [
        "## Test Model With Test Data"
      ],
      "metadata": {
        "id": "V3nX3n8bLoNN"
      }
    },
    {
      "cell_type": "code",
      "source": [
        "y_pred = gbrt.predict(X_test)"
      ],
      "metadata": {
        "id": "XIyeplyhBwc1"
      },
      "execution_count": null,
      "outputs": []
    },
    {
      "cell_type": "markdown",
      "source": [
        "## Print Model Accuracy"
      ],
      "metadata": {
        "id": "T5oSnCenLuPp"
      }
    },
    {
      "cell_type": "code",
      "source": [
        "from sklearn.metrics import accuracy_score\n",
        "\n",
        "accuracy = accuracy_score(y_test, y_pred)\n",
        "print(\"Accuracy: \", accuracy)\n"
      ],
      "metadata": {
        "colab": {
          "base_uri": "https://localhost:8080/"
        },
        "id": "6WBKwInABzNR",
        "outputId": "d1b93910-f5d3-4074-98df-4a90ced2f920"
      },
      "execution_count": null,
      "outputs": [
        {
          "output_type": "stream",
          "name": "stdout",
          "text": [
            "Accuracy:  0.9308755760368663\n"
          ]
        }
      ]
    },
    {
      "cell_type": "markdown",
      "source": [
        "## Apply Hyperparameter Grid\n",
        "this is to increase accuracy"
      ],
      "metadata": {
        "id": "5BuRz0-PQMDs"
      }
    },
    {
      "cell_type": "code",
      "source": [
        "from sklearn.ensemble import GradientBoostingClassifier\n",
        "from sklearn.model_selection import GridSearchCV\n",
        "from sklearn.pipeline import Pipeline\n",
        "\n",
        "# Define the pipeline\n",
        "pipeline = Pipeline([\n",
        "    ('clf', GradientBoostingClassifier(random_state=42))\n",
        "])\n",
        "\n",
        "# Define the hyperparameter grid to search\n",
        "param_grid = {\n",
        "    'clf__n_estimators': [50, 100, 200],\n",
        "    'clf__max_depth': [3, 5, 7],\n",
        "    'clf__min_samples_leaf': [1, 5, 10],\n",
        "    'clf__learning_rate': [0.01, 0.1, 1]\n",
        "}\n",
        "\n",
        "# Create the GridSearchCV object\n",
        "gsearch = GridSearchCV(pipeline, param_grid, cv=5, n_jobs=-1)\n",
        "\n",
        "# Fit the GridSearchCV object to the training data\n",
        "gsearch.fit(X_train, y_train)\n",
        "\n",
        "# Print the best hyperparameters and best score\n",
        "print(\"Best Hyperparameters: \", gsearch.best_params_)\n",
        "print(\"Best Score: \", gsearch.best_score_)"
      ],
      "metadata": {
        "colab": {
          "base_uri": "https://localhost:8080/"
        },
        "id": "gBqkpzpaL3_W",
        "outputId": "c8cf7a6d-2c37-4144-f67a-5f87996f7893"
      },
      "execution_count": null,
      "outputs": [
        {
          "output_type": "stream",
          "name": "stdout",
          "text": [
            "Best Hyperparameters:  {'clf__learning_rate': 0.01, 'clf__max_depth': 7, 'clf__min_samples_leaf': 1, 'clf__n_estimators': 100}\n",
            "Best Score:  0.9527672579895023\n"
          ]
        }
      ]
    },
    {
      "cell_type": "markdown",
      "source": [
        "## Evaluation Parameters"
      ],
      "metadata": {
        "id": "mdNLo2dmLzim"
      }
    },
    {
      "cell_type": "code",
      "source": [
        "from sklearn.metrics import accuracy_score, precision_score, recall_score, f1_score\n",
        "\n",
        "# Make predictions on the test set\n",
        "y_pred = gsearch.predict(X_test)\n",
        "\n",
        "# Calculate the accuracy\n",
        "accuracy = accuracy_score(y_test, y_pred)\n",
        "\n",
        "# Calculate the precision\n",
        "precision = precision_score(y_test, y_pred)\n",
        "\n",
        "# Calculate the recall\n",
        "recall = recall_score(y_test, y_pred)\n",
        "\n",
        "# Calculate the F1 score\n",
        "f1 = f1_score(y_test, y_pred)\n",
        "\n",
        "# Print the metrics\n",
        "print(\"Accuracy: \", accuracy)\n",
        "print(\"Precision: \", precision)\n",
        "print(\"Recall: \", recall)\n",
        "print(\"F1 score: \", f1)"
      ],
      "metadata": {
        "colab": {
          "base_uri": "https://localhost:8080/"
        },
        "id": "Etg1t21gQ_Ec",
        "outputId": "1b612e86-5dbd-445d-b8d1-3838326a7eba"
      },
      "execution_count": null,
      "outputs": [
        {
          "output_type": "stream",
          "name": "stdout",
          "text": [
            "Accuracy:  0.9400921658986175\n",
            "Precision:  1.0\n",
            "Recall:  0.13333333333333333\n",
            "F1 score:  0.23529411764705882\n"
          ]
        }
      ]
    },
    {
      "cell_type": "code",
      "source": [
        "from sklearn.metrics import classification_report\n",
        "\n",
        "# Create a list of target names for the classification report\n",
        "target_names = ['recover', 'die']\n",
        "\n",
        "# Print the classification report with target names\n",
        "print(classification_report(y_test, y_pred, target_names=target_names))"
      ],
      "metadata": {
        "colab": {
          "base_uri": "https://localhost:8080/"
        },
        "id": "Bfl40_A8QDFb",
        "outputId": "59dd75af-d076-402d-cf6c-e403522f7e65"
      },
      "execution_count": null,
      "outputs": [
        {
          "output_type": "stream",
          "name": "stdout",
          "text": [
            "              precision    recall  f1-score   support\n",
            "\n",
            "     recover       0.94      1.00      0.97       202\n",
            "         die       1.00      0.13      0.24        15\n",
            "\n",
            "    accuracy                           0.94       217\n",
            "   macro avg       0.97      0.57      0.60       217\n",
            "weighted avg       0.94      0.94      0.92       217\n",
            "\n"
          ]
        }
      ]
    },
    {
      "cell_type": "code",
      "source": [
        "import matplotlib.pyplot as plt\n",
        "import numpy as np\n",
        "\n",
        "# Define the precision, recall, and F1-score for the two classes\n",
        "precision = [0.94, 1.0]\n",
        "recall = [1.0, 0.13]\n",
        "f1_score = [0.97, 0.24]\n",
        "labels = ['Recover', 'Die']\n",
        "\n",
        "# Define the x-axis positions for the bars\n",
        "x_pos = np.arange(len(labels))\n",
        "\n",
        "# Create the bar plot\n",
        "plt.bar(x_pos, precision, align='center', alpha=0.5, label='Precision')\n",
        "plt.bar(x_pos, recall, align='center', alpha=0.5, label='Recall')\n",
        "plt.bar(x_pos, f1_score, align='center', alpha=0.5, label='F1-score')\n",
        "\n",
        "# Add axis labels and a title\n",
        "plt.xticks(x_pos, labels)\n",
        "plt.ylabel('Score')\n",
        "plt.title('Classification Metrics')\n",
        "\n",
        "# Add a legend and show the plot\n",
        "plt.legend()\n",
        "plt.show()\n"
      ],
      "metadata": {
        "colab": {
          "base_uri": "https://localhost:8080/",
          "height": 452
        },
        "id": "JQqqVm78S_kb",
        "outputId": "14ac2e4a-13af-492f-ee59-0a1df47296a3"
      },
      "execution_count": null,
      "outputs": [
        {
          "output_type": "display_data",
          "data": {
            "text/plain": [
              "<Figure size 640x480 with 1 Axes>"
            ],
            "image/png": "[encoded data removed]"
          },
          "metadata": {}
        }
      ]
    }
  ]
}