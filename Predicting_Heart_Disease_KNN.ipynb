{
  "nbformat": 4,
  "nbformat_minor": 0,
  "metadata": {
    "colab": {
      "provenance": [],
      "toc_visible": true
    },
    "kernelspec": {
      "name": "python3",
      "display_name": "Python 3"
    },
    "language_info": {
      "name": "python"
    }
  },
  "cells": [
    {
      "cell_type": "markdown",
      "source": [
        "# Start"
      ],
      "metadata": {
        "id": "o_SL0UZlw8oi"
      }
    },
    {
      "cell_type": "markdown",
      "source": [
        "First Import all you will use"
      ],
      "metadata": {
        "id": "_mGuo64AxLQz"
      }
    },
    {
      "cell_type": "code",
      "source": [
        "!pip install matplotlib-venn"
      ],
      "metadata": {
        "colab": {
          "base_uri": "https://localhost:8080/"
        },
        "id": "qLFMlekSxDD6",
        "outputId": "bc3549b9-e0d5-482c-9619-1ad91e3c8134"
      },
      "execution_count": null,
      "outputs": [
        {
          "output_type": "stream",
          "name": "stdout",
          "text": [
            "Looking in indexes: https://pypi.org/simple, https://us-python.pkg.dev/colab-wheels/public/simple/\n",
            "Requirement already satisfied: matplotlib-venn in /usr/local/lib/python3.9/dist-packages (0.11.9)\n",
            "Requirement already satisfied: numpy in /usr/local/lib/python3.9/dist-packages (from matplotlib-venn) (1.22.4)\n",
            "Requirement already satisfied: matplotlib in /usr/local/lib/python3.9/dist-packages (from matplotlib-venn) (3.7.1)\n",
            "Requirement already satisfied: scipy in /usr/local/lib/python3.9/dist-packages (from matplotlib-venn) (1.10.1)\n",
            "Requirement already satisfied: contourpy>=1.0.1 in /usr/local/lib/python3.9/dist-packages (from matplotlib->matplotlib-venn) (1.0.7)\n",
            "Requirement already satisfied: cycler>=0.10 in /usr/local/lib/python3.9/dist-packages (from matplotlib->matplotlib-venn) (0.11.0)\n",
            "Requirement already satisfied: packaging>=20.0 in /usr/local/lib/python3.9/dist-packages (from matplotlib->matplotlib-venn) (23.0)\n",
            "Requirement already satisfied: python-dateutil>=2.7 in /usr/local/lib/python3.9/dist-packages (from matplotlib->matplotlib-venn) (2.8.2)\n",
            "Requirement already satisfied: fonttools>=4.22.0 in /usr/local/lib/python3.9/dist-packages (from matplotlib->matplotlib-venn) (4.39.3)\n",
            "Requirement already satisfied: kiwisolver>=1.0.1 in /usr/local/lib/python3.9/dist-packages (from matplotlib->matplotlib-venn) (1.4.4)\n",
            "Requirement already satisfied: importlib-resources>=3.2.0 in /usr/local/lib/python3.9/dist-packages (from matplotlib->matplotlib-venn) (5.12.0)\n",
            "Requirement already satisfied: pyparsing>=2.3.1 in /usr/local/lib/python3.9/dist-packages (from matplotlib->matplotlib-venn) (3.0.9)\n",
            "Requirement already satisfied: pillow>=6.2.0 in /usr/local/lib/python3.9/dist-packages (from matplotlib->matplotlib-venn) (8.4.0)\n",
            "Requirement already satisfied: zipp>=3.1.0 in /usr/local/lib/python3.9/dist-packages (from importlib-resources>=3.2.0->matplotlib->matplotlib-venn) (3.15.0)\n",
            "Requirement already satisfied: six>=1.5 in /usr/local/lib/python3.9/dist-packages (from python-dateutil>=2.7->matplotlib->matplotlib-venn) (1.16.0)\n"
          ]
        }
      ]
    },
    {
      "cell_type": "code",
      "source": [
        "import numpy as np\n",
        "import pandas as pd\n",
        "import matplotlib.pyplot as plt\n",
        "import seaborn as sb\n",
        "import warnings\n",
        "\n",
        "from sklearn.linear_model import LogisticRegressionCV\n",
        "from sklearn.model_selection import train_test_split, GridSearchCV\n",
        "from sklearn.neighbors import KNeighborsClassifier\n",
        "from sklearn.metrics import (classification_report, confusion_matrix, accuracy_score,\n",
        "                             recall_score, precision_score, roc_curve, roc_auc_score)\n",
        "from imblearn.over_sampling import SMOTE\n",
        "from pylab import rcParams"
      ],
      "metadata": {
        "id": "SC_NO3UCyDKZ"
      },
      "execution_count": null,
      "outputs": []
    },
    {
      "cell_type": "code",
      "source": [
        "import numpy as np\n",
        "import warnings\n",
        "import matplotlib.pyplot as plt\n",
        "from matplotlib import rcParams\n",
        "\n",
        "%matplotlib inline\n",
        "\n",
        "plt.rcParams[\"font.family\"] = \"Calibri\"\n",
        "plt.rcParams[\"font.size\"] = 12\n",
        "rcParams['figure.figsize'] = (5, 3)\n",
        "rcParams['legend.fontsize'] = 8\n",
        "\n",
        "warnings.filterwarnings(\"ignore\")"
      ],
      "metadata": {
        "id": "O-pITzGqzy2y"
      },
      "execution_count": null,
      "outputs": []
    },
    {
      "cell_type": "code",
      "source": [
        "plt.rcParams['font.family'] = 'sans-serif' # Change the font family here"
      ],
      "metadata": {
        "id": "vTKhY1kC9aor"
      },
      "execution_count": null,
      "outputs": []
    },
    {
      "cell_type": "markdown",
      "source": [
        "Let's import our data set"
      ],
      "metadata": {
        "id": "dwdZVDu47jvZ"
      }
    },
    {
      "cell_type": "code",
      "source": [
        "from google.colab import files\n",
        "uploaded = files.upload()"
      ],
      "metadata": {
        "colab": {
          "base_uri": "https://localhost:8080/",
          "height": 73
        },
        "id": "BPcbRjc50F8y",
        "outputId": "88fb8801-7b0d-41d9-b465-f92f2f509acb"
      },
      "execution_count": null,
      "outputs": [
        {
          "output_type": "display_data",
          "data": {
            "text/plain": [
              "<IPython.core.display.HTML object>"
            ],
            "text/html": [
              "\n",
              "     <input type=\"file\" id=\"files-287dbe83-8a17-4828-8f6d-f45e6bb5a158\" name=\"files[]\" multiple disabled\n",
              "        style=\"border:none\" />\n",
              "     <output id=\"result-287dbe83-8a17-4828-8f6d-f45e6bb5a158\">\n",
              "      Upload widget is only available when the cell has been executed in the\n",
              "      current browser session. Please rerun this cell to enable.\n",
              "      </output>\n",
              "      <script>// Copyright 2017 Google LLC\n",
              "//\n",
              "// Licensed under the Apache License, Version 2.0 (the \"License\");\n",
              "// you may not use this file except in compliance with the License.\n",
              "// You may obtain a copy of the License at\n",
              "//\n",
              "//      http://www.apache.org/licenses/LICENSE-2.0\n",
              "//\n",
              "// Unless required by applicable law or agreed to in writing, software\n",
              "// distributed under the License is distributed on an \"AS IS\" BASIS,\n",
              "// WITHOUT WARRANTIES OR CONDITIONS OF ANY KIND, either express or implied.\n",
              "// See the License for the specific language governing permissions and\n",
              "// limitations under the License.\n",
              "\n",
              "/**\n",
              " * @fileoverview Helpers for google.colab Python module.\n",
              " */\n",
              "(function(scope) {\n",
              "function span(text, styleAttributes = {}) {\n",
              "  const element = document.createElement('span');\n",
              "  element.textContent = text;\n",
              "  for (const key of Object.keys(styleAttributes)) {\n",
              "    element.style[key] = styleAttributes[key];\n",
              "  }\n",
              "  return element;\n",
              "}\n",
              "\n",
              "// Max number of bytes which will be uploaded at a time.\n",
              "const MAX_PAYLOAD_SIZE = 100 * 1024;\n",
              "\n",
              "function _uploadFiles(inputId, outputId) {\n",
              "  const steps = uploadFilesStep(inputId, outputId);\n",
              "  const outputElement = document.getElementById(outputId);\n",
              "  // Cache steps on the outputElement to make it available for the next call\n",
              "  // to uploadFilesContinue from Python.\n",
              "  outputElement.steps = steps;\n",
              "\n",
              "  return _uploadFilesContinue(outputId);\n",
              "}\n",
              "\n",
              "// This is roughly an async generator (not supported in the browser yet),\n",
              "// where there are multiple asynchronous steps and the Python side is going\n",
              "// to poll for completion of each step.\n",
              "// This uses a Promise to block the python side on completion of each step,\n",
              "// then passes the result of the previous step as the input to the next step.\n",
              "function _uploadFilesContinue(outputId) {\n",
              "  const outputElement = document.getElementById(outputId);\n",
              "  const steps = outputElement.steps;\n",
              "\n",
              "  const next = steps.next(outputElement.lastPromiseValue);\n",
              "  return Promise.resolve(next.value.promise).then((value) => {\n",
              "    // Cache the last promise value to make it available to the next\n",
              "    // step of the generator.\n",
              "    outputElement.lastPromiseValue = value;\n",
              "    return next.value.response;\n",
              "  });\n",
              "}\n",
              "\n",
              "/**\n",
              " * Generator function which is called between each async step of the upload\n",
              " * process.\n",
              " * @param {string} inputId Element ID of the input file picker element.\n",
              " * @param {string} outputId Element ID of the output display.\n",
              " * @return {!Iterable<!Object>} Iterable of next steps.\n",
              " */\n",
              "function* uploadFilesStep(inputId, outputId) {\n",
              "  const inputElement = document.getElementById(inputId);\n",
              "  inputElement.disabled = false;\n",
              "\n",
              "  const outputElement = document.getElementById(outputId);\n",
              "  outputElement.innerHTML = '';\n",
              "\n",
              "  const pickedPromise = new Promise((resolve) => {\n",
              "    inputElement.addEventListener('change', (e) => {\n",
              "      resolve(e.target.files);\n",
              "    });\n",
              "  });\n",
              "\n",
              "  const cancel = document.createElement('button');\n",
              "  inputElement.parentElement.appendChild(cancel);\n",
              "  cancel.textContent = 'Cancel upload';\n",
              "  const cancelPromise = new Promise((resolve) => {\n",
              "    cancel.onclick = () => {\n",
              "      resolve(null);\n",
              "    };\n",
              "  });\n",
              "\n",
              "  // Wait for the user to pick the files.\n",
              "  const files = yield {\n",
              "    promise: Promise.race([pickedPromise, cancelPromise]),\n",
              "    response: {\n",
              "      action: 'starting',\n",
              "    }\n",
              "  };\n",
              "\n",
              "  cancel.remove();\n",
              "\n",
              "  // Disable the input element since further picks are not allowed.\n",
              "  inputElement.disabled = true;\n",
              "\n",
              "  if (!files) {\n",
              "    return {\n",
              "      response: {\n",
              "        action: 'complete',\n",
              "      }\n",
              "    };\n",
              "  }\n",
              "\n",
              "  for (const file of files) {\n",
              "    const li = document.createElement('li');\n",
              "    li.append(span(file.name, {fontWeight: 'bold'}));\n",
              "    li.append(span(\n",
              "        `(${file.type || 'n/a'}) - ${file.size} bytes, ` +\n",
              "        `last modified: ${\n",
              "            file.lastModifiedDate ? file.lastModifiedDate.toLocaleDateString() :\n",
              "                                    'n/a'} - `));\n",
              "    const percent = span('0% done');\n",
              "    li.appendChild(percent);\n",
              "\n",
              "    outputElement.appendChild(li);\n",
              "\n",
              "    const fileDataPromise = new Promise((resolve) => {\n",
              "      const reader = new FileReader();\n",
              "      reader.onload = (e) => {\n",
              "        resolve(e.target.result);\n",
              "      };\n",
              "      reader.readAsArrayBuffer(file);\n",
              "    });\n",
              "    // Wait for the data to be ready.\n",
              "    let fileData = yield {\n",
              "      promise: fileDataPromise,\n",
              "      response: {\n",
              "        action: 'continue',\n",
              "      }\n",
              "    };\n",
              "\n",
              "    // Use a chunked sending to avoid message size limits. See b/62115660.\n",
              "    let position = 0;\n",
              "    do {\n",
              "      const length = Math.min(fileData.byteLength - position, MAX_PAYLOAD_SIZE);\n",
              "      const chunk = new Uint8Array(fileData, position, length);\n",
              "      position += length;\n",
              "\n",
              "      const base64 = btoa(String.fromCharCode.apply(null, chunk));\n",
              "      yield {\n",
              "        response: {\n",
              "          action: 'append',\n",
              "          file: file.name,\n",
              "          data: base64,\n",
              "        },\n",
              "      };\n",
              "\n",
              "      let percentDone = fileData.byteLength === 0 ?\n",
              "          100 :\n",
              "          Math.round((position / fileData.byteLength) * 100);\n",
              "      percent.textContent = `${percentDone}% done`;\n",
              "\n",
              "    } while (position < fileData.byteLength);\n",
              "  }\n",
              "\n",
              "  // All done.\n",
              "  yield {\n",
              "    response: {\n",
              "      action: 'complete',\n",
              "    }\n",
              "  };\n",
              "}\n",
              "\n",
              "scope.google = scope.google || {};\n",
              "scope.google.colab = scope.google.colab || {};\n",
              "scope.google.colab._files = {\n",
              "  _uploadFiles,\n",
              "  _uploadFilesContinue,\n",
              "};\n",
              "})(self);\n",
              "</script> "
            ]
          },
          "metadata": {}
        },
        {
          "output_type": "stream",
          "name": "stdout",
          "text": [
            "Saving heart_2020_cleaned.csv to heart_2020_cleaned.csv\n"
          ]
        }
      ]
    },
    {
      "cell_type": "markdown",
      "source": [
        "The data for the dataset came from Personal Key Indicators in Kaggle, which includes a number of risk factors and significant markers for heart disease, including high BMI (obesity), diabetes, smoking, and alcohol usage."
      ],
      "metadata": {
        "id": "v9-QklQz6Jbj"
      }
    },
    {
      "cell_type": "code",
      "source": [
        "heart_disease_df = pd.read_csv('heart_2020_cleaned.csv')\n",
        "heart_disease_df.head(5)"
      ],
      "metadata": {
        "colab": {
          "base_uri": "https://localhost:8080/",
          "height": 270
        },
        "id": "l6Yo_JU90BBj",
        "outputId": "f71ee53f-f8b6-41df-e191-1fae0b85ae1c"
      },
      "execution_count": null,
      "outputs": [
        {
          "output_type": "execute_result",
          "data": {
            "text/plain": [
              "  HeartDisease    BMI Smoking AlcoholDrinking Stroke  PhysicalHealth  \\\n",
              "0           No  16.60     Yes              No     No             3.0   \n",
              "1           No  20.34      No              No    Yes             0.0   \n",
              "2           No  26.58     Yes              No     No            20.0   \n",
              "3           No  24.21      No              No     No             0.0   \n",
              "4           No  23.71      No              No     No            28.0   \n",
              "\n",
              "   MentalHealth DiffWalking     Sex  AgeCategory   Race Diabetic  \\\n",
              "0          30.0          No  Female        55-59  White      Yes   \n",
              "1           0.0          No  Female  80 or older  White       No   \n",
              "2          30.0          No    Male        65-69  White      Yes   \n",
              "3           0.0          No  Female        75-79  White       No   \n",
              "4           0.0         Yes  Female        40-44  White       No   \n",
              "\n",
              "  PhysicalActivity  GenHealth  SleepTime Asthma KidneyDisease SkinCancer  \n",
              "0              Yes  Very good        5.0    Yes            No        Yes  \n",
              "1              Yes  Very good        7.0     No            No         No  \n",
              "2              Yes       Fair        8.0    Yes            No         No  \n",
              "3               No       Good        6.0     No            No        Yes  \n",
              "4              Yes  Very good        8.0     No            No         No  "
            ],
            "text/html": [
              "\n",
              "  <div id=\"df-385ff21c-bed3-4a36-aa52-d8f98fd503ad\">\n",
              "    <div class=\"colab-df-container\">\n",
              "      <div>\n",
              "<style scoped>\n",
              "    .dataframe tbody tr th:only-of-type {\n",
              "        vertical-align: middle;\n",
              "    }\n",
              "\n",
              "    .dataframe tbody tr th {\n",
              "        vertical-align: top;\n",
              "    }\n",
              "\n",
              "    .dataframe thead th {\n",
              "        text-align: right;\n",
              "    }\n",
              "</style>\n",
              "<table border=\"1\" class=\"dataframe\">\n",
              "  <thead>\n",
              "    <tr style=\"text-align: right;\">\n",
              "      <th></th>\n",
              "      <th>HeartDisease</th>\n",
              "      <th>BMI</th>\n",
              "      <th>Smoking</th>\n",
              "      <th>AlcoholDrinking</th>\n",
              "      <th>Stroke</th>\n",
              "      <th>PhysicalHealth</th>\n",
              "      <th>MentalHealth</th>\n",
              "      <th>DiffWalking</th>\n",
              "      <th>Sex</th>\n",
              "      <th>AgeCategory</th>\n",
              "      <th>Race</th>\n",
              "      <th>Diabetic</th>\n",
              "      <th>PhysicalActivity</th>\n",
              "      <th>GenHealth</th>\n",
              "      <th>SleepTime</th>\n",
              "      <th>Asthma</th>\n",
              "      <th>KidneyDisease</th>\n",
              "      <th>SkinCancer</th>\n",
              "    </tr>\n",
              "  </thead>\n",
              "  <tbody>\n",
              "    <tr>\n",
              "      <th>0</th>\n",
              "      <td>No</td>\n",
              "      <td>16.60</td>\n",
              "      <td>Yes</td>\n",
              "      <td>No</td>\n",
              "      <td>No</td>\n",
              "      <td>3.0</td>\n",
              "      <td>30.0</td>\n",
              "      <td>No</td>\n",
              "      <td>Female</td>\n",
              "      <td>55-59</td>\n",
              "      <td>White</td>\n",
              "      <td>Yes</td>\n",
              "      <td>Yes</td>\n",
              "      <td>Very good</td>\n",
              "      <td>5.0</td>\n",
              "      <td>Yes</td>\n",
              "      <td>No</td>\n",
              "      <td>Yes</td>\n",
              "    </tr>\n",
              "    <tr>\n",
              "      <th>1</th>\n",
              "      <td>No</td>\n",
              "      <td>20.34</td>\n",
              "      <td>No</td>\n",
              "      <td>No</td>\n",
              "      <td>Yes</td>\n",
              "      <td>0.0</td>\n",
              "      <td>0.0</td>\n",
              "      <td>No</td>\n",
              "      <td>Female</td>\n",
              "      <td>80 or older</td>\n",
              "      <td>White</td>\n",
              "      <td>No</td>\n",
              "      <td>Yes</td>\n",
              "      <td>Very good</td>\n",
              "      <td>7.0</td>\n",
              "      <td>No</td>\n",
              "      <td>No</td>\n",
              "      <td>No</td>\n",
              "    </tr>\n",
              "    <tr>\n",
              "      <th>2</th>\n",
              "      <td>No</td>\n",
              "      <td>26.58</td>\n",
              "      <td>Yes</td>\n",
              "      <td>No</td>\n",
              "      <td>No</td>\n",
              "      <td>20.0</td>\n",
              "      <td>30.0</td>\n",
              "      <td>No</td>\n",
              "      <td>Male</td>\n",
              "      <td>65-69</td>\n",
              "      <td>White</td>\n",
              "      <td>Yes</td>\n",
              "      <td>Yes</td>\n",
              "      <td>Fair</td>\n",
              "      <td>8.0</td>\n",
              "      <td>Yes</td>\n",
              "      <td>No</td>\n",
              "      <td>No</td>\n",
              "    </tr>\n",
              "    <tr>\n",
              "      <th>3</th>\n",
              "      <td>No</td>\n",
              "      <td>24.21</td>\n",
              "      <td>No</td>\n",
              "      <td>No</td>\n",
              "      <td>No</td>\n",
              "      <td>0.0</td>\n",
              "      <td>0.0</td>\n",
              "      <td>No</td>\n",
              "      <td>Female</td>\n",
              "      <td>75-79</td>\n",
              "      <td>White</td>\n",
              "      <td>No</td>\n",
              "      <td>No</td>\n",
              "      <td>Good</td>\n",
              "      <td>6.0</td>\n",
              "      <td>No</td>\n",
              "      <td>No</td>\n",
              "      <td>Yes</td>\n",
              "    </tr>\n",
              "    <tr>\n",
              "      <th>4</th>\n",
              "      <td>No</td>\n",
              "      <td>23.71</td>\n",
              "      <td>No</td>\n",
              "      <td>No</td>\n",
              "      <td>No</td>\n",
              "      <td>28.0</td>\n",
              "      <td>0.0</td>\n",
              "      <td>Yes</td>\n",
              "      <td>Female</td>\n",
              "      <td>40-44</td>\n",
              "      <td>White</td>\n",
              "      <td>No</td>\n",
              "      <td>Yes</td>\n",
              "      <td>Very good</td>\n",
              "      <td>8.0</td>\n",
              "      <td>No</td>\n",
              "      <td>No</td>\n",
              "      <td>No</td>\n",
              "    </tr>\n",
              "  </tbody>\n",
              "</table>\n",
              "</div>\n",
              "      <button class=\"colab-df-convert\" onclick=\"convertToInteractive('df-385ff21c-bed3-4a36-aa52-d8f98fd503ad')\"\n",
              "              title=\"Convert this dataframe to an interactive table.\"\n",
              "              style=\"display:none;\">\n",
              "        \n",
              "  <svg xmlns=\"http://www.w3.org/2000/svg\" height=\"24px\"viewBox=\"0 0 24 24\"\n",
              "       width=\"24px\">\n",
              "    <path d=\"M0 0h24v24H0V0z\" fill=\"none\"/>\n",
              "    <path d=\"M18.56 5.44l.94 2.06.94-2.06 2.06-.94-2.06-.94-.94-2.06-.94 2.06-2.06.94zm-11 1L8.5 8.5l.94-2.06 2.06-.94-2.06-.94L8.5 2.5l-.94 2.06-2.06.94zm10 10l.94 2.06.94-2.06 2.06-.94-2.06-.94-.94-2.06-.94 2.06-2.06.94z\"/><path d=\"M17.41 7.96l-1.37-1.37c-.4-.4-.92-.59-1.43-.59-.52 0-1.04.2-1.43.59L10.3 9.45l-7.72 7.72c-.78.78-.78 2.05 0 2.83L4 21.41c.39.39.9.59 1.41.59.51 0 1.02-.2 1.41-.59l7.78-7.78 2.81-2.81c.8-.78.8-2.07 0-2.86zM5.41 20L4 18.59l7.72-7.72 1.47 1.35L5.41 20z\"/>\n",
              "  </svg>\n",
              "      </button>\n",
              "      \n",
              "  <style>\n",
              "    .colab-df-container {\n",
              "      display:flex;\n",
              "      flex-wrap:wrap;\n",
              "      gap: 12px;\n",
              "    }\n",
              "\n",
              "    .colab-df-convert {\n",
              "      background-color: #E8F0FE;\n",
              "      border: none;\n",
              "      border-radius: 50%;\n",
              "      cursor: pointer;\n",
              "      display: none;\n",
              "      fill: #1967D2;\n",
              "      height: 32px;\n",
              "      padding: 0 0 0 0;\n",
              "      width: 32px;\n",
              "    }\n",
              "\n",
              "    .colab-df-convert:hover {\n",
              "      background-color: #E2EBFA;\n",
              "      box-shadow: 0px 1px 2px rgba(60, 64, 67, 0.3), 0px 1px 3px 1px rgba(60, 64, 67, 0.15);\n",
              "      fill: #174EA6;\n",
              "    }\n",
              "\n",
              "    [theme=dark] .colab-df-convert {\n",
              "      background-color: #3B4455;\n",
              "      fill: #D2E3FC;\n",
              "    }\n",
              "\n",
              "    [theme=dark] .colab-df-convert:hover {\n",
              "      background-color: #434B5C;\n",
              "      box-shadow: 0px 1px 3px 1px rgba(0, 0, 0, 0.15);\n",
              "      filter: drop-shadow(0px 1px 2px rgba(0, 0, 0, 0.3));\n",
              "      fill: #FFFFFF;\n",
              "    }\n",
              "  </style>\n",
              "\n",
              "      <script>\n",
              "        const buttonEl =\n",
              "          document.querySelector('#df-385ff21c-bed3-4a36-aa52-d8f98fd503ad button.colab-df-convert');\n",
              "        buttonEl.style.display =\n",
              "          google.colab.kernel.accessAllowed ? 'block' : 'none';\n",
              "\n",
              "        async function convertToInteractive(key) {\n",
              "          const element = document.querySelector('#df-385ff21c-bed3-4a36-aa52-d8f98fd503ad');\n",
              "          const dataTable =\n",
              "            await google.colab.kernel.invokeFunction('convertToInteractive',\n",
              "                                                     [key], {});\n",
              "          if (!dataTable) return;\n",
              "\n",
              "          const docLinkHtml = 'Like what you see? Visit the ' +\n",
              "            '<a target=\"_blank\" href=https://colab.research.google.com/notebooks/data_table.ipynb>data table notebook</a>'\n",
              "            + ' to learn more about interactive tables.';\n",
              "          element.innerHTML = '';\n",
              "          dataTable['output_type'] = 'display_data';\n",
              "          await google.colab.output.renderOutput(dataTable, element);\n",
              "          const docLink = document.createElement('div');\n",
              "          docLink.innerHTML = docLinkHtml;\n",
              "          element.appendChild(docLink);\n",
              "        }\n",
              "      </script>\n",
              "    </div>\n",
              "  </div>\n",
              "  "
            ]
          },
          "metadata": {},
          "execution_count": 9
        }
      ]
    },
    {
      "cell_type": "markdown",
      "source": [
        "# Transform Data\n",
        "\n"
      ],
      "metadata": {
        "id": "ER6_Nc6O8k4u"
      }
    },
    {
      "cell_type": "markdown",
      "source": [
        "Choose only the pertinent columns to reduce the data to those that have a substantial impact on the likelihood of heart disease before beginning the training procedure for our model."
      ],
      "metadata": {
        "id": "_sy_lZ7R6vvq"
      }
    },
    {
      "cell_type": "code",
      "source": [
        "heart_disease_df_filtered = heart_disease_df[['HeartDisease', 'Sex', 'AgeCategory', 'Race', 'BMI', 'Smoking', 'AlcoholDrinking', 'Stroke', 'Diabetic', 'PhysicalActivity', 'GenHealth']]\n",
        "heart_disease_df_filtered"
      ],
      "metadata": {
        "colab": {
          "base_uri": "https://localhost:8080/",
          "height": 487
        },
        "id": "gdmZXAmU0lZj",
        "outputId": "1b0f6d7d-3e50-47ee-9b11-09e6eeff8af5"
      },
      "execution_count": null,
      "outputs": [
        {
          "output_type": "execute_result",
          "data": {
            "text/plain": [
              "       HeartDisease     Sex  AgeCategory      Race    BMI Smoking  \\\n",
              "0                No  Female        55-59     White  16.60     Yes   \n",
              "1                No  Female  80 or older     White  20.34      No   \n",
              "2                No    Male        65-69     White  26.58     Yes   \n",
              "3                No  Female        75-79     White  24.21      No   \n",
              "4                No  Female        40-44     White  23.71      No   \n",
              "...             ...     ...          ...       ...    ...     ...   \n",
              "319790          Yes    Male        60-64  Hispanic  27.41     Yes   \n",
              "319791           No    Male        35-39  Hispanic  29.84     Yes   \n",
              "319792           No  Female        45-49  Hispanic  24.24      No   \n",
              "319793           No  Female        25-29  Hispanic  32.81      No   \n",
              "319794           No  Female  80 or older  Hispanic  46.56      No   \n",
              "\n",
              "       AlcoholDrinking Stroke Diabetic PhysicalActivity  GenHealth  \n",
              "0                   No     No      Yes              Yes  Very good  \n",
              "1                   No    Yes       No              Yes  Very good  \n",
              "2                   No     No      Yes              Yes       Fair  \n",
              "3                   No     No       No               No       Good  \n",
              "4                   No     No       No              Yes  Very good  \n",
              "...                ...    ...      ...              ...        ...  \n",
              "319790              No     No      Yes               No       Fair  \n",
              "319791              No     No       No              Yes  Very good  \n",
              "319792              No     No       No              Yes       Good  \n",
              "319793              No     No       No               No       Good  \n",
              "319794              No     No       No              Yes       Good  \n",
              "\n",
              "[319795 rows x 11 columns]"
            ],
            "text/html": [
              "\n",
              "  <div id=\"df-67513e20-72cb-49fc-8d8b-b96f444d340f\">\n",
              "    <div class=\"colab-df-container\">\n",
              "      <div>\n",
              "<style scoped>\n",
              "    .dataframe tbody tr th:only-of-type {\n",
              "        vertical-align: middle;\n",
              "    }\n",
              "\n",
              "    .dataframe tbody tr th {\n",
              "        vertical-align: top;\n",
              "    }\n",
              "\n",
              "    .dataframe thead th {\n",
              "        text-align: right;\n",
              "    }\n",
              "</style>\n",
              "<table border=\"1\" class=\"dataframe\">\n",
              "  <thead>\n",
              "    <tr style=\"text-align: right;\">\n",
              "      <th></th>\n",
              "      <th>HeartDisease</th>\n",
              "      <th>Sex</th>\n",
              "      <th>AgeCategory</th>\n",
              "      <th>Race</th>\n",
              "      <th>BMI</th>\n",
              "      <th>Smoking</th>\n",
              "      <th>AlcoholDrinking</th>\n",
              "      <th>Stroke</th>\n",
              "      <th>Diabetic</th>\n",
              "      <th>PhysicalActivity</th>\n",
              "      <th>GenHealth</th>\n",
              "    </tr>\n",
              "  </thead>\n",
              "  <tbody>\n",
              "    <tr>\n",
              "      <th>0</th>\n",
              "      <td>No</td>\n",
              "      <td>Female</td>\n",
              "      <td>55-59</td>\n",
              "      <td>White</td>\n",
              "      <td>16.60</td>\n",
              "      <td>Yes</td>\n",
              "      <td>No</td>\n",
              "      <td>No</td>\n",
              "      <td>Yes</td>\n",
              "      <td>Yes</td>\n",
              "      <td>Very good</td>\n",
              "    </tr>\n",
              "    <tr>\n",
              "      <th>1</th>\n",
              "      <td>No</td>\n",
              "      <td>Female</td>\n",
              "      <td>80 or older</td>\n",
              "      <td>White</td>\n",
              "      <td>20.34</td>\n",
              "      <td>No</td>\n",
              "      <td>No</td>\n",
              "      <td>Yes</td>\n",
              "      <td>No</td>\n",
              "      <td>Yes</td>\n",
              "      <td>Very good</td>\n",
              "    </tr>\n",
              "    <tr>\n",
              "      <th>2</th>\n",
              "      <td>No</td>\n",
              "      <td>Male</td>\n",
              "      <td>65-69</td>\n",
              "      <td>White</td>\n",
              "      <td>26.58</td>\n",
              "      <td>Yes</td>\n",
              "      <td>No</td>\n",
              "      <td>No</td>\n",
              "      <td>Yes</td>\n",
              "      <td>Yes</td>\n",
              "      <td>Fair</td>\n",
              "    </tr>\n",
              "    <tr>\n",
              "      <th>3</th>\n",
              "      <td>No</td>\n",
              "      <td>Female</td>\n",
              "      <td>75-79</td>\n",
              "      <td>White</td>\n",
              "      <td>24.21</td>\n",
              "      <td>No</td>\n",
              "      <td>No</td>\n",
              "      <td>No</td>\n",
              "      <td>No</td>\n",
              "      <td>No</td>\n",
              "      <td>Good</td>\n",
              "    </tr>\n",
              "    <tr>\n",
              "      <th>4</th>\n",
              "      <td>No</td>\n",
              "      <td>Female</td>\n",
              "      <td>40-44</td>\n",
              "      <td>White</td>\n",
              "      <td>23.71</td>\n",
              "      <td>No</td>\n",
              "      <td>No</td>\n",
              "      <td>No</td>\n",
              "      <td>No</td>\n",
              "      <td>Yes</td>\n",
              "      <td>Very good</td>\n",
              "    </tr>\n",
              "    <tr>\n",
              "      <th>...</th>\n",
              "      <td>...</td>\n",
              "      <td>...</td>\n",
              "      <td>...</td>\n",
              "      <td>...</td>\n",
              "      <td>...</td>\n",
              "      <td>...</td>\n",
              "      <td>...</td>\n",
              "      <td>...</td>\n",
              "      <td>...</td>\n",
              "      <td>...</td>\n",
              "      <td>...</td>\n",
              "    </tr>\n",
              "    <tr>\n",
              "      <th>319790</th>\n",
              "      <td>Yes</td>\n",
              "      <td>Male</td>\n",
              "      <td>60-64</td>\n",
              "      <td>Hispanic</td>\n",
              "      <td>27.41</td>\n",
              "      <td>Yes</td>\n",
              "      <td>No</td>\n",
              "      <td>No</td>\n",
              "      <td>Yes</td>\n",
              "      <td>No</td>\n",
              "      <td>Fair</td>\n",
              "    </tr>\n",
              "    <tr>\n",
              "      <th>319791</th>\n",
              "      <td>No</td>\n",
              "      <td>Male</td>\n",
              "      <td>35-39</td>\n",
              "      <td>Hispanic</td>\n",
              "      <td>29.84</td>\n",
              "      <td>Yes</td>\n",
              "      <td>No</td>\n",
              "      <td>No</td>\n",
              "      <td>No</td>\n",
              "      <td>Yes</td>\n",
              "      <td>Very good</td>\n",
              "    </tr>\n",
              "    <tr>\n",
              "      <th>319792</th>\n",
              "      <td>No</td>\n",
              "      <td>Female</td>\n",
              "      <td>45-49</td>\n",
              "      <td>Hispanic</td>\n",
              "      <td>24.24</td>\n",
              "      <td>No</td>\n",
              "      <td>No</td>\n",
              "      <td>No</td>\n",
              "      <td>No</td>\n",
              "      <td>Yes</td>\n",
              "      <td>Good</td>\n",
              "    </tr>\n",
              "    <tr>\n",
              "      <th>319793</th>\n",
              "      <td>No</td>\n",
              "      <td>Female</td>\n",
              "      <td>25-29</td>\n",
              "      <td>Hispanic</td>\n",
              "      <td>32.81</td>\n",
              "      <td>No</td>\n",
              "      <td>No</td>\n",
              "      <td>No</td>\n",
              "      <td>No</td>\n",
              "      <td>No</td>\n",
              "      <td>Good</td>\n",
              "    </tr>\n",
              "    <tr>\n",
              "      <th>319794</th>\n",
              "      <td>No</td>\n",
              "      <td>Female</td>\n",
              "      <td>80 or older</td>\n",
              "      <td>Hispanic</td>\n",
              "      <td>46.56</td>\n",
              "      <td>No</td>\n",
              "      <td>No</td>\n",
              "      <td>No</td>\n",
              "      <td>No</td>\n",
              "      <td>Yes</td>\n",
              "      <td>Good</td>\n",
              "    </tr>\n",
              "  </tbody>\n",
              "</table>\n",
              "<p>319795 rows × 11 columns</p>\n",
              "</div>\n",
              "      <button class=\"colab-df-convert\" onclick=\"convertToInteractive('df-67513e20-72cb-49fc-8d8b-b96f444d340f')\"\n",
              "              title=\"Convert this dataframe to an interactive table.\"\n",
              "              style=\"display:none;\">\n",
              "        \n",
              "  <svg xmlns=\"http://www.w3.org/2000/svg\" height=\"24px\"viewBox=\"0 0 24 24\"\n",
              "       width=\"24px\">\n",
              "    <path d=\"M0 0h24v24H0V0z\" fill=\"none\"/>\n",
              "    <path d=\"M18.56 5.44l.94 2.06.94-2.06 2.06-.94-2.06-.94-.94-2.06-.94 2.06-2.06.94zm-11 1L8.5 8.5l.94-2.06 2.06-.94-2.06-.94L8.5 2.5l-.94 2.06-2.06.94zm10 10l.94 2.06.94-2.06 2.06-.94-2.06-.94-.94-2.06-.94 2.06-2.06.94z\"/><path d=\"M17.41 7.96l-1.37-1.37c-.4-.4-.92-.59-1.43-.59-.52 0-1.04.2-1.43.59L10.3 9.45l-7.72 7.72c-.78.78-.78 2.05 0 2.83L4 21.41c.39.39.9.59 1.41.59.51 0 1.02-.2 1.41-.59l7.78-7.78 2.81-2.81c.8-.78.8-2.07 0-2.86zM5.41 20L4 18.59l7.72-7.72 1.47 1.35L5.41 20z\"/>\n",
              "  </svg>\n",
              "      </button>\n",
              "      \n",
              "  <style>\n",
              "    .colab-df-container {\n",
              "      display:flex;\n",
              "      flex-wrap:wrap;\n",
              "      gap: 12px;\n",
              "    }\n",
              "\n",
              "    .colab-df-convert {\n",
              "      background-color: #E8F0FE;\n",
              "      border: none;\n",
              "      border-radius: 50%;\n",
              "      cursor: pointer;\n",
              "      display: none;\n",
              "      fill: #1967D2;\n",
              "      height: 32px;\n",
              "      padding: 0 0 0 0;\n",
              "      width: 32px;\n",
              "    }\n",
              "\n",
              "    .colab-df-convert:hover {\n",
              "      background-color: #E2EBFA;\n",
              "      box-shadow: 0px 1px 2px rgba(60, 64, 67, 0.3), 0px 1px 3px 1px rgba(60, 64, 67, 0.15);\n",
              "      fill: #174EA6;\n",
              "    }\n",
              "\n",
              "    [theme=dark] .colab-df-convert {\n",
              "      background-color: #3B4455;\n",
              "      fill: #D2E3FC;\n",
              "    }\n",
              "\n",
              "    [theme=dark] .colab-df-convert:hover {\n",
              "      background-color: #434B5C;\n",
              "      box-shadow: 0px 1px 3px 1px rgba(0, 0, 0, 0.15);\n",
              "      filter: drop-shadow(0px 1px 2px rgba(0, 0, 0, 0.3));\n",
              "      fill: #FFFFFF;\n",
              "    }\n",
              "  </style>\n",
              "\n",
              "      <script>\n",
              "        const buttonEl =\n",
              "          document.querySelector('#df-67513e20-72cb-49fc-8d8b-b96f444d340f button.colab-df-convert');\n",
              "        buttonEl.style.display =\n",
              "          google.colab.kernel.accessAllowed ? 'block' : 'none';\n",
              "\n",
              "        async function convertToInteractive(key) {\n",
              "          const element = document.querySelector('#df-67513e20-72cb-49fc-8d8b-b96f444d340f');\n",
              "          const dataTable =\n",
              "            await google.colab.kernel.invokeFunction('convertToInteractive',\n",
              "                                                     [key], {});\n",
              "          if (!dataTable) return;\n",
              "\n",
              "          const docLinkHtml = 'Like what you see? Visit the ' +\n",
              "            '<a target=\"_blank\" href=https://colab.research.google.com/notebooks/data_table.ipynb>data table notebook</a>'\n",
              "            + ' to learn more about interactive tables.';\n",
              "          element.innerHTML = '';\n",
              "          dataTable['output_type'] = 'display_data';\n",
              "          await google.colab.output.renderOutput(dataTable, element);\n",
              "          const docLink = document.createElement('div');\n",
              "          docLink.innerHTML = docLinkHtml;\n",
              "          element.appendChild(docLink);\n",
              "        }\n",
              "      </script>\n",
              "    </div>\n",
              "  </div>\n",
              "  "
            ]
          },
          "metadata": {},
          "execution_count": 10
        }
      ]
    },
    {
      "cell_type": "code",
      "source": [
        "# Check for missing values in the filtered DataFrame\n",
        "missing_values = heart_disease_df_filtered.isna().sum()\n",
        "print (missing_values)"
      ],
      "metadata": {
        "colab": {
          "base_uri": "https://localhost:8080/"
        },
        "id": "LLfU2SKM1kRL",
        "outputId": "ecdb752c-acd9-4818-a695-f594871f713a"
      },
      "execution_count": null,
      "outputs": [
        {
          "output_type": "stream",
          "name": "stdout",
          "text": [
            "HeartDisease        0\n",
            "Sex                 0\n",
            "AgeCategory         0\n",
            "Race                0\n",
            "BMI                 0\n",
            "Smoking             0\n",
            "AlcoholDrinking     0\n",
            "Stroke              0\n",
            "Diabetic            0\n",
            "PhysicalActivity    0\n",
            "GenHealth           0\n",
            "dtype: int64\n"
          ]
        }
      ]
    },
    {
      "cell_type": "markdown",
      "source": [
        "There were no missing values"
      ],
      "metadata": {
        "id": "DX5fNap-8Njv"
      }
    },
    {
      "cell_type": "code",
      "source": [
        "heart_disease_df_filtered.groupby('HeartDisease').describe()"
      ],
      "metadata": {
        "colab": {
          "base_uri": "https://localhost:8080/",
          "height": 175
        },
        "id": "2qZWgH6M1zaK",
        "outputId": "bf468932-1c31-4219-a7ff-dcfb1b1eae19"
      },
      "execution_count": null,
      "outputs": [
        {
          "output_type": "execute_result",
          "data": {
            "text/plain": [
              "                   BMI                                                        \n",
              "                 count       mean       std    min    25%    50%    75%    max\n",
              "HeartDisease                                                                  \n",
              "No            292422.0  28.224658  6.325660  12.02  23.89  27.26  31.32  94.85\n",
              "Yes            27373.0  29.401592  6.577151  12.21  25.06  28.34  32.69  83.33"
            ],
            "text/html": [
              "\n",
              "  <div id=\"df-f9c82b65-f9d0-401c-8dec-2b71b033e6f8\">\n",
              "    <div class=\"colab-df-container\">\n",
              "      <div>\n",
              "<style scoped>\n",
              "    .dataframe tbody tr th:only-of-type {\n",
              "        vertical-align: middle;\n",
              "    }\n",
              "\n",
              "    .dataframe tbody tr th {\n",
              "        vertical-align: top;\n",
              "    }\n",
              "\n",
              "    .dataframe thead tr th {\n",
              "        text-align: left;\n",
              "    }\n",
              "\n",
              "    .dataframe thead tr:last-of-type th {\n",
              "        text-align: right;\n",
              "    }\n",
              "</style>\n",
              "<table border=\"1\" class=\"dataframe\">\n",
              "  <thead>\n",
              "    <tr>\n",
              "      <th></th>\n",
              "      <th colspan=\"8\" halign=\"left\">BMI</th>\n",
              "    </tr>\n",
              "    <tr>\n",
              "      <th></th>\n",
              "      <th>count</th>\n",
              "      <th>mean</th>\n",
              "      <th>std</th>\n",
              "      <th>min</th>\n",
              "      <th>25%</th>\n",
              "      <th>50%</th>\n",
              "      <th>75%</th>\n",
              "      <th>max</th>\n",
              "    </tr>\n",
              "    <tr>\n",
              "      <th>HeartDisease</th>\n",
              "      <th></th>\n",
              "      <th></th>\n",
              "      <th></th>\n",
              "      <th></th>\n",
              "      <th></th>\n",
              "      <th></th>\n",
              "      <th></th>\n",
              "      <th></th>\n",
              "    </tr>\n",
              "  </thead>\n",
              "  <tbody>\n",
              "    <tr>\n",
              "      <th>No</th>\n",
              "      <td>292422.0</td>\n",
              "      <td>28.224658</td>\n",
              "      <td>6.325660</td>\n",
              "      <td>12.02</td>\n",
              "      <td>23.89</td>\n",
              "      <td>27.26</td>\n",
              "      <td>31.32</td>\n",
              "      <td>94.85</td>\n",
              "    </tr>\n",
              "    <tr>\n",
              "      <th>Yes</th>\n",
              "      <td>27373.0</td>\n",
              "      <td>29.401592</td>\n",
              "      <td>6.577151</td>\n",
              "      <td>12.21</td>\n",
              "      <td>25.06</td>\n",
              "      <td>28.34</td>\n",
              "      <td>32.69</td>\n",
              "      <td>83.33</td>\n",
              "    </tr>\n",
              "  </tbody>\n",
              "</table>\n",
              "</div>\n",
              "      <button class=\"colab-df-convert\" onclick=\"convertToInteractive('df-f9c82b65-f9d0-401c-8dec-2b71b033e6f8')\"\n",
              "              title=\"Convert this dataframe to an interactive table.\"\n",
              "              style=\"display:none;\">\n",
              "        \n",
              "  <svg xmlns=\"http://www.w3.org/2000/svg\" height=\"24px\"viewBox=\"0 0 24 24\"\n",
              "       width=\"24px\">\n",
              "    <path d=\"M0 0h24v24H0V0z\" fill=\"none\"/>\n",
              "    <path d=\"M18.56 5.44l.94 2.06.94-2.06 2.06-.94-2.06-.94-.94-2.06-.94 2.06-2.06.94zm-11 1L8.5 8.5l.94-2.06 2.06-.94-2.06-.94L8.5 2.5l-.94 2.06-2.06.94zm10 10l.94 2.06.94-2.06 2.06-.94-2.06-.94-.94-2.06-.94 2.06-2.06.94z\"/><path d=\"M17.41 7.96l-1.37-1.37c-.4-.4-.92-.59-1.43-.59-.52 0-1.04.2-1.43.59L10.3 9.45l-7.72 7.72c-.78.78-.78 2.05 0 2.83L4 21.41c.39.39.9.59 1.41.59.51 0 1.02-.2 1.41-.59l7.78-7.78 2.81-2.81c.8-.78.8-2.07 0-2.86zM5.41 20L4 18.59l7.72-7.72 1.47 1.35L5.41 20z\"/>\n",
              "  </svg>\n",
              "      </button>\n",
              "      \n",
              "  <style>\n",
              "    .colab-df-container {\n",
              "      display:flex;\n",
              "      flex-wrap:wrap;\n",
              "      gap: 12px;\n",
              "    }\n",
              "\n",
              "    .colab-df-convert {\n",
              "      background-color: #E8F0FE;\n",
              "      border: none;\n",
              "      border-radius: 50%;\n",
              "      cursor: pointer;\n",
              "      display: none;\n",
              "      fill: #1967D2;\n",
              "      height: 32px;\n",
              "      padding: 0 0 0 0;\n",
              "      width: 32px;\n",
              "    }\n",
              "\n",
              "    .colab-df-convert:hover {\n",
              "      background-color: #E2EBFA;\n",
              "      box-shadow: 0px 1px 2px rgba(60, 64, 67, 0.3), 0px 1px 3px 1px rgba(60, 64, 67, 0.15);\n",
              "      fill: #174EA6;\n",
              "    }\n",
              "\n",
              "    [theme=dark] .colab-df-convert {\n",
              "      background-color: #3B4455;\n",
              "      fill: #D2E3FC;\n",
              "    }\n",
              "\n",
              "    [theme=dark] .colab-df-convert:hover {\n",
              "      background-color: #434B5C;\n",
              "      box-shadow: 0px 1px 3px 1px rgba(0, 0, 0, 0.15);\n",
              "      filter: drop-shadow(0px 1px 2px rgba(0, 0, 0, 0.3));\n",
              "      fill: #FFFFFF;\n",
              "    }\n",
              "  </style>\n",
              "\n",
              "      <script>\n",
              "        const buttonEl =\n",
              "          document.querySelector('#df-f9c82b65-f9d0-401c-8dec-2b71b033e6f8 button.colab-df-convert');\n",
              "        buttonEl.style.display =\n",
              "          google.colab.kernel.accessAllowed ? 'block' : 'none';\n",
              "\n",
              "        async function convertToInteractive(key) {\n",
              "          const element = document.querySelector('#df-f9c82b65-f9d0-401c-8dec-2b71b033e6f8');\n",
              "          const dataTable =\n",
              "            await google.colab.kernel.invokeFunction('convertToInteractive',\n",
              "                                                     [key], {});\n",
              "          if (!dataTable) return;\n",
              "\n",
              "          const docLinkHtml = 'Like what you see? Visit the ' +\n",
              "            '<a target=\"_blank\" href=https://colab.research.google.com/notebooks/data_table.ipynb>data table notebook</a>'\n",
              "            + ' to learn more about interactive tables.';\n",
              "          element.innerHTML = '';\n",
              "          dataTable['output_type'] = 'display_data';\n",
              "          await google.colab.output.renderOutput(dataTable, element);\n",
              "          const docLink = document.createElement('div');\n",
              "          docLink.innerHTML = docLinkHtml;\n",
              "          element.appendChild(docLink);\n",
              "        }\n",
              "      </script>\n",
              "    </div>\n",
              "  </div>\n",
              "  "
            ]
          },
          "metadata": {},
          "execution_count": 12
        }
      ]
    },
    {
      "cell_type": "markdown",
      "source": [
        "Verifying a Binary Target Variable\n",
        "The HeartDisease column is the target variable, and it should only contain two distinct values, Yes and No."
      ],
      "metadata": {
        "id": "f1Kx20W08cWs"
      }
    },
    {
      "cell_type": "markdown",
      "source": [
        "# Data Analysis\n",
        "We will analyse our filtered variables with various plots"
      ],
      "metadata": {
        "id": "epLI0USoPyjT"
      }
    },
    {
      "cell_type": "code",
      "source": [
        "sb.countplot(x='HeartDisease', data=heart_disease_df_filtered)"
      ],
      "metadata": {
        "colab": {
          "base_uri": "https://localhost:8080/",
          "height": 338
        },
        "id": "mG1rG0IS8b1c",
        "outputId": "3bc3b95f-9ec3-4e8b-bab6-a649245a41ec"
      },
      "execution_count": null,
      "outputs": [
        {
          "output_type": "execute_result",
          "data": {
            "text/plain": [
              "<Axes: xlabel='HeartDisease', ylabel='count'>"
            ]
          },
          "metadata": {},
          "execution_count": 15
        },
        {
          "output_type": "display_data",
          "data": {
            "text/plain": [
              "<Figure size 500x300 with 1 Axes>"
            ],
            "image/png": "[encoded data removed]"
          },
          "metadata": {}
        }
      ]
    },
    {
      "cell_type": "markdown",
      "source": [
        "The number of heart disease records is not spread out evenly, which shows that people with and without the disease have different levels of knowledge. This might inject bias into the trained model's predictions of heart disease. We will apply SMOTE (Synthetic Minority Oversampling Method) to balance the class distribution in order to solve this problem. To achieve the best results, all categorical data must be transformed into binary using dummy variables before applying SMOTE. Starting with the nearest minority class data items, the SMOTE technique creates new combinations. This will be done in the next section"
      ],
      "metadata": {
        "id": "ztgeeJem-zyD"
      }
    },
    {
      "cell_type": "markdown",
      "source": [
        "Investigative Study of Feature Variables\n",
        "See BMI summary statistics belwo"
      ],
      "metadata": {
        "id": "LwAz9YOs-1nt"
      }
    },
    {
      "cell_type": "code",
      "source": [
        "heart_disease_df_filtered.groupby('HeartDisease').describe()"
      ],
      "metadata": {
        "colab": {
          "base_uri": "https://localhost:8080/",
          "height": 175
        },
        "id": "0u-PO0AJ_Ani",
        "outputId": "fb420f24-9be1-4afd-b763-7e13dcaf037e"
      },
      "execution_count": null,
      "outputs": [
        {
          "output_type": "execute_result",
          "data": {
            "text/plain": [
              "                   BMI                                                        \n",
              "                 count       mean       std    min    25%    50%    75%    max\n",
              "HeartDisease                                                                  \n",
              "No            292422.0  28.224658  6.325660  12.02  23.89  27.26  31.32  94.85\n",
              "Yes            27373.0  29.401592  6.577151  12.21  25.06  28.34  32.69  83.33"
            ],
            "text/html": [
              "\n",
              "  <div id=\"df-9362af1f-d7d8-4cde-a5af-d312246b330a\">\n",
              "    <div class=\"colab-df-container\">\n",
              "      <div>\n",
              "<style scoped>\n",
              "    .dataframe tbody tr th:only-of-type {\n",
              "        vertical-align: middle;\n",
              "    }\n",
              "\n",
              "    .dataframe tbody tr th {\n",
              "        vertical-align: top;\n",
              "    }\n",
              "\n",
              "    .dataframe thead tr th {\n",
              "        text-align: left;\n",
              "    }\n",
              "\n",
              "    .dataframe thead tr:last-of-type th {\n",
              "        text-align: right;\n",
              "    }\n",
              "</style>\n",
              "<table border=\"1\" class=\"dataframe\">\n",
              "  <thead>\n",
              "    <tr>\n",
              "      <th></th>\n",
              "      <th colspan=\"8\" halign=\"left\">BMI</th>\n",
              "    </tr>\n",
              "    <tr>\n",
              "      <th></th>\n",
              "      <th>count</th>\n",
              "      <th>mean</th>\n",
              "      <th>std</th>\n",
              "      <th>min</th>\n",
              "      <th>25%</th>\n",
              "      <th>50%</th>\n",
              "      <th>75%</th>\n",
              "      <th>max</th>\n",
              "    </tr>\n",
              "    <tr>\n",
              "      <th>HeartDisease</th>\n",
              "      <th></th>\n",
              "      <th></th>\n",
              "      <th></th>\n",
              "      <th></th>\n",
              "      <th></th>\n",
              "      <th></th>\n",
              "      <th></th>\n",
              "      <th></th>\n",
              "    </tr>\n",
              "  </thead>\n",
              "  <tbody>\n",
              "    <tr>\n",
              "      <th>No</th>\n",
              "      <td>292422.0</td>\n",
              "      <td>28.224658</td>\n",
              "      <td>6.325660</td>\n",
              "      <td>12.02</td>\n",
              "      <td>23.89</td>\n",
              "      <td>27.26</td>\n",
              "      <td>31.32</td>\n",
              "      <td>94.85</td>\n",
              "    </tr>\n",
              "    <tr>\n",
              "      <th>Yes</th>\n",
              "      <td>27373.0</td>\n",
              "      <td>29.401592</td>\n",
              "      <td>6.577151</td>\n",
              "      <td>12.21</td>\n",
              "      <td>25.06</td>\n",
              "      <td>28.34</td>\n",
              "      <td>32.69</td>\n",
              "      <td>83.33</td>\n",
              "    </tr>\n",
              "  </tbody>\n",
              "</table>\n",
              "</div>\n",
              "      <button class=\"colab-df-convert\" onclick=\"convertToInteractive('df-9362af1f-d7d8-4cde-a5af-d312246b330a')\"\n",
              "              title=\"Convert this dataframe to an interactive table.\"\n",
              "              style=\"display:none;\">\n",
              "        \n",
              "  <svg xmlns=\"http://www.w3.org/2000/svg\" height=\"24px\"viewBox=\"0 0 24 24\"\n",
              "       width=\"24px\">\n",
              "    <path d=\"M0 0h24v24H0V0z\" fill=\"none\"/>\n",
              "    <path d=\"M18.56 5.44l.94 2.06.94-2.06 2.06-.94-2.06-.94-.94-2.06-.94 2.06-2.06.94zm-11 1L8.5 8.5l.94-2.06 2.06-.94-2.06-.94L8.5 2.5l-.94 2.06-2.06.94zm10 10l.94 2.06.94-2.06 2.06-.94-2.06-.94-.94-2.06-.94 2.06-2.06.94z\"/><path d=\"M17.41 7.96l-1.37-1.37c-.4-.4-.92-.59-1.43-.59-.52 0-1.04.2-1.43.59L10.3 9.45l-7.72 7.72c-.78.78-.78 2.05 0 2.83L4 21.41c.39.39.9.59 1.41.59.51 0 1.02-.2 1.41-.59l7.78-7.78 2.81-2.81c.8-.78.8-2.07 0-2.86zM5.41 20L4 18.59l7.72-7.72 1.47 1.35L5.41 20z\"/>\n",
              "  </svg>\n",
              "      </button>\n",
              "      \n",
              "  <style>\n",
              "    .colab-df-container {\n",
              "      display:flex;\n",
              "      flex-wrap:wrap;\n",
              "      gap: 12px;\n",
              "    }\n",
              "\n",
              "    .colab-df-convert {\n",
              "      background-color: #E8F0FE;\n",
              "      border: none;\n",
              "      border-radius: 50%;\n",
              "      cursor: pointer;\n",
              "      display: none;\n",
              "      fill: #1967D2;\n",
              "      height: 32px;\n",
              "      padding: 0 0 0 0;\n",
              "      width: 32px;\n",
              "    }\n",
              "\n",
              "    .colab-df-convert:hover {\n",
              "      background-color: #E2EBFA;\n",
              "      box-shadow: 0px 1px 2px rgba(60, 64, 67, 0.3), 0px 1px 3px 1px rgba(60, 64, 67, 0.15);\n",
              "      fill: #174EA6;\n",
              "    }\n",
              "\n",
              "    [theme=dark] .colab-df-convert {\n",
              "      background-color: #3B4455;\n",
              "      fill: #D2E3FC;\n",
              "    }\n",
              "\n",
              "    [theme=dark] .colab-df-convert:hover {\n",
              "      background-color: #434B5C;\n",
              "      box-shadow: 0px 1px 3px 1px rgba(0, 0, 0, 0.15);\n",
              "      filter: drop-shadow(0px 1px 2px rgba(0, 0, 0, 0.3));\n",
              "      fill: #FFFFFF;\n",
              "    }\n",
              "  </style>\n",
              "\n",
              "      <script>\n",
              "        const buttonEl =\n",
              "          document.querySelector('#df-9362af1f-d7d8-4cde-a5af-d312246b330a button.colab-df-convert');\n",
              "        buttonEl.style.display =\n",
              "          google.colab.kernel.accessAllowed ? 'block' : 'none';\n",
              "\n",
              "        async function convertToInteractive(key) {\n",
              "          const element = document.querySelector('#df-9362af1f-d7d8-4cde-a5af-d312246b330a');\n",
              "          const dataTable =\n",
              "            await google.colab.kernel.invokeFunction('convertToInteractive',\n",
              "                                                     [key], {});\n",
              "          if (!dataTable) return;\n",
              "\n",
              "          const docLinkHtml = 'Like what you see? Visit the ' +\n",
              "            '<a target=\"_blank\" href=https://colab.research.google.com/notebooks/data_table.ipynb>data table notebook</a>'\n",
              "            + ' to learn more about interactive tables.';\n",
              "          element.innerHTML = '';\n",
              "          dataTable['output_type'] = 'display_data';\n",
              "          await google.colab.output.renderOutput(dataTable, element);\n",
              "          const docLink = document.createElement('div');\n",
              "          docLink.innerHTML = docLinkHtml;\n",
              "          element.appendChild(docLink);\n",
              "        }\n",
              "      </script>\n",
              "    </div>\n",
              "  </div>\n",
              "  "
            ]
          },
          "metadata": {},
          "execution_count": 19
        }
      ]
    },
    {
      "cell_type": "markdown",
      "source": [
        "Distribution according to sex"
      ],
      "metadata": {
        "id": "OU4xk2wJ-Wvp"
      }
    },
    {
      "cell_type": "code",
      "source": [
        "# Data distribution of cases with Yes/No heart disease according to sex\n",
        "sb.countplot(x=heart_disease_df_filtered['Sex'], hue='HeartDisease', data=heart_disease_df_filtered)\n",
        "# Set the axis labels\n",
        "ax.set_title('Distribution of Heart Disease Cases by Sex', fontsize=16)"
      ],
      "metadata": {
        "colab": {
          "base_uri": "https://localhost:8080/",
          "height": 337
        },
        "id": "H5l0B_Qn_e0T",
        "outputId": "bdcf7204-8c40-40fc-edf9-dc62d3f40b8f"
      },
      "execution_count": null,
      "outputs": [
        {
          "output_type": "execute_result",
          "data": {
            "text/plain": [
              "Text(0.5, 1.0, 'Distribution of Heart Disease Cases by Sex')"
            ]
          },
          "metadata": {},
          "execution_count": 31
        },
        {
          "output_type": "display_data",
          "data": {
            "text/plain": [
              "<Figure size 500x300 with 1 Axes>"
            ],
            "image/png": "[encoded data removed]"
          },
          "metadata": {}
        }
      ]
    },
    {
      "cell_type": "markdown",
      "source": [
        "Plot the data distribution of cases with Yes/No heart disease according to age category"
      ],
      "metadata": {
        "id": "XD9ELPZvC8F8"
      }
    },
    {
      "cell_type": "markdown",
      "source": [
        "an error just occured. I failed to define sns, so i will do that and re run the code"
      ],
      "metadata": {
        "id": "OfaTknPg-1UZ"
      }
    },
    {
      "cell_type": "code",
      "source": [
        "import seaborn as sns\n",
        "import matplotlib.pyplot as plt"
      ],
      "metadata": {
        "id": "gXK-SPmh-9Fj"
      },
      "execution_count": null,
      "outputs": []
    },
    {
      "cell_type": "code",
      "source": [
        "# Create a larger figure\n",
        "fig, ax = plt.subplots(figsize=(8, 4))\n",
        "\n",
        "# Plot the data distribution of cases with Yes/No heart disease according to age category\n",
        "sns.countplot(x='AgeCategory', hue='HeartDisease', data=heart_disease_df_filtered, ax=ax)\n",
        "\n",
        "# Set the axis labels\n",
        "ax.set_xlabel('Age', fontsize=14)\n",
        "ax.set_ylabel('Count', fontsize=14)\n",
        "ax.set_title('Distribution of Heart Disease Cases by Age', fontsize=16)\n",
        "\n",
        "# Set the font size of the x-axis tick labels\n",
        "ax.set_xticklabels(ax.get_xticklabels(), fontsize=8)\n",
        "\n",
        "# Show the plot\n",
        "plt.show()\n",
        "\n"
      ],
      "metadata": {
        "colab": {
          "base_uri": "https://localhost:8080/",
          "height": 413
        },
        "id": "-LAblzy6_2bT",
        "outputId": "754180da-ae28-47af-c5e4-94dafa40833c"
      },
      "execution_count": null,
      "outputs": [
        {
          "output_type": "display_data",
          "data": {
            "text/plain": [
              "<Figure size 800x400 with 1 Axes>"
            ],
            "image/png": "[encoded data removed]"
          },
          "metadata": {}
        }
      ]
    },
    {
      "cell_type": "markdown",
      "source": [
        "Race-based data distribution of cases with heart disease: Yes/No. Our definition above solved the error"
      ],
      "metadata": {
        "id": "MlPo1UWmDcq0"
      }
    },
    {
      "cell_type": "code",
      "source": [
        "# Create a larger figure\n",
        "fig, ax = plt.subplots(figsize=(8, 4))\n",
        "\n",
        "# Plot the data distribution of cases with Yes/No heart disease according to age category\n",
        "sns.countplot(x='Race', hue='HeartDisease', data=heart_disease_df_filtered, ax=ax)\n",
        "\n",
        "# Set the axis labels\n",
        "ax.set_xlabel('Race', fontsize=14)\n",
        "ax.set_ylabel('Count', fontsize=14)\n",
        "ax.set_title('Distribution of Heart Disease Cases by Race', fontsize=16)\n",
        "\n",
        "# Set the font size of the x-axis tick labels\n",
        "ax.set_xticklabels(ax.get_xticklabels(), fontsize=6)\n",
        "\n",
        "# Show the plot\n",
        "plt.show()\n"
      ],
      "metadata": {
        "colab": {
          "base_uri": "https://localhost:8080/",
          "height": 412
        },
        "id": "CnfQ9uroDhc8",
        "outputId": "4e9d5a5e-18dd-4bc8-d366-d9669a27f57b"
      },
      "execution_count": null,
      "outputs": [
        {
          "output_type": "display_data",
          "data": {
            "text/plain": [
              "<Figure size 800x400 with 1 Axes>"
            ],
            "image/png": "[encoded data removed]"
          },
          "metadata": {}
        }
      ]
    },
    {
      "cell_type": "markdown",
      "source": [
        "Distribution of instances with heart disease, Yes/No, based on smoking"
      ],
      "metadata": {
        "id": "x9pZcDffEr1d"
      }
    },
    {
      "cell_type": "code",
      "source": [
        "# Create a larger figure\n",
        "fig, ax = plt.subplots(figsize=(8, 4))\n",
        "\n",
        "# Plot the data distribution of cases with Yes/No heart disease according to age category\n",
        "sns.countplot(x='Smoking', hue='HeartDisease', data=heart_disease_df_filtered, ax=ax)\n",
        "\n",
        "# Set the axis labels\n",
        "ax.set_xlabel('Smoking', fontsize=14)\n",
        "ax.set_ylabel('Count', fontsize=14)\n",
        "ax.set_title('Distribution of Heart Disease Cases by Smoking', fontsize=16)\n",
        "\n",
        "# Set the font size of the x-axis tick labels\n",
        "ax.set_xticklabels(ax.get_xticklabels(), fontsize=6)\n",
        "\n",
        "# Show the plot\n",
        "plt.show()"
      ],
      "metadata": {
        "colab": {
          "base_uri": "https://localhost:8080/",
          "height": 412
        },
        "id": "cyI1aogqEtPj",
        "outputId": "7debd914-49c3-48af-84e0-964debf5a387"
      },
      "execution_count": null,
      "outputs": [
        {
          "output_type": "display_data",
          "data": {
            "text/plain": [
              "<Figure size 800x400 with 1 Axes>"
            ],
            "image/png": "[encoded data removed]"
          },
          "metadata": {}
        }
      ]
    },
    {
      "cell_type": "markdown",
      "source": [
        "Distribution of instances with heart disease, Yes/No, based on been Diabetic"
      ],
      "metadata": {
        "id": "8qRoClGXE5xM"
      }
    },
    {
      "cell_type": "code",
      "source": [
        "# Create a larger figure\n",
        "fig, ax = plt.subplots(figsize=(8, 4))\n",
        "\n",
        "# Plot the data distribution of cases with Yes/No heart disease according to age category\n",
        "sns.countplot(x='Diabetic', hue='HeartDisease', data=heart_disease_df_filtered, ax=ax)\n",
        "\n",
        "# Set the axis labels\n",
        "ax.set_xlabel('Diabetic', fontsize=14)\n",
        "ax.set_ylabel('Count', fontsize=14)\n",
        "ax.set_title('Distribution of Heart Disease Cases by Diabetic', fontsize=16)\n",
        "\n",
        "# Set the font size of the x-axis tick labels\n",
        "ax.set_xticklabels(ax.get_xticklabels(), fontsize=6)\n",
        "\n",
        "# Show the plot\n",
        "plt.show()"
      ],
      "metadata": {
        "colab": {
          "base_uri": "https://localhost:8080/",
          "height": 412
        },
        "id": "_6_KiLfBFBrk",
        "outputId": "5fa38ac2-089e-49c4-9ba6-19a16743e31d"
      },
      "execution_count": null,
      "outputs": [
        {
          "output_type": "display_data",
          "data": {
            "text/plain": [
              "<Figure size 800x400 with 1 Axes>"
            ],
            "image/png": "[encoded data removed]"
          },
          "metadata": {}
        }
      ]
    },
    {
      "cell_type": "markdown",
      "source": [
        "Distribution of instances with heart disease, Yes/No, based on Physical Activity"
      ],
      "metadata": {
        "id": "JO1uajo5FQYd"
      }
    },
    {
      "cell_type": "code",
      "source": [
        "# Create a larger figure\n",
        "fig, ax = plt.subplots(figsize=(8, 4))\n",
        "\n",
        "# Plot the data distribution of cases with Yes/No heart disease according to age category\n",
        "sns.countplot(x='PhysicalActivity', hue='HeartDisease', data=heart_disease_df_filtered, ax=ax)\n",
        "\n",
        "# Set the axis labels\n",
        "ax.set_xlabel('PhysicalActivity', fontsize=14)\n",
        "ax.set_ylabel('Count', fontsize=14)\n",
        "ax.set_title('Distribution of Heart Disease Cases by Physical Activity', fontsize=16)\n",
        "\n",
        "# Set the font size of the x-axis tick labels\n",
        "ax.set_xticklabels(ax.get_xticklabels(), fontsize=6)\n",
        "\n",
        "# Show the plot\n",
        "plt.show()"
      ],
      "metadata": {
        "colab": {
          "base_uri": "https://localhost:8080/",
          "height": 412
        },
        "id": "lxwxpXS5FgQM",
        "outputId": "ed4d3e4e-ccf8-434f-85d8-7f633002f9e4"
      },
      "execution_count": null,
      "outputs": [
        {
          "output_type": "display_data",
          "data": {
            "text/plain": [
              "<Figure size 800x400 with 1 Axes>"
            ],
            "image/png": "[encoded data removed]"
          },
          "metadata": {}
        }
      ]
    },
    {
      "cell_type": "markdown",
      "source": [
        "Distribution of instances with heart disease, Yes/No, based on General Health"
      ],
      "metadata": {
        "id": "0PpPxM0fGGD2"
      }
    },
    {
      "cell_type": "code",
      "source": [
        "# Create a larger figure\n",
        "fig, ax = plt.subplots(figsize=(8, 4))\n",
        "\n",
        "# Plot the data distribution of cases with Yes/No heart disease according to age category\n",
        "sns.countplot(x='GenHealth', hue='HeartDisease', data=heart_disease_df_filtered, ax=ax)\n",
        "\n",
        "# Set the axis labels\n",
        "ax.set_xlabel('General Health', fontsize=14)\n",
        "ax.set_ylabel('Count', fontsize=14)\n",
        "ax.set_title('Distribution of Heart Disease Cases by General Health', fontsize=16)\n",
        "\n",
        "# Set the font size of the x-axis tick labels\n",
        "ax.set_xticklabels(ax.get_xticklabels(), fontsize=6)\n",
        "\n",
        "# Show the plot\n",
        "plt.show()"
      ],
      "metadata": {
        "colab": {
          "base_uri": "https://localhost:8080/",
          "height": 412
        },
        "id": "iPrv0DLaGLzm",
        "outputId": "66a7e5da-0f80-46bb-fee5-7a40821dd496"
      },
      "execution_count": null,
      "outputs": [
        {
          "output_type": "display_data",
          "data": {
            "text/plain": [
              "<Figure size 800x400 with 1 Axes>"
            ],
            "image/png": "[encoded data removed]"
          },
          "metadata": {}
        }
      ]
    },
    {
      "cell_type": "markdown",
      "source": [
        "Observations:\n",
        "\n",
        "According to the data, heart disease becomes more common as people get older, which is consistent with the notion that growing older is a major risk factor for heart disease.\n",
        "The statistics also indicate that in the sample group, people who identified as white had a greater prevalence of heart disease. This would suggest that in order to increase the analysis's representation of other racial groups, the sample group's racial mix needs to be more diverse.\n",
        "The analysis also says that there isn't enough proof that drinking alcohol is a reliable way to predict heart disease. To reach any conclusions in this area, additional data collection and analysis may be required."
      ],
      "metadata": {
        "id": "iZ5Tx0WgHlYs"
      }
    },
    {
      "cell_type": "markdown",
      "source": [
        "# Categorical Features to Dummy Indicator Conversion"
      ],
      "metadata": {
        "id": "sKF0jzpbICDi"
      }
    },
    {
      "cell_type": "code",
      "source": [
        "# Find categorical columns in the filtered heart disease DataFrame\n",
        "categorical_columns = [col for col in heart_disease_df_filtered.columns if heart_disease_df_filtered[col].dtype == 'O']\n",
        "\n",
        "# Print the number and names of the categorical columns\n",
        "num_categorical_columns = len(categorical_columns)\n",
        "print(f\"There are {num_categorical_columns} categorical features:\")\n",
        "print(\", \".join(categorical_columns))"
      ],
      "metadata": {
        "colab": {
          "base_uri": "https://localhost:8080/"
        },
        "id": "ApcVWUtaIcx8",
        "outputId": "218fdfa3-3b28-4adf-92fc-1489e534cfc6"
      },
      "execution_count": null,
      "outputs": [
        {
          "output_type": "stream",
          "name": "stdout",
          "text": [
            "There are 10 categorical features:\n",
            "HeartDisease, Sex, AgeCategory, Race, Smoking, AlcoholDrinking, Stroke, Diabetic, PhysicalActivity, GenHealth\n"
          ]
        }
      ]
    },
    {
      "cell_type": "markdown",
      "source": [
        "Create binary dummy variables with values of 0 (indicating No) or 1 for all categorical attributes (representing Yes)."
      ],
      "metadata": {
        "id": "WDIavdaWH0qd"
      }
    },
    {
      "cell_type": "code",
      "source": [
        "# Convert categorical attributes into binary dummy variables with 'No' represented by 0 and 'Yes' by 1.\n",
        "# Identify categorical columns to be dropped after creating dummies.\n",
        "categorical_drop_first = [name for name in categorical_columns if name not in ['AgeCategory', 'Race', 'GenHealth']]\n",
        "# Identify categorical columns that should not be dropped after creating dummies.\n",
        "categorical_no_drop = [name for name in categorical_columns if name in ['AgeCategory', 'Race', 'GenHealth']]\n",
        "\n",
        "# Create dummy variables using Pandas' `get_dummies` function.\n",
        "# Drop the first column for each categorical variable to avoid the dummy variable trap.\n",
        "heart_disease_df_dummy = pd.get_dummies(data=heart_disease_df_filtered, columns=categorical_drop_first, drop_first=True)\n",
        "heart_disease_df_dummy = pd.get_dummies(data=heart_disease_df_dummy, columns=categorical_no_drop)\n",
        "\n",
        "# Preview the transformed data.\n",
        "heart_disease_df_dummy.head(5)\n"
      ],
      "metadata": {
        "colab": {
          "base_uri": "https://localhost:8080/",
          "height": 334
        },
        "id": "t1jg-Q6QIph1",
        "outputId": "34409e38-a4fa-471e-9f93-6e27311b8235"
      },
      "execution_count": null,
      "outputs": [
        {
          "output_type": "execute_result",
          "data": {
            "text/plain": [
              "     BMI  HeartDisease_Yes  Sex_Male  Smoking_Yes  AlcoholDrinking_Yes  \\\n",
              "0  16.60                 0         0            1                    0   \n",
              "1  20.34                 0         0            0                    0   \n",
              "2  26.58                 0         1            1                    0   \n",
              "3  24.21                 0         0            0                    0   \n",
              "4  23.71                 0         0            0                    0   \n",
              "\n",
              "   Stroke_Yes  Diabetic_No, borderline diabetes  Diabetic_Yes  \\\n",
              "0           0                                 0             1   \n",
              "1           1                                 0             0   \n",
              "2           0                                 0             1   \n",
              "3           0                                 0             0   \n",
              "4           0                                 0             0   \n",
              "\n",
              "   Diabetic_Yes (during pregnancy)  PhysicalActivity_Yes  ...  Race_Asian  \\\n",
              "0                                0                     1  ...           0   \n",
              "1                                0                     1  ...           0   \n",
              "2                                0                     1  ...           0   \n",
              "3                                0                     0  ...           0   \n",
              "4                                0                     1  ...           0   \n",
              "\n",
              "   Race_Black  Race_Hispanic  Race_Other  Race_White  GenHealth_Excellent  \\\n",
              "0           0              0           0           1                    0   \n",
              "1           0              0           0           1                    0   \n",
              "2           0              0           0           1                    0   \n",
              "3           0              0           0           1                    0   \n",
              "4           0              0           0           1                    0   \n",
              "\n",
              "   GenHealth_Fair  GenHealth_Good  GenHealth_Poor  GenHealth_Very good  \n",
              "0               0               0               0                    1  \n",
              "1               0               0               0                    1  \n",
              "2               1               0               0                    0  \n",
              "3               0               1               0                    0  \n",
              "4               0               0               0                    1  \n",
              "\n",
              "[5 rows x 34 columns]"
            ],
            "text/html": [
              "\n",
              "  <div id=\"df-b291f831-4597-4847-b817-77da904904dc\">\n",
              "    <div class=\"colab-df-container\">\n",
              "      <div>\n",
              "<style scoped>\n",
              "    .dataframe tbody tr th:only-of-type {\n",
              "        vertical-align: middle;\n",
              "    }\n",
              "\n",
              "    .dataframe tbody tr th {\n",
              "        vertical-align: top;\n",
              "    }\n",
              "\n",
              "    .dataframe thead th {\n",
              "        text-align: right;\n",
              "    }\n",
              "</style>\n",
              "<table border=\"1\" class=\"dataframe\">\n",
              "  <thead>\n",
              "    <tr style=\"text-align: right;\">\n",
              "      <th></th>\n",
              "      <th>BMI</th>\n",
              "      <th>HeartDisease_Yes</th>\n",
              "      <th>Sex_Male</th>\n",
              "      <th>Smoking_Yes</th>\n",
              "      <th>AlcoholDrinking_Yes</th>\n",
              "      <th>Stroke_Yes</th>\n",
              "      <th>Diabetic_No, borderline diabetes</th>\n",
              "      <th>Diabetic_Yes</th>\n",
              "      <th>Diabetic_Yes (during pregnancy)</th>\n",
              "      <th>PhysicalActivity_Yes</th>\n",
              "      <th>...</th>\n",
              "      <th>Race_Asian</th>\n",
              "      <th>Race_Black</th>\n",
              "      <th>Race_Hispanic</th>\n",
              "      <th>Race_Other</th>\n",
              "      <th>Race_White</th>\n",
              "      <th>GenHealth_Excellent</th>\n",
              "      <th>GenHealth_Fair</th>\n",
              "      <th>GenHealth_Good</th>\n",
              "      <th>GenHealth_Poor</th>\n",
              "      <th>GenHealth_Very good</th>\n",
              "    </tr>\n",
              "  </thead>\n",
              "  <tbody>\n",
              "    <tr>\n",
              "      <th>0</th>\n",
              "      <td>16.60</td>\n",
              "      <td>0</td>\n",
              "      <td>0</td>\n",
              "      <td>1</td>\n",
              "      <td>0</td>\n",
              "      <td>0</td>\n",
              "      <td>0</td>\n",
              "      <td>1</td>\n",
              "      <td>0</td>\n",
              "      <td>1</td>\n",
              "      <td>...</td>\n",
              "      <td>0</td>\n",
              "      <td>0</td>\n",
              "      <td>0</td>\n",
              "      <td>0</td>\n",
              "      <td>1</td>\n",
              "      <td>0</td>\n",
              "      <td>0</td>\n",
              "      <td>0</td>\n",
              "      <td>0</td>\n",
              "      <td>1</td>\n",
              "    </tr>\n",
              "    <tr>\n",
              "      <th>1</th>\n",
              "      <td>20.34</td>\n",
              "      <td>0</td>\n",
              "      <td>0</td>\n",
              "      <td>0</td>\n",
              "      <td>0</td>\n",
              "      <td>1</td>\n",
              "      <td>0</td>\n",
              "      <td>0</td>\n",
              "      <td>0</td>\n",
              "      <td>1</td>\n",
              "      <td>...</td>\n",
              "      <td>0</td>\n",
              "      <td>0</td>\n",
              "      <td>0</td>\n",
              "      <td>0</td>\n",
              "      <td>1</td>\n",
              "      <td>0</td>\n",
              "      <td>0</td>\n",
              "      <td>0</td>\n",
              "      <td>0</td>\n",
              "      <td>1</td>\n",
              "    </tr>\n",
              "    <tr>\n",
              "      <th>2</th>\n",
              "      <td>26.58</td>\n",
              "      <td>0</td>\n",
              "      <td>1</td>\n",
              "      <td>1</td>\n",
              "      <td>0</td>\n",
              "      <td>0</td>\n",
              "      <td>0</td>\n",
              "      <td>1</td>\n",
              "      <td>0</td>\n",
              "      <td>1</td>\n",
              "      <td>...</td>\n",
              "      <td>0</td>\n",
              "      <td>0</td>\n",
              "      <td>0</td>\n",
              "      <td>0</td>\n",
              "      <td>1</td>\n",
              "      <td>0</td>\n",
              "      <td>1</td>\n",
              "      <td>0</td>\n",
              "      <td>0</td>\n",
              "      <td>0</td>\n",
              "    </tr>\n",
              "    <tr>\n",
              "      <th>3</th>\n",
              "      <td>24.21</td>\n",
              "      <td>0</td>\n",
              "      <td>0</td>\n",
              "      <td>0</td>\n",
              "      <td>0</td>\n",
              "      <td>0</td>\n",
              "      <td>0</td>\n",
              "      <td>0</td>\n",
              "      <td>0</td>\n",
              "      <td>0</td>\n",
              "      <td>...</td>\n",
              "      <td>0</td>\n",
              "      <td>0</td>\n",
              "      <td>0</td>\n",
              "      <td>0</td>\n",
              "      <td>1</td>\n",
              "      <td>0</td>\n",
              "      <td>0</td>\n",
              "      <td>1</td>\n",
              "      <td>0</td>\n",
              "      <td>0</td>\n",
              "    </tr>\n",
              "    <tr>\n",
              "      <th>4</th>\n",
              "      <td>23.71</td>\n",
              "      <td>0</td>\n",
              "      <td>0</td>\n",
              "      <td>0</td>\n",
              "      <td>0</td>\n",
              "      <td>0</td>\n",
              "      <td>0</td>\n",
              "      <td>0</td>\n",
              "      <td>0</td>\n",
              "      <td>1</td>\n",
              "      <td>...</td>\n",
              "      <td>0</td>\n",
              "      <td>0</td>\n",
              "      <td>0</td>\n",
              "      <td>0</td>\n",
              "      <td>1</td>\n",
              "      <td>0</td>\n",
              "      <td>0</td>\n",
              "      <td>0</td>\n",
              "      <td>0</td>\n",
              "      <td>1</td>\n",
              "    </tr>\n",
              "  </tbody>\n",
              "</table>\n",
              "<p>5 rows × 34 columns</p>\n",
              "</div>\n",
              "      <button class=\"colab-df-convert\" onclick=\"convertToInteractive('df-b291f831-4597-4847-b817-77da904904dc')\"\n",
              "              title=\"Convert this dataframe to an interactive table.\"\n",
              "              style=\"display:none;\">\n",
              "        \n",
              "  <svg xmlns=\"http://www.w3.org/2000/svg\" height=\"24px\"viewBox=\"0 0 24 24\"\n",
              "       width=\"24px\">\n",
              "    <path d=\"M0 0h24v24H0V0z\" fill=\"none\"/>\n",
              "    <path d=\"M18.56 5.44l.94 2.06.94-2.06 2.06-.94-2.06-.94-.94-2.06-.94 2.06-2.06.94zm-11 1L8.5 8.5l.94-2.06 2.06-.94-2.06-.94L8.5 2.5l-.94 2.06-2.06.94zm10 10l.94 2.06.94-2.06 2.06-.94-2.06-.94-.94-2.06-.94 2.06-2.06.94z\"/><path d=\"M17.41 7.96l-1.37-1.37c-.4-.4-.92-.59-1.43-.59-.52 0-1.04.2-1.43.59L10.3 9.45l-7.72 7.72c-.78.78-.78 2.05 0 2.83L4 21.41c.39.39.9.59 1.41.59.51 0 1.02-.2 1.41-.59l7.78-7.78 2.81-2.81c.8-.78.8-2.07 0-2.86zM5.41 20L4 18.59l7.72-7.72 1.47 1.35L5.41 20z\"/>\n",
              "  </svg>\n",
              "      </button>\n",
              "      \n",
              "  <style>\n",
              "    .colab-df-container {\n",
              "      display:flex;\n",
              "      flex-wrap:wrap;\n",
              "      gap: 12px;\n",
              "    }\n",
              "\n",
              "    .colab-df-convert {\n",
              "      background-color: #E8F0FE;\n",
              "      border: none;\n",
              "      border-radius: 50%;\n",
              "      cursor: pointer;\n",
              "      display: none;\n",
              "      fill: #1967D2;\n",
              "      height: 32px;\n",
              "      padding: 0 0 0 0;\n",
              "      width: 32px;\n",
              "    }\n",
              "\n",
              "    .colab-df-convert:hover {\n",
              "      background-color: #E2EBFA;\n",
              "      box-shadow: 0px 1px 2px rgba(60, 64, 67, 0.3), 0px 1px 3px 1px rgba(60, 64, 67, 0.15);\n",
              "      fill: #174EA6;\n",
              "    }\n",
              "\n",
              "    [theme=dark] .colab-df-convert {\n",
              "      background-color: #3B4455;\n",
              "      fill: #D2E3FC;\n",
              "    }\n",
              "\n",
              "    [theme=dark] .colab-df-convert:hover {\n",
              "      background-color: #434B5C;\n",
              "      box-shadow: 0px 1px 3px 1px rgba(0, 0, 0, 0.15);\n",
              "      filter: drop-shadow(0px 1px 2px rgba(0, 0, 0, 0.3));\n",
              "      fill: #FFFFFF;\n",
              "    }\n",
              "  </style>\n",
              "\n",
              "      <script>\n",
              "        const buttonEl =\n",
              "          document.querySelector('#df-b291f831-4597-4847-b817-77da904904dc button.colab-df-convert');\n",
              "        buttonEl.style.display =\n",
              "          google.colab.kernel.accessAllowed ? 'block' : 'none';\n",
              "\n",
              "        async function convertToInteractive(key) {\n",
              "          const element = document.querySelector('#df-b291f831-4597-4847-b817-77da904904dc');\n",
              "          const dataTable =\n",
              "            await google.colab.kernel.invokeFunction('convertToInteractive',\n",
              "                                                     [key], {});\n",
              "          if (!dataTable) return;\n",
              "\n",
              "          const docLinkHtml = 'Like what you see? Visit the ' +\n",
              "            '<a target=\"_blank\" href=https://colab.research.google.com/notebooks/data_table.ipynb>data table notebook</a>'\n",
              "            + ' to learn more about interactive tables.';\n",
              "          element.innerHTML = '';\n",
              "          dataTable['output_type'] = 'display_data';\n",
              "          await google.colab.output.renderOutput(dataTable, element);\n",
              "          const docLink = document.createElement('div');\n",
              "          docLink.innerHTML = docLinkHtml;\n",
              "          element.appendChild(docLink);\n",
              "        }\n",
              "      </script>\n",
              "    </div>\n",
              "  </div>\n",
              "  "
            ]
          },
          "metadata": {},
          "execution_count": 39
        }
      ]
    },
    {
      "cell_type": "code",
      "source": [
        "#After the conversion, the target features have expanded\n",
        "#from the original 11 columns to a total of 34 columns.\n",
        "\n",
        "heart_disease_df_dummy.info()"
      ],
      "metadata": {
        "colab": {
          "base_uri": "https://localhost:8080/"
        },
        "id": "6FjkLNxIJZts",
        "outputId": "a20021cc-6f4c-4212-e30c-e2d3ec0f05b5"
      },
      "execution_count": null,
      "outputs": [
        {
          "output_type": "stream",
          "name": "stdout",
          "text": [
            "<class 'pandas.core.frame.DataFrame'>\n",
            "RangeIndex: 319795 entries, 0 to 319794\n",
            "Data columns (total 34 columns):\n",
            " #   Column                               Non-Null Count   Dtype  \n",
            "---  ------                               --------------   -----  \n",
            " 0   BMI                                  319795 non-null  float64\n",
            " 1   HeartDisease_Yes                     319795 non-null  uint8  \n",
            " 2   Sex_Male                             319795 non-null  uint8  \n",
            " 3   Smoking_Yes                          319795 non-null  uint8  \n",
            " 4   AlcoholDrinking_Yes                  319795 non-null  uint8  \n",
            " 5   Stroke_Yes                           319795 non-null  uint8  \n",
            " 6   Diabetic_No, borderline diabetes     319795 non-null  uint8  \n",
            " 7   Diabetic_Yes                         319795 non-null  uint8  \n",
            " 8   Diabetic_Yes (during pregnancy)      319795 non-null  uint8  \n",
            " 9   PhysicalActivity_Yes                 319795 non-null  uint8  \n",
            " 10  AgeCategory_18-24                    319795 non-null  uint8  \n",
            " 11  AgeCategory_25-29                    319795 non-null  uint8  \n",
            " 12  AgeCategory_30-34                    319795 non-null  uint8  \n",
            " 13  AgeCategory_35-39                    319795 non-null  uint8  \n",
            " 14  AgeCategory_40-44                    319795 non-null  uint8  \n",
            " 15  AgeCategory_45-49                    319795 non-null  uint8  \n",
            " 16  AgeCategory_50-54                    319795 non-null  uint8  \n",
            " 17  AgeCategory_55-59                    319795 non-null  uint8  \n",
            " 18  AgeCategory_60-64                    319795 non-null  uint8  \n",
            " 19  AgeCategory_65-69                    319795 non-null  uint8  \n",
            " 20  AgeCategory_70-74                    319795 non-null  uint8  \n",
            " 21  AgeCategory_75-79                    319795 non-null  uint8  \n",
            " 22  AgeCategory_80 or older              319795 non-null  uint8  \n",
            " 23  Race_American Indian/Alaskan Native  319795 non-null  uint8  \n",
            " 24  Race_Asian                           319795 non-null  uint8  \n",
            " 25  Race_Black                           319795 non-null  uint8  \n",
            " 26  Race_Hispanic                        319795 non-null  uint8  \n",
            " 27  Race_Other                           319795 non-null  uint8  \n",
            " 28  Race_White                           319795 non-null  uint8  \n",
            " 29  GenHealth_Excellent                  319795 non-null  uint8  \n",
            " 30  GenHealth_Fair                       319795 non-null  uint8  \n",
            " 31  GenHealth_Good                       319795 non-null  uint8  \n",
            " 32  GenHealth_Poor                       319795 non-null  uint8  \n",
            " 33  GenHealth_Very good                  319795 non-null  uint8  \n",
            "dtypes: float64(1), uint8(33)\n",
            "memory usage: 12.5 MB\n"
          ]
        }
      ]
    },
    {
      "cell_type": "markdown",
      "source": [
        "# K-Nearest Neighbor Value"
      ],
      "metadata": {
        "id": "5SCKhUu6JzSm"
      }
    },
    {
      "cell_type": "markdown",
      "source": [
        "As you create synthetic samples, choose the best k value to use for SMOTE's k-nearest neighbours."
      ],
      "metadata": {
        "id": "rJc4PjaNJ4N2"
      }
    },
    {
      "cell_type": "code",
      "source": [
        "# Extract the features and target variables from the heart disease DataFrame\n",
        "X = heart_disease_df_dummy.drop(['HeartDisease_Yes'], axis=1)\n",
        "y = heart_disease_df_dummy['HeartDisease_Yes']\n",
        "\n",
        "# Define a range of values for the number of neighbors parameter in KNN\n",
        "param_grid = {'n_neighbors': [55, 60]}\n",
        "\n",
        "# Create a KNN classifier object\n",
        "knn = KNeighborsClassifier()\n",
        "\n",
        "# Use grid search to find the best value of k\n",
        "grid_search = GridSearchCV(knn, param_grid, cv=5)\n",
        "grid_search.fit(X, y)\n",
        "\n",
        "# Print the best parameter and score found by grid search\n",
        "print(f\"Best parameter: {grid_search.best_params_}\")\n",
        "print(f\"Best score: {round(grid_search.best_score_, 2)}\")\n"
      ],
      "metadata": {
        "colab": {
          "base_uri": "https://localhost:8080/"
        },
        "id": "ysNH5QyyKBxE",
        "outputId": "21248b64-7da6-4487-c55c-f3d80dfe63a2"
      },
      "execution_count": null,
      "outputs": [
        {
          "output_type": "stream",
          "name": "stdout",
          "text": [
            "Best parameter: {'n_neighbors': 55}\n",
            "Best score: 0.92\n"
          ]
        }
      ]
    },
    {
      "cell_type": "markdown",
      "source": [
        "# Using SMOTE to Produce Synthetic Data"
      ],
      "metadata": {
        "id": "Lc5x6xCIO3SQ"
      }
    },
    {
      "cell_type": "markdown",
      "source": [
        "As previously mentioned, synthetic data will be produced using SMOTE in order to obtain a balanced distribution of data across all classes. The number to be utilised for k neighbors is 55 because it produced the best results for k-nearest neighbours during the hyperparameter tuning procedure."
      ],
      "metadata": {
        "id": "RI-fr3RkO1iX"
      }
    },
    {
      "cell_type": "code",
      "source": [
        "from imblearn.over_sampling import SMOTE\n",
        "\n",
        "# Define the oversampling method\n",
        "oversample = SMOTE(k_neighbors=55, random_state=0)\n",
        "\n",
        "# Print information about the oversampling method\n",
        "print(f\"Oversampling method: {oversample}\")"
      ],
      "metadata": {
        "colab": {
          "base_uri": "https://localhost:8080/"
        },
        "id": "0IgveVy7PPl0",
        "outputId": "4aa42a7d-9a54-478a-b6d3-ad9e754dabad"
      },
      "execution_count": null,
      "outputs": [
        {
          "output_type": "stream",
          "name": "stdout",
          "text": [
            "Oversampling method: SMOTE(k_neighbors=55, random_state=0)\n"
          ]
        }
      ]
    },
    {
      "cell_type": "code",
      "source": [
        "# Balance the dataset using SMOTE\n",
        "from imblearn.over_sampling import SMOTE\n",
        "\n",
        "smote = SMOTE()\n",
        "X_resampled, y_resampled = smote.fit_resample(X, y)\n",
        "\n",
        "# Convert y_resampled to a Pandas Series for easier handling\n",
        "y_resampled = pd.Series(y_resampled)\n",
        "\n",
        "# Display the number of records before and after SMOTE\n",
        "print(f'Number of records before SMOTE:\\n{y.value_counts()}\\n')\n",
        "print(f'Number of records after SMOTE:\\n{y_resampled.value_counts()}')"
      ],
      "metadata": {
        "colab": {
          "base_uri": "https://localhost:8080/"
        },
        "id": "g-pvqP_ZQLCi",
        "outputId": "cd2b3628-cb98-4437-d5b3-d843968427f5"
      },
      "execution_count": null,
      "outputs": [
        {
          "output_type": "stream",
          "name": "stdout",
          "text": [
            "Number of records before SMOTE:\n",
            "0    292422\n",
            "1     27373\n",
            "Name: HeartDisease_Yes, dtype: int64\n",
            "\n",
            "Number of records after SMOTE:\n",
            "0    292422\n",
            "1    292422\n",
            "Name: HeartDisease_Yes, dtype: int64\n"
          ]
        }
      ]
    },
    {
      "cell_type": "markdown",
      "source": [
        "# Test And Train"
      ],
      "metadata": {
        "id": "3M83NGJrGJNJ"
      }
    },
    {
      "cell_type": "markdown",
      "source": [
        "Split Data Into Training And Test Sets"
      ],
      "metadata": {
        "id": "xHEJSK-R2_53"
      }
    },
    {
      "cell_type": "code",
      "source": [
        "# Split the data into training and test sets\n",
        "from sklearn.model_selection import train_test_split\n",
        "from imblearn.over_sampling import SMOTE\n",
        "\n",
        "# Assume that X and y are the original features and target variable\n",
        "smote = SMOTE(random_state=0)\n",
        "X_features_smoted, y_target_smoted = smote.fit_resample(X, y)\n",
        "\n",
        "X_train, X_test, y_train, y_test = train_test_split(X_features_smoted, y_target_smoted, test_size=0.3, random_state=0)\n",
        "\n",
        "# Print the number of training and test datasets\n",
        "num_train = X_train.shape[0]\n",
        "num_test = X_test.shape[0]\n",
        "\n",
        "print(\"Data Split:\")\n",
        "print(\"-----------\")\n",
        "print(f\"Number of training datasets: {num_train}\")\n",
        "print(f\"Number of test datasets: {num_test}\")"
      ],
      "metadata": {
        "colab": {
          "base_uri": "https://localhost:8080/"
        },
        "id": "pZCFlaFJQoql",
        "outputId": "b18c6432-bf41-4d77-d1f5-0916cb50a46a"
      },
      "execution_count": null,
      "outputs": [
        {
          "output_type": "stream",
          "name": "stdout",
          "text": [
            "Data Split:\n",
            "-----------\n",
            "Number of training datasets: 409390\n",
            "Number of test datasets: 175454\n"
          ]
        }
      ]
    },
    {
      "cell_type": "markdown",
      "source": [
        "# Let's Build A Model"
      ],
      "metadata": {
        "id": "LlqQGNhiShtY"
      }
    },
    {
      "cell_type": "markdown",
      "source": [
        "The dataset is split into two sections, with 80% used to train a heart disease prediction algorithm. Logistic regression with built-in cross-validation is used to build the model."
      ],
      "metadata": {
        "id": "ETmA5u1sSsI2"
      }
    },
    {
      "cell_type": "code",
      "source": [
        "# Create a logistic regression model with cross-validation\n",
        "logreg_model = LogisticRegressionCV(solver='lbfgs')\n",
        "\n",
        "# Fit the model on the training data\n",
        "logreg_model.fit(X_train, y_train)\n",
        "\n",
        "# Print the type of the trained model\n",
        "print(f\"The trained model is a {type(logreg_model).__name__}.\")"
      ],
      "metadata": {
        "colab": {
          "base_uri": "https://localhost:8080/"
        },
        "id": "21ULhkhlS-n-",
        "outputId": "e653dfde-490e-4976-c292-4cdd50e57514"
      },
      "execution_count": null,
      "outputs": [
        {
          "output_type": "stream",
          "name": "stdout",
          "text": [
            "The trained model is a LogisticRegressionCV.\n"
          ]
        }
      ]
    },
    {
      "cell_type": "markdown",
      "source": [
        "Both the training set's and the test set's accuracy scores are fairly similar, at 0.8341 and 0.8325 respectively. Overfitting is therefore not supported by the data."
      ],
      "metadata": {
        "id": "vzQtye9gUUG9"
      }
    },
    {
      "cell_type": "markdown",
      "source": [
        "# Create Model"
      ],
      "metadata": {
        "id": "sySSR9N4UPtA"
      }
    },
    {
      "cell_type": "code",
      "source": [
        "from keras.models import Sequential\n",
        "from keras.layers import Dense\n",
        "\n",
        "# Define the sequential model\n",
        "model = Sequential([\n",
        "    Dense(64, activation='relu', input_shape=(33,)), # input_shape is now (33,)\n",
        "    Dense(10, activation='softmax')\n",
        "])"
      ],
      "metadata": {
        "id": "u2tAq3VuWYoV"
      },
      "execution_count": null,
      "outputs": []
    },
    {
      "cell_type": "code",
      "source": [
        "# Compile the model\n",
        "model.compile(optimizer='adam', loss='sparse_categorical_crossentropy', metrics=['accuracy'])\n",
        "\n",
        "# Train the model\n",
        "model.fit(X_train, y_train, epochs=10, validation_data=(X_test, y_test))\n",
        "\n",
        "# Evaluate model on training dataset\n",
        "train_accuracy = accuracy_score(y_train, model.predict(X_train).argmax(axis=-1))\n",
        "print(\"Training Accuracy:\", round(train_accuracy, 4))\n",
        "\n",
        "# Evaluate model on testing dataset\n",
        "test_accuracy = accuracy_score(y_test, model.predict(X_test).argmax(axis=-1))\n",
        "print(\"Testing Accuracy:\", round(test_accuracy, 4))"
      ],
      "metadata": {
        "colab": {
          "base_uri": "https://localhost:8080/"
        },
        "id": "w6kXaA0fWeE1",
        "outputId": "345e0971-6e05-4a50-ba5a-a831a51a9b36"
      },
      "execution_count": null,
      "outputs": [
        {
          "output_type": "stream",
          "name": "stdout",
          "text": [
            "Epoch 1/10\n",
            "12794/12794 [==============================] - 34s 3ms/step - loss: 0.4753 - accuracy: 0.7751 - val_loss: 0.4469 - val_accuracy: 0.7853\n",
            "Epoch 2/10\n",
            "12794/12794 [==============================] - 36s 3ms/step - loss: 0.4418 - accuracy: 0.7878 - val_loss: 0.4400 - val_accuracy: 0.7891\n",
            "Epoch 3/10\n",
            "12794/12794 [==============================] - 36s 3ms/step - loss: 0.4363 - accuracy: 0.7902 - val_loss: 0.4489 - val_accuracy: 0.7810\n",
            "Epoch 4/10\n",
            "12794/12794 [==============================] - 35s 3ms/step - loss: 0.4330 - accuracy: 0.7920 - val_loss: 0.4304 - val_accuracy: 0.7936\n",
            "Epoch 5/10\n",
            "12794/12794 [==============================] - 36s 3ms/step - loss: 0.4312 - accuracy: 0.7926 - val_loss: 0.4349 - val_accuracy: 0.7894\n",
            "Epoch 6/10\n",
            "12794/12794 [==============================] - 32s 3ms/step - loss: 0.4292 - accuracy: 0.7939 - val_loss: 0.4366 - val_accuracy: 0.7888\n",
            "Epoch 7/10\n",
            "12794/12794 [==============================] - 33s 3ms/step - loss: 0.4278 - accuracy: 0.7942 - val_loss: 0.4271 - val_accuracy: 0.7947\n",
            "Epoch 8/10\n",
            "12794/12794 [==============================] - 32s 3ms/step - loss: 0.4267 - accuracy: 0.7948 - val_loss: 0.4282 - val_accuracy: 0.7940\n",
            "Epoch 9/10\n",
            "12794/12794 [==============================] - 35s 3ms/step - loss: 0.4256 - accuracy: 0.7947 - val_loss: 0.4252 - val_accuracy: 0.7955\n",
            "Epoch 10/10\n",
            "12794/12794 [==============================] - 33s 3ms/step - loss: 0.4248 - accuracy: 0.7954 - val_loss: 0.4267 - val_accuracy: 0.7946\n",
            "12794/12794 [==============================] - 18s 1ms/step\n",
            "Training Accuracy: 0.7954\n",
            "5483/5483 [==============================] - 10s 2ms/step\n",
            "Testing Accuracy: 0.7946\n"
          ]
        }
      ]
    },
    {
      "cell_type": "markdown",
      "source": [
        "# Evaluating the Model"
      ],
      "metadata": {
        "id": "wJjJhyjUYjCL"
      }
    },
    {
      "cell_type": "markdown",
      "source": [
        "To view the summary of prediction results and get a clear sense of the performance of the classification model, we will utilise the classification report and confusion matrix."
      ],
      "metadata": {
        "id": "EmFuUapWZDGw"
      }
    },
    {
      "cell_type": "code",
      "source": [
        "# Get the test loss and accuracy\n",
        "test_loss, test_acc = model.evaluate(X_test, y_test, verbose=0)\n",
        "\n",
        "# Predict on test data\n",
        "y_pred_test = model.predict(X_test)\n",
        "\n",
        "if y_pred_test.shape[1] > 1:\n",
        "    y_pred_test_binary = y_pred_test.argmax(axis=1)\n",
        "else:\n",
        "    y_pred_test_binary = (y_pred_test > 0.5).astype(int)\n",
        "\n",
        "print(\"Classification Report of Test Dataset\\n\")\n",
        "print(classification_report(y_test, y_pred_test_binary))\n",
        "\n",
        "cm = confusion_matrix(y_test, y_pred_test_binary)\n",
        "TN, FP, FN, TP = cm.ravel()\n",
        "\n",
        "cm_matrix = pd.DataFrame(data=cm, columns=['Actual Positive:1', 'Actual Negative:0'], index=['Predict Positive:1', 'Predict Negative:0'])\n",
        "sb.heatmap(cm_matrix, annot=True, fmt='d')\n",
        "plt.title('Confusion Matrix', fontsize=14, fontweight='bold')\n",
        "\n",
        "print(\"Test Loss:\", test_loss)\n",
        "print(\"Test Accuracy:\", test_acc)"
      ],
      "metadata": {
        "colab": {
          "base_uri": "https://localhost:8080/",
          "height": 575
        },
        "id": "Rd1ZjW1lOhve",
        "outputId": "4ec3ffef-d081-4915-ea58-e9ea3ab39553"
      },
      "execution_count": null,
      "outputs": [
        {
          "output_type": "stream",
          "name": "stdout",
          "text": [
            "5483/5483 [==============================] - 8s 2ms/step\n",
            "Classification Report of Test Dataset\n",
            "\n",
            "              precision    recall  f1-score   support\n",
            "\n",
            "           0       0.84      0.73      0.78     87481\n",
            "           1       0.76      0.86      0.81     87973\n",
            "\n",
            "    accuracy                           0.79    175454\n",
            "   macro avg       0.80      0.79      0.79    175454\n",
            "weighted avg       0.80      0.79      0.79    175454\n",
            "\n",
            "Test Loss: 0.42666399478912354\n",
            "Test Accuracy: 0.7945501208305359\n"
          ]
        },
        {
          "output_type": "display_data",
          "data": {
            "text/plain": [
              "<Figure size 500x300 with 2 Axes>"
            ],
            "image/png": "[encoded data removed]"
          },
          "metadata": {}
        }
      ]
    },
    {
      "cell_type": "markdown",
      "source": [
        "The accuracy score of the developed model is 0.79, which represents the proportion of accurate predictions to overall predictions."
      ],
      "metadata": {
        "id": "Ux_76a6_afAI"
      }
    },
    {
      "cell_type": "code",
      "source": [
        "total_samples_s = TP + TN + FP + FN\n",
        "accuracy_score_s = (TP + TN) / total_samples_s\n",
        "print(f\"Accuracy score: {round(accuracy_score_s, 2)}\")\n"
      ],
      "metadata": {
        "colab": {
          "base_uri": "https://localhost:8080/"
        },
        "id": "g2PMdhBlaxLu",
        "outputId": "38e7958f-b437-46cb-f6b8-4a5b0fa6982c"
      },
      "execution_count": null,
      "outputs": [
        {
          "output_type": "stream",
          "name": "stdout",
          "text": [
            "Accuracy score: 0.79\n"
          ]
        }
      ]
    },
    {
      "cell_type": "code",
      "source": [
        "recall_s = TP / float(TP + FN)\n",
        "recall_score_s = round(recall_s, 2)\n",
        "print(f'Recall score: {recall_score_s}')"
      ],
      "metadata": {
        "colab": {
          "base_uri": "https://localhost:8080/"
        },
        "id": "jih_K131bBbW",
        "outputId": "45f999a9-5d9c-416a-95e3-223d4210b3e6"
      },
      "execution_count": null,
      "outputs": [
        {
          "output_type": "stream",
          "name": "stdout",
          "text": [
            "Recall score: 0.86\n"
          ]
        }
      ]
    },
    {
      "cell_type": "markdown",
      "source": [
        "Recall score, which measures the percentage of actual positive instances that the model accurately detected out of all positive cases of heart disease, is 0.85."
      ],
      "metadata": {
        "id": "JPiU7tFubFgu"
      }
    },
    {
      "cell_type": "markdown",
      "source": [
        "ROC curve"
      ],
      "metadata": {
        "id": "ZEvSSpX4bdQw"
      }
    },
    {
      "cell_type": "code",
      "source": [
        "# Predict outputs for test data using the trained model\n",
        "y_pred_test = model.predict(X_test)\n",
        "\n",
        "# Extract probabilities of positive class\n",
        "y_prob_test = y_pred_test[:,1]\n",
        "\n",
        "# Compute ROC curve values for test data\n",
        "fpr, tpr, thresholds = roc_curve(y_test, y_prob_test)\n",
        "\n",
        "# Compute AUC (Area Under the Curve) for ROC curve\n",
        "auc = round(roc_auc_score(y_test, y_prob_test), 2)\n",
        "\n",
        "# Plot ROC curve\n",
        "plt.plot(fpr, tpr, linewidth=2, label=\"ROC curve (auc=\" + str(auc) + \")\")\n",
        "plt.plot([0,1], [0,1], 'k--' )\n",
        "plt.title('ROC curve for Predicting Heart Disease', fontsize=14, fontweight='bold')\n",
        "plt.xlabel('False Positive Rate')\n",
        "plt.ylabel('True Positive Rate')\n",
        "plt.legend(loc='lower right')\n",
        "plt.show()\n"
      ],
      "metadata": {
        "colab": {
          "base_uri": "https://localhost:8080/",
          "height": 360
        },
        "id": "jB3LMm28bg8d",
        "outputId": "ca157c7b-87e2-4eaf-b759-89edcf48f746"
      },
      "execution_count": null,
      "outputs": [
        {
          "output_type": "stream",
          "name": "stdout",
          "text": [
            "5483/5483 [==============================] - 7s 1ms/step\n"
          ]
        },
        {
          "output_type": "display_data",
          "data": {
            "text/plain": [
              "<Figure size 500x300 with 1 Axes>"
            ],
            "image/png": "[encoded data removed]"
          },
          "metadata": {}
        }
      ]
    },
    {
      "cell_type": "markdown",
      "source": [
        "The well-balanced ROC (Receiver Operating Characteristics) curve shown indicates that the model does a decent job of differentiating between true positive and false positive heart disease instances. This finding is further backed up by the Area Under the Curve (AUC) score of 0.88. The ROC AUC score is higher because the ROC curve's placement near the top-left corner suggests a wider area under it. AUC of 1 would be attained by a perfect classifier, it is important to note."
      ],
      "metadata": {
        "id": "gx1H5KpFckF1"
      }
    },
    {
      "cell_type": "markdown",
      "source": [
        "# Predicting test results"
      ],
      "metadata": {
        "id": "EsaD4DvQcvxK"
      }
    },
    {
      "cell_type": "markdown",
      "source": [
        "Based on the patient's medical history, which is provided below, we will assess our model by using it to predict the probability that a patient would acquire heart disease."
      ],
      "metadata": {
        "id": "BVqbl3Kvc4Y3"
      }
    },
    {
      "cell_type": "code",
      "source": [
        "from enum import Enum\n",
        "\n",
        "class Feature(Enum):\n",
        "\n",
        "    BMI = 0\n",
        "    Sex = 1\n",
        "    Smoking = 2\n",
        "    AlcoholDrinking = 3\n",
        "    Stroke = 4\n",
        "    DiabeticBorderline = 5\n",
        "    Diabetic = 6\n",
        "    DiabeticPregnancy= 7\n",
        "    PhysicalActivity = 8\n",
        "    AgeCategory_18_24 = 9\n",
        "    AgeCategory_25_29 = 10\n",
        "    AgeCategory_30_34 = 11\n",
        "    AgeCategory_35_39 = 12\n",
        "    AgeCategory_40_44 = 13\n",
        "    AgeCategory_45_49 = 14\n",
        "    AgeCategory_50_54 = 15\n",
        "    AgeCategory_55_59 = 16\n",
        "    AgeCategory_60_64 = 17\n",
        "    AgeCategory_65_69 = 18\n",
        "    AgeCategory_70_74 = 19\n",
        "    AgeCategory_75_79 = 20\n",
        "    AgeCategory_80_older = 21\n",
        "    Race_American_Indian = 22\n",
        "    Race_Asian = 23\n",
        "    Race_Black = 24\n",
        "    Race_Hispanic = 25\n",
        "    Race_Other = 26\n",
        "    Race_White = 27\n",
        "    GenHealth_Excellent = 28\n",
        "    GenHealth_Fair = 29\n",
        "    GenHealth_Good = 30\n",
        "    GenHealth_Poor = 31\n",
        "    GenHealth_Very_Good = 32\n",
        "\n",
        "\n",
        "def getPrediction(input_data):\n",
        "    df = np.array(input_data).reshape(1,-1)\n",
        "    return round(model.predict_proba(df)[0][1] * 100, 2)\n",
        "\n",
        "\n",
        "def testPrediction(input_data):\n",
        "\n",
        "    print(\"-----------------------------------------------------------\")\n",
        "    print(\"                   PATIENT'S RECORD                        \")\n",
        "    print(\"-----------------------------------------------------------\")\n",
        "    for key, value in input_data.items():\n",
        "        print(f\"{key}: {value}\")\n",
        "    print(\"-----------------------------------------------------------\")\n",
        "\n",
        "    upd_input_data = [0] * (heart_disease_df_dummy.columns.size - 1)\n",
        "\n",
        "    upd_input_data[Feature.BMI.value] = input_data['BMI']\n",
        "    upd_input_data[Feature.Sex.value] = 1 if input_data['Sex'].lower()  == 'male' else 0\n",
        "    upd_input_data[Feature.AlcoholDrinking.value] = 1 if input_data['Alcohol Drinking'].lower() == 'yes' else 0\n",
        "    upd_input_data[Feature.PhysicalActivity.value] = 1 if input_data['Physical Activity'].lower()  == 'yes' else 0\n",
        "    upd_input_data[Feature.Smoking.value] = 1 if input_data['Smoking'].lower()  == 'yes' else 0\n",
        "    upd_input_data[Feature.Stroke.value] = 1 if input_data['Stroke'].lower()  == 'yes' else 0\n",
        "\n",
        "\n",
        "    race = input_data['Race'].lower()\n",
        "    if race in ['american indian', 'alaskan native']:\n",
        "        upd_input_data[Feature.Race_American_Indian.value] = 1\n",
        "    elif race == 'asian':\n",
        "        upd_input_data[Feature.Race_Asian.value] = 1\n",
        "    elif race == 'black':\n",
        "        upd_input_data[Feature.Race_Black.value] = 1\n",
        "    elif race == 'hispanic':\n",
        "        upd_input_data[Feature.Race_Hispanic.value] = 1\n",
        "    elif race == 'white':\n",
        "        upd_input_data[Feature.Race_White.value] = 1\n",
        "    elif race == 'other':\n",
        "        upd_input_data[Feature.Race_Other.value] = 1\n",
        "\n",
        "\n",
        "    age = input_data['Age']\n",
        "    if 18 >= age <= 24:\n",
        "        upd_input_data[Feature.AgeCategory_18_24.value] = 1\n",
        "    elif 25 >= age <= 29:\n",
        "        upd_input_data[Feature.AgeCategory_25_29.value] = 1\n",
        "    elif 30 >= age <= 34:\n",
        "        upd_input_data[Feature.AgeCategory_30_34.value] = 1\n",
        "    elif 35 >= age <= 39:\n",
        "        upd_input_data[Feature.AgeCategory_35_39.value] = 1\n",
        "    elif 40 >= age <= 44:\n",
        "        upd_input_data[Feature.AgeCategory_40_44.value] = 1\n",
        "    elif 45 >= age <= 49:\n",
        "        upd_input_data[Feature.AgeCategory_45_49.value] = 1\n",
        "    elif 50 >= age <= 54:\n",
        "        upd_input_data[Feature.AgeCategory_50_54.value] = 1\n",
        "    elif 55 >= age <= 59:\n",
        "        upd_input_data[Feature.AgeCategory_55_59.value] = 1\n",
        "    elif 60 >= age <= 64:\n",
        "        upd_input_data[Feature.AgeCategory_60_64.value] = 1\n",
        "    elif 65 >= age <= 69:\n",
        "        upd_input_data[Feature.AgeCategory_65_69.value] = 1\n",
        "    elif 70 >= age <= 74:\n",
        "        upd_input_data[Feature.AgeCategory_70_74.value] = 1\n",
        "    elif 75 >= age <= 79:\n",
        "        upd_input_data[Feature.AgeCategory_75_79.value] = 1\n",
        "    elif age >= 80:\n",
        "        upd_input_data[Feature.AgeCategory_80_older.value] = 1\n",
        "\n",
        "\n",
        "    diabetic = input_data['Diabetic'].lower()\n",
        "    if diabetic  == 'yes':\n",
        "        upd_input_data[Feature.Diabetic.value] = 1\n",
        "    elif diabetic.endswith(\"borderline\"):\n",
        "        upd_input_data[Feature.DiabeticBorderline.value] = 1\n",
        "    elif diabetic.endswith(\"during pregnancy\"):\n",
        "        upd_input_data[Feature.DiabeticPregnancy.value] = 1\n",
        "\n",
        "\n",
        "    general_health = input_data['General Health'].lower()\n",
        "    if general_health == 'poor':\n",
        "        upd_input_data[Feature.GenHealth_Poor.value] = 1\n",
        "    elif general_health == 'fair':\n",
        "        upd_input_data[Feature.GenHealth_Fair.value] = 1\n",
        "    elif general_health == 'good':\n",
        "        upd_input_data[Feature.GenHealth_Good.value] = 1\n",
        "    elif general_health == 'very good':\n",
        "        upd_input_data[Feature.GenHealth_Very_Good.value] = 1\n",
        "    elif general_health == 'excellent':\n",
        "        upd_input_data[Feature.GenHealth_Excellent.value] = 1\n",
        "\n",
        "\n",
        "    prediction = getPrediction(upd_input_data)\n",
        "    print(f\"\\nThe probability of {input_data['Name']} developing heart disease is {prediction}%\")"
      ],
      "metadata": {
        "id": "DHCwfZZsdQ4m"
      },
      "execution_count": null,
      "outputs": []
    },
    {
      "cell_type": "code",
      "source": [
        "def getPrediction(input_data):\n",
        "    df = np.array(input_data).reshape(1,-1)\n",
        "    return round(model.predict(df)[0][0] * 100, 2)"
      ],
      "metadata": {
        "id": "yEJ3yCllhZ6H"
      },
      "execution_count": null,
      "outputs": []
    },
    {
      "cell_type": "markdown",
      "source": [
        "Test Data #1"
      ],
      "metadata": {
        "id": "YwNchAOBqM4k"
      }
    },
    {
      "cell_type": "code",
      "source": [
        "test_data = {\n",
        "    'Name' : 'Janet Calvin',\n",
        "    'Sex' : 'Female',\n",
        "    'Age' : 35,\n",
        "    'Race' : 'White',\n",
        "    'BMI' : 21.6,\n",
        "    'Smoking' : 'No',\n",
        "    'Alcohol Drinking' : 'No',\n",
        "    'Stroke' : 'No',\n",
        "    'Diabetic' : 'No',\n",
        "    'Physical Activity' : 'Yes',\n",
        "    'General Health' : 'Good'\n",
        "}\n",
        "\n",
        "testPrediction(test_data)"
      ],
      "metadata": {
        "colab": {
          "base_uri": "https://localhost:8080/"
        },
        "id": "iIub8lnTrL5o",
        "outputId": "17741978-e1b6-4944-e2b8-00aa59882417"
      },
      "execution_count": null,
      "outputs": [
        {
          "output_type": "stream",
          "name": "stdout",
          "text": [
            "-----------------------------------------------------------\n",
            "                   PATIENT'S RECORD                        \n",
            "-----------------------------------------------------------\n",
            "Name: Janet Calvin\n",
            "Sex: Female\n",
            "Age: 35\n",
            "Race: White\n",
            "BMI: 21.6\n",
            "Smoking: No\n",
            "Alcohol Drinking: No\n",
            "Stroke: No\n",
            "Diabetic: No\n",
            "Physical Activity: Yes\n",
            "General Health: Good\n",
            "-----------------------------------------------------------\n",
            "1/1 [==============================] - 0s 58ms/step\n",
            "\n",
            "The probability of Janet Calvin developing heart disease is 89.96%\n"
          ]
        }
      ]
    },
    {
      "cell_type": "markdown",
      "source": [
        "Test Data #2"
      ],
      "metadata": {
        "id": "zHoEhgSls7bi"
      }
    },
    {
      "cell_type": "code",
      "source": [
        "test_data = {\n",
        "    'Name' : 'Gabriel Lockes',\n",
        "    'Sex' : 'Male',\n",
        "    'Age' : 60,\n",
        "    'Race' : 'Hispanic',\n",
        "    'BMI' : 40.6,\n",
        "    'Smoking' : 'Yes',\n",
        "    'Alcohol Drinking' : 'Yes',\n",
        "    'Stroke' : 'No',\n",
        "    'Diabetic' : 'No',\n",
        "    'Physical Activity' : 'Yes',\n",
        "    'General Health' : 'Good'\n",
        "}\n",
        "\n",
        "testPrediction(test_data)"
      ],
      "metadata": {
        "colab": {
          "base_uri": "https://localhost:8080/"
        },
        "id": "rPog2YyKs_CZ",
        "outputId": "ff85b726-d619-4469-e4d9-e5d8b72143d2"
      },
      "execution_count": null,
      "outputs": [
        {
          "output_type": "stream",
          "name": "stdout",
          "text": [
            "-----------------------------------------------------------\n",
            "                   PATIENT'S RECORD                        \n",
            "-----------------------------------------------------------\n",
            "Name: Gabriel Lockes\n",
            "Sex: Male\n",
            "Age: 60\n",
            "Race: Hispanic\n",
            "BMI: 40.6\n",
            "Smoking: Yes\n",
            "Alcohol Drinking: Yes\n",
            "Stroke: No\n",
            "Diabetic: No\n",
            "Physical Activity: Yes\n",
            "General Health: Good\n",
            "-----------------------------------------------------------\n",
            "1/1 [==============================] - 0s 26ms/step\n",
            "\n",
            "The probability of Gabriel Lockes developing heart disease is 94.14%\n"
          ]
        }
      ]
    },
    {
      "cell_type": "markdown",
      "source": [
        "Test Data #3"
      ],
      "metadata": {
        "id": "5GIw_KDUvLpJ"
      }
    },
    {
      "cell_type": "code",
      "source": [
        "input_data = {\n",
        "    'Name' : 'Justina Bervely',\n",
        "    'Sex' : 'Female',\n",
        "    'Age' : 80,\n",
        "    'Race' : 'American_Indian',\n",
        "    'BMI' : 94.6,\n",
        "    'Smoking' : 'Yes',\n",
        "    'Alcohol Drinking' : 'Yes',\n",
        "    'Stroke' : 'Yes',\n",
        "    'Diabetic' : 'Yes',\n",
        "    'Physical Activity' : 'No',\n",
        "    'General Health' : 'Poor'\n",
        "}\n",
        "\n",
        "testPrediction(input_data)"
      ],
      "metadata": {
        "colab": {
          "base_uri": "https://localhost:8080/"
        },
        "id": "Pskzv2AyvTQA",
        "outputId": "02e496c8-5442-46ef-d8e5-93e5d785c5c4"
      },
      "execution_count": null,
      "outputs": [
        {
          "output_type": "stream",
          "name": "stdout",
          "text": [
            "-----------------------------------------------------------\n",
            "                   PATIENT'S RECORD                        \n",
            "-----------------------------------------------------------\n",
            "Name: Justina Bervely\n",
            "Sex: Female\n",
            "Age: 80\n",
            "Race: American_Indian\n",
            "BMI: 94.6\n",
            "Smoking: Yes\n",
            "Alcohol Drinking: Yes\n",
            "Stroke: Yes\n",
            "Diabetic: Yes\n",
            "Physical Activity: No\n",
            "General Health: Poor\n",
            "-----------------------------------------------------------\n",
            "1/1 [==============================] - 0s 32ms/step\n",
            "\n",
            "The probability of Justina Bervely developing heart disease is 0.01%\n"
          ]
        }
      ]
    },
    {
      "cell_type": "markdown",
      "source": [
        "Test Data #4"
      ],
      "metadata": {
        "id": "EMK6PI1VwGPz"
      }
    },
    {
      "cell_type": "code",
      "source": [
        "input_data = {\n",
        "    'Name' : 'Alfred Gomez',\n",
        "    'Sex' : 'Male',\n",
        "    'Age' : 70,\n",
        "    'Race' : 'Other',\n",
        "    'BMI' : 94.6,\n",
        "    'Smoking' : 'Yes',\n",
        "    'Alcohol Drinking' : 'Yes',\n",
        "    'Stroke' : 'No',\n",
        "    'Diabetic' : 'Yes',\n",
        "    'Physical Activity' : 'No',\n",
        "    'General Health' : 'Poor'\n",
        "}\n",
        "\n",
        "testPrediction(input_data)"
      ],
      "metadata": {
        "colab": {
          "base_uri": "https://localhost:8080/"
        },
        "id": "t6n2n2GewKVY",
        "outputId": "a02881ed-ba2f-4725-d1a5-9a30ee2417ee"
      },
      "execution_count": null,
      "outputs": [
        {
          "output_type": "stream",
          "name": "stdout",
          "text": [
            "-----------------------------------------------------------\n",
            "                   PATIENT'S RECORD                        \n",
            "-----------------------------------------------------------\n",
            "Name: Alfred Gomez\n",
            "Sex: Male\n",
            "Age: 70\n",
            "Race: Other\n",
            "BMI: 94.6\n",
            "Smoking: Yes\n",
            "Alcohol Drinking: Yes\n",
            "Stroke: No\n",
            "Diabetic: Yes\n",
            "Physical Activity: No\n",
            "General Health: Poor\n",
            "-----------------------------------------------------------\n",
            "1/1 [==============================] - 0s 24ms/step\n",
            "\n",
            "The probability of Alfred Gomez developing heart disease is 92.81%\n"
          ]
        }
      ]
    }
  ]
}