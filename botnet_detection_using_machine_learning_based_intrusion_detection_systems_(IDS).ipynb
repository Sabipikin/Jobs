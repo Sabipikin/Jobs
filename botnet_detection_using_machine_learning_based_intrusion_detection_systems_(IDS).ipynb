{
  "nbformat": 4,
  "nbformat_minor": 0,
  "metadata": {
    "colab": {
      "provenance": []
    },
    "kernelspec": {
      "name": "python3",
      "display_name": "Python 3"
    },
    "language_info": {
      "name": "python"
    }
  },
  "cells": [
    {
      "cell_type": "markdown",
      "source": [
        "# **Mount Google Drive**"
      ],
      "metadata": {
        "id": "17P4p6F--E-E"
      }
    },
    {
      "cell_type": "code",
      "source": [
        "from google.colab import drive\n",
        "\n",
        "# Mount Google Drive\n",
        "drive.mount('/content/drive')"
      ],
      "metadata": {
        "id": "BuQZDJgw96NV"
      },
      "execution_count": null,
      "outputs": []
    },
    {
      "cell_type": "markdown",
      "source": [
        "# **Import Data Set**\n"
      ],
      "metadata": {
        "id": "XJnIpcE8A8D3"
      }
    },
    {
      "cell_type": "code",
      "execution_count": null,
      "metadata": {
        "id": "G5qZIq53o5Yg"
      },
      "outputs": [],
      "source": [
        "import pandas as pd\n",
        "\n",
        "# Specify the file paths of the CSV files\n",
        "file_paths = [\n",
        "    '/content/drive/MyDrive/Olamide/Friday-WorkingHours-Morning.pcap_ISCX.csv',\n",
        "    '/content/drive/MyDrive/Olamide/Friday-WorkingHours-Afternoon-PortScan.pcap_ISCX.csv',\n",
        "    '/content/drive/MyDrive/Olamide/Friday-WorkingHours-Afternoon-DDos.pcap_ISCX.csv'\n",
        "]\n",
        "\n",
        "# Create an empty list to store the DataFrames\n",
        "dataframes = []\n",
        "\n",
        "# Loop through each file path\n",
        "for file_path in file_paths:\n",
        "    df = pd.read_csv(file_path)\n",
        "    dataframes.append(df)\n",
        "\n",
        "# Concatenate all DataFrames into a single DataFrame\n",
        "df = pd.concat(dataframes, ignore_index=True)"
      ]
    },
    {
      "cell_type": "markdown",
      "source": [
        "# **Data Profiling**\n",
        "Profile the data to understand it"
      ],
      "metadata": {
        "id": "XPJEmkLdCUZW"
      }
    },
    {
      "cell_type": "code",
      "source": [
        "# Print the number of rows\n",
        "print(\"Number of Rows:\", len(df))\n",
        "\n",
        "# Print the number of columns\n",
        "print(\"Number of Columns:\", len(df.columns))\n",
        "\n",
        "# Display the first few rows of the DataFrame\n",
        "print(df.head())\n",
        "\n",
        "# Get summary statistics of the numerical columns\n",
        "print(df.describe())\n",
        "\n",
        "# Check the data types of each column\n",
        "print(df.dtypes)\n",
        "\n",
        "# check column headers\n",
        "print(df.columns)"
      ],
      "metadata": {
        "colab": {
          "base_uri": "https://localhost:8080/"
        },
        "id": "DjrmDZr-CfVg",
        "outputId": "5506d948-8d9d-48da-92d3-07a4e357fc9e"
      },
      "execution_count": null,
      "outputs": [
        {
          "output_type": "stream",
          "name": "stdout",
          "text": [
            "Number of Rows: 703245\n",
            "Number of Columns: 79\n",
            "    Destination Port   Flow Duration   Total Fwd Packets  \\\n",
            "0               3268       112740690                  32   \n",
            "1                389       112740560                  32   \n",
            "2                  0       113757377                 545   \n",
            "3               5355          100126                  22   \n",
            "4                  0           54760                   4   \n",
            "\n",
            "    Total Backward Packets  Total Length of Fwd Packets  \\\n",
            "0                       16                         6448   \n",
            "1                       16                         6448   \n",
            "2                        0                            0   \n",
            "3                        0                          616   \n",
            "4                        0                            0   \n",
            "\n",
            "    Total Length of Bwd Packets   Fwd Packet Length Max  \\\n",
            "0                          1152                     403   \n",
            "1                          5056                     403   \n",
            "2                             0                       0   \n",
            "3                             0                      28   \n",
            "4                             0                       0   \n",
            "\n",
            "    Fwd Packet Length Min   Fwd Packet Length Mean   Fwd Packet Length Std  \\\n",
            "0                       0                    201.5              204.724205   \n",
            "1                       0                    201.5              204.724205   \n",
            "2                       0                      0.0                0.000000   \n",
            "3                      28                     28.0                0.000000   \n",
            "4                       0                      0.0                0.000000   \n",
            "\n",
            "   ...   min_seg_size_forward   Active Mean    Active Std   Active Max  \\\n",
            "0  ...                     32  3.594286e+02  1.199802e+01          380   \n",
            "1  ...                     32  3.202857e+02  1.574499e+01          330   \n",
            "2  ...                      0  9.361829e+06  7.324646e+06     18900000   \n",
            "3  ...                     32  0.000000e+00  0.000000e+00            0   \n",
            "4  ...                      0  0.000000e+00  0.000000e+00            0   \n",
            "\n",
            "    Active Min   Idle Mean      Idle Std   Idle Max   Idle Min   Label  \n",
            "0          343  16100000.0  4.988048e+05   16400000   15400000  BENIGN  \n",
            "1          285  16100000.0  4.987937e+05   16400000   15400000  BENIGN  \n",
            "2           19  12200000.0  6.935824e+06   20800000    5504997  BENIGN  \n",
            "3            0         0.0  0.000000e+00          0          0  BENIGN  \n",
            "4            0         0.0  0.000000e+00          0          0  BENIGN  \n",
            "\n",
            "[5 rows x 79 columns]\n",
            "        Destination Port   Flow Duration   Total Fwd Packets  \\\n",
            "count      703245.000000    7.032450e+05       703245.000000   \n",
            "mean         7962.735034    1.056822e+07            6.735627   \n",
            "std         17263.042486    2.815051e+07          572.363391   \n",
            "min             0.000000   -1.300000e+01            1.000000   \n",
            "25%            53.000000    6.800000e+01            1.000000   \n",
            "50%            80.000000    3.074500e+04            2.000000   \n",
            "75%          3324.000000    1.810259e+06            4.000000   \n",
            "max         65532.000000    1.200000e+08       207964.000000   \n",
            "\n",
            "        Total Backward Packets  Total Length of Fwd Packets  \\\n",
            "count            703245.000000                 7.032450e+05   \n",
            "mean                  7.360662                 5.596234e+02   \n",
            "std                 771.589746                 4.685555e+03   \n",
            "min                   0.000000                 0.000000e+00   \n",
            "25%                   1.000000                 2.000000e+00   \n",
            "50%                   1.000000                 3.000000e+01   \n",
            "75%                   4.000000                 8.000000e+01   \n",
            "max              284602.000000                 1.235152e+06   \n",
            "\n",
            "        Total Length of Bwd Packets   Fwd Packet Length Max  \\\n",
            "count                  7.032450e+05           703245.000000   \n",
            "mean                   1.072696e+04              253.342164   \n",
            "std                    1.728003e+06             1132.537365   \n",
            "min                    0.000000e+00                0.000000   \n",
            "25%                    6.000000e+00                2.000000   \n",
            "50%                    5.600000e+01               20.000000   \n",
            "75%                    3.480000e+02               45.000000   \n",
            "max                    6.270000e+08            24820.000000   \n",
            "\n",
            "        Fwd Packet Length Min   Fwd Packet Length Mean  \\\n",
            "count           703245.000000            703245.000000   \n",
            "mean                19.658897                76.835304   \n",
            "std                 96.648907               303.048257   \n",
            "min                  0.000000                 0.000000   \n",
            "25%                  0.000000                 2.000000   \n",
            "50%                  2.000000                 8.666667   \n",
            "75%                 31.000000                42.000000   \n",
            "max               2325.000000              5940.857143   \n",
            "\n",
            "        Fwd Packet Length Std  ...   act_data_pkt_fwd   min_seg_size_forward  \\\n",
            "count           703245.000000  ...      703245.000000          703245.000000   \n",
            "mean                92.638353  ...           4.571550              25.690055   \n",
            "std                473.159672  ...         545.328536               7.290533   \n",
            "min                  0.000000  ...           0.000000               0.000000   \n",
            "25%                  0.000000  ...           0.000000              20.000000   \n",
            "50%                  0.000000  ...           1.000000              20.000000   \n",
            "75%                 10.263203  ...           3.000000              32.000000   \n",
            "max               7049.469004  ...      198636.000000              60.000000   \n",
            "\n",
            "        Active Mean    Active Std    Active Max    Active Min     Idle Mean  \\\n",
            "count  7.032450e+05  7.032450e+05  7.032450e+05  7.032450e+05  7.032450e+05   \n",
            "mean   9.656884e+04  2.812304e+04  1.483580e+05  8.104613e+04  5.030473e+06   \n",
            "std    7.082775e+05  3.293842e+05  9.830942e+05  6.578535e+05  1.582620e+07   \n",
            "min    0.000000e+00  0.000000e+00  0.000000e+00  0.000000e+00  0.000000e+00   \n",
            "25%    0.000000e+00  0.000000e+00  0.000000e+00  0.000000e+00  0.000000e+00   \n",
            "50%    0.000000e+00  0.000000e+00  0.000000e+00  0.000000e+00  0.000000e+00   \n",
            "75%    0.000000e+00  0.000000e+00  0.000000e+00  0.000000e+00  0.000000e+00   \n",
            "max    1.100000e+08  7.050000e+07  1.100000e+08  1.100000e+08  1.200000e+08   \n",
            "\n",
            "           Idle Std      Idle Max      Idle Min  \n",
            "count  7.032450e+05  7.032450e+05  7.032450e+05  \n",
            "mean   1.231939e+06  5.904587e+06  4.132828e+06  \n",
            "std    7.536521e+06  1.854219e+07  1.463286e+07  \n",
            "min    0.000000e+00  0.000000e+00  0.000000e+00  \n",
            "25%    0.000000e+00  0.000000e+00  0.000000e+00  \n",
            "50%    0.000000e+00  0.000000e+00  0.000000e+00  \n",
            "75%    0.000000e+00  0.000000e+00  0.000000e+00  \n",
            "max    7.660000e+07  1.200000e+08  1.200000e+08  \n",
            "\n",
            "[8 rows x 78 columns]\n",
            " Destination Port                int64\n",
            " Flow Duration                   int64\n",
            " Total Fwd Packets               int64\n",
            " Total Backward Packets          int64\n",
            "Total Length of Fwd Packets      int64\n",
            "                                ...   \n",
            "Idle Mean                      float64\n",
            " Idle Std                      float64\n",
            " Idle Max                        int64\n",
            " Idle Min                        int64\n",
            " Label                          object\n",
            "Length: 79, dtype: object\n",
            "Index([' Destination Port', ' Flow Duration', ' Total Fwd Packets',\n",
            "       ' Total Backward Packets', 'Total Length of Fwd Packets',\n",
            "       ' Total Length of Bwd Packets', ' Fwd Packet Length Max',\n",
            "       ' Fwd Packet Length Min', ' Fwd Packet Length Mean',\n",
            "       ' Fwd Packet Length Std', 'Bwd Packet Length Max',\n",
            "       ' Bwd Packet Length Min', ' Bwd Packet Length Mean',\n",
            "       ' Bwd Packet Length Std', 'Flow Bytes/s', ' Flow Packets/s',\n",
            "       ' Flow IAT Mean', ' Flow IAT Std', ' Flow IAT Max', ' Flow IAT Min',\n",
            "       'Fwd IAT Total', ' Fwd IAT Mean', ' Fwd IAT Std', ' Fwd IAT Max',\n",
            "       ' Fwd IAT Min', 'Bwd IAT Total', ' Bwd IAT Mean', ' Bwd IAT Std',\n",
            "       ' Bwd IAT Max', ' Bwd IAT Min', 'Fwd PSH Flags', ' Bwd PSH Flags',\n",
            "       ' Fwd URG Flags', ' Bwd URG Flags', ' Fwd Header Length',\n",
            "       ' Bwd Header Length', 'Fwd Packets/s', ' Bwd Packets/s',\n",
            "       ' Min Packet Length', ' Max Packet Length', ' Packet Length Mean',\n",
            "       ' Packet Length Std', ' Packet Length Variance', 'FIN Flag Count',\n",
            "       ' SYN Flag Count', ' RST Flag Count', ' PSH Flag Count',\n",
            "       ' ACK Flag Count', ' URG Flag Count', ' CWE Flag Count',\n",
            "       ' ECE Flag Count', ' Down/Up Ratio', ' Average Packet Size',\n",
            "       ' Avg Fwd Segment Size', ' Avg Bwd Segment Size',\n",
            "       ' Fwd Header Length.1', 'Fwd Avg Bytes/Bulk', ' Fwd Avg Packets/Bulk',\n",
            "       ' Fwd Avg Bulk Rate', ' Bwd Avg Bytes/Bulk', ' Bwd Avg Packets/Bulk',\n",
            "       'Bwd Avg Bulk Rate', 'Subflow Fwd Packets', ' Subflow Fwd Bytes',\n",
            "       ' Subflow Bwd Packets', ' Subflow Bwd Bytes', 'Init_Win_bytes_forward',\n",
            "       ' Init_Win_bytes_backward', ' act_data_pkt_fwd',\n",
            "       ' min_seg_size_forward', 'Active Mean', ' Active Std', ' Active Max',\n",
            "       ' Active Min', 'Idle Mean', ' Idle Std', ' Idle Max', ' Idle Min',\n",
            "       ' Label'],\n",
            "      dtype='object')\n"
          ]
        }
      ]
    },
    {
      "cell_type": "markdown",
      "source": [
        "Print Values in target Variable to understand if botnet attacked the Iot"
      ],
      "metadata": {
        "id": "EAd-mLoIHpHG"
      }
    },
    {
      "cell_type": "code",
      "source": [
        "# print unique values in the 'target' column\n",
        "unique_values = df[' Label'].unique()\n",
        "\n",
        "# Print unique values\n",
        "for value in unique_values:\n",
        "    print(value)"
      ],
      "metadata": {
        "colab": {
          "base_uri": "https://localhost:8080/"
        },
        "id": "gwSkapkG71Qe",
        "outputId": "d070247b-9b7b-4214-e477-ce13a1d70c40"
      },
      "execution_count": null,
      "outputs": [
        {
          "output_type": "stream",
          "name": "stdout",
          "text": [
            "BENIGN\n",
            "Bot\n",
            "PortScan\n",
            "DDoS\n"
          ]
        }
      ]
    },
    {
      "cell_type": "markdown",
      "source": [
        "# **Data Cleaning**"
      ],
      "metadata": {
        "id": "fQILwN-cKajZ"
      }
    },
    {
      "cell_type": "markdown",
      "source": [
        "Romove leading/trailing whitespace on dataset"
      ],
      "metadata": {
        "id": "whGohvupOzbb"
      }
    },
    {
      "cell_type": "code",
      "source": [
        "df.columns = df.columns.str.strip()"
      ],
      "metadata": {
        "id": "BQCYkluJOyCJ"
      },
      "execution_count": null,
      "outputs": []
    },
    {
      "cell_type": "markdown",
      "source": [
        "Check for missing values"
      ],
      "metadata": {
        "id": "bX5CzcBhKegQ"
      }
    },
    {
      "cell_type": "code",
      "source": [
        "# Check for missing values\n",
        "missing_values = df.isnull().sum()\n",
        "\n",
        "if missing_values.sum() == 0:\n",
        "    print(\"No missing values\")\n",
        "else:\n",
        "    print(\"Missing Values:\")\n",
        "    print(missing_values)"
      ],
      "metadata": {
        "colab": {
          "base_uri": "https://localhost:8080/"
        },
        "id": "pfXgJIwWKiq1",
        "outputId": "56605c3d-81ce-4cc7-9bbb-919f5d8ce834"
      },
      "execution_count": null,
      "outputs": [
        {
          "output_type": "stream",
          "name": "stdout",
          "text": [
            "Missing Values:\n",
            "Destination Port               0\n",
            "Flow Duration                  0\n",
            "Total Fwd Packets              0\n",
            "Total Backward Packets         0\n",
            "Total Length of Fwd Packets    0\n",
            "                              ..\n",
            "Idle Mean                      0\n",
            "Idle Std                       0\n",
            "Idle Max                       0\n",
            "Idle Min                       0\n",
            "Label                          0\n",
            "Length: 79, dtype: int64\n"
          ]
        }
      ]
    },
    {
      "cell_type": "code",
      "source": [
        "# Exclude non-numeric column from DataFrame\n",
        "numeric_df = df.drop('Label', axis=1)\n",
        "\n",
        "# Fill numeric missing values with the mean\n",
        "numeric_df.fillna(numeric_df.mean(), inplace=True)\n",
        "\n",
        "# Fill missing non-numerical data with the mode\n",
        "df['Label'].fillna(df['Label'].mode()[0], inplace=True)\n",
        "\n",
        "# Concatenate the imputed numeric DataFrame with the imputed non-numeric column\n",
        "df = pd.concat([numeric_df, df['Label']], axis=1)"
      ],
      "metadata": {
        "id": "ahwhbiF0L0-N"
      },
      "execution_count": null,
      "outputs": []
    },
    {
      "cell_type": "code",
      "source": [
        "# Check if missing values have been successfully replaced\n",
        "missing_values = df.isnull().sum()\n",
        "\n",
        "if missing_values.sum() == 0:\n",
        "    print(\"No missing values\")\n",
        "else:\n",
        "    print(\"Missing Values:\")\n",
        "    print(missing_values)"
      ],
      "metadata": {
        "colab": {
          "base_uri": "https://localhost:8080/"
        },
        "id": "vG_7rD8-H7Yv",
        "outputId": "27da8831-177a-46fd-840f-30d3701e03d1"
      },
      "execution_count": null,
      "outputs": [
        {
          "output_type": "stream",
          "name": "stdout",
          "text": [
            "No missing values\n"
          ]
        }
      ]
    },
    {
      "cell_type": "markdown",
      "source": [
        "Check for dublicates"
      ],
      "metadata": {
        "id": "lBM63MlpNFIK"
      }
    },
    {
      "cell_type": "code",
      "source": [
        "# Check for duplicates\n",
        "duplicates = df.duplicated()\n",
        "if duplicates.sum() > 0:\n",
        "    print(\"Duplicates found. Removing duplicates...\")\n",
        "    df = df[~duplicates]\n",
        "else:\n",
        "    print(\"No duplicates found.\")"
      ],
      "metadata": {
        "colab": {
          "base_uri": "https://localhost:8080/"
        },
        "id": "arsuEzruNHVq",
        "outputId": "04397bf3-70e6-47bf-c452-48e1fd1cb3cd"
      },
      "execution_count": null,
      "outputs": [
        {
          "output_type": "stream",
          "name": "stdout",
          "text": [
            "Duplicates found. Removing duplicates...\n"
          ]
        }
      ]
    },
    {
      "cell_type": "code",
      "source": [
        "# Remove duplicates\n",
        "df_unique = df.drop_duplicates()\n",
        "\n",
        "# Dublicates successfully droped"
      ],
      "metadata": {
        "id": "gLhRtJjdNarx"
      },
      "execution_count": null,
      "outputs": []
    },
    {
      "cell_type": "markdown",
      "source": [
        "# **Exploratory Data Analysis**\n",
        "Print An analysis of Dataset to understand the relationships"
      ],
      "metadata": {
        "id": "0z9YTLA5Jguo"
      }
    },
    {
      "cell_type": "code",
      "source": [
        "import pandas as pd\n",
        "import matplotlib.pyplot as plt\n",
        "\n",
        "# Histogram of Label\n",
        "df['Label'].hist(bins=20)\n",
        "plt.title('Histogram of Target Variable')\n",
        "plt.xlabel('Label')\n",
        "plt.ylabel('Count')\n",
        "plt.show()\n",
        "\n",
        "# Scatter plot of Label Vs Total Flow Packets\n",
        "df.plot.scatter(x='Label', y='Total Fwd Packets')\n",
        "plt.title('Scatter Plot of Label Vs Total Flow Packets')\n",
        "plt.xlabel('Label')\n",
        "plt.ylabel('Total Flow Packet')\n",
        "plt.show()\n",
        "\n",
        "# Bar chart of Label counts\n",
        "df['Label'].value_counts().plot.bar()\n",
        "plt.title('Bar Chart of Label Counts')\n",
        "plt.xlabel('Label')\n",
        "plt.ylabel('Count')\n",
        "plt.show()"
      ],
      "metadata": {
        "colab": {
          "base_uri": "https://localhost:8080/",
          "height": 1000
        },
        "id": "Jdmd8wc1JKy5",
        "outputId": "5716ce9e-0b2f-45be-9781-0b6186fa5254"
      },
      "execution_count": null,
      "outputs": [
        {
          "output_type": "display_data",
          "data": {
            "text/plain": [
              "<Figure size 640x480 with 1 Axes>"
            ],
            "image/png": "[encoded data removed]"
          },
          "metadata": {}
        },
        {
          "output_type": "display_data",
          "data": {
            "text/plain": [
              "<Figure size 640x480 with 1 Axes>"
            ],
            "image/png": "[encoded data removed]"
          },
          "metadata": {}
        },
        {
          "output_type": "display_data",
          "data": {
            "text/plain": [
              "<Figure size 640x480 with 1 Axes>"
            ],
            "image/png": "[encoded data removed]"
          },
          "metadata": {}
        }
      ]
    },
    {
      "cell_type": "markdown",
      "source": [
        "# **Feature Enginerring**"
      ],
      "metadata": {
        "id": "urBcq-D8PHyM"
      }
    },
    {
      "cell_type": "code",
      "source": [
        "# Print all the columns\n",
        "df.columns"
      ],
      "metadata": {
        "colab": {
          "base_uri": "https://localhost:8080/"
        },
        "id": "pi6DPgqBPLnl",
        "outputId": "f4f97114-09c5-4ac7-cfa2-173cac6ba254"
      },
      "execution_count": null,
      "outputs": [
        {
          "output_type": "execute_result",
          "data": {
            "text/plain": [
              "Index(['Destination Port', 'Flow Duration', 'Total Fwd Packets',\n",
              "       'Total Backward Packets', 'Total Length of Fwd Packets',\n",
              "       'Total Length of Bwd Packets', 'Fwd Packet Length Max',\n",
              "       'Fwd Packet Length Min', 'Fwd Packet Length Mean',\n",
              "       'Fwd Packet Length Std', 'Bwd Packet Length Max',\n",
              "       'Bwd Packet Length Min', 'Bwd Packet Length Mean',\n",
              "       'Bwd Packet Length Std', 'Flow Bytes/s', 'Flow Packets/s',\n",
              "       'Flow IAT Mean', 'Flow IAT Std', 'Flow IAT Max', 'Flow IAT Min',\n",
              "       'Fwd IAT Total', 'Fwd IAT Mean', 'Fwd IAT Std', 'Fwd IAT Max',\n",
              "       'Fwd IAT Min', 'Bwd IAT Total', 'Bwd IAT Mean', 'Bwd IAT Std',\n",
              "       'Bwd IAT Max', 'Bwd IAT Min', 'Fwd PSH Flags', 'Bwd PSH Flags',\n",
              "       'Fwd URG Flags', 'Bwd URG Flags', 'Fwd Header Length',\n",
              "       'Bwd Header Length', 'Fwd Packets/s', 'Bwd Packets/s',\n",
              "       'Min Packet Length', 'Max Packet Length', 'Packet Length Mean',\n",
              "       'Packet Length Std', 'Packet Length Variance', 'FIN Flag Count',\n",
              "       'SYN Flag Count', 'RST Flag Count', 'PSH Flag Count', 'ACK Flag Count',\n",
              "       'URG Flag Count', 'CWE Flag Count', 'ECE Flag Count', 'Down/Up Ratio',\n",
              "       'Average Packet Size', 'Avg Fwd Segment Size', 'Avg Bwd Segment Size',\n",
              "       'Fwd Header Length.1', 'Fwd Avg Bytes/Bulk', 'Fwd Avg Packets/Bulk',\n",
              "       'Fwd Avg Bulk Rate', 'Bwd Avg Bytes/Bulk', 'Bwd Avg Packets/Bulk',\n",
              "       'Bwd Avg Bulk Rate', 'Subflow Fwd Packets', 'Subflow Fwd Bytes',\n",
              "       'Subflow Bwd Packets', 'Subflow Bwd Bytes', 'Init_Win_bytes_forward',\n",
              "       'Init_Win_bytes_backward', 'act_data_pkt_fwd', 'min_seg_size_forward',\n",
              "       'Active Mean', 'Active Std', 'Active Max', 'Active Min', 'Idle Mean',\n",
              "       'Idle Std', 'Idle Max', 'Idle Min', 'Label'],\n",
              "      dtype='object')"
            ]
          },
          "metadata": {},
          "execution_count": 34
        }
      ]
    },
    {
      "cell_type": "markdown",
      "source": [
        "Feature and Target Variable Selection"
      ],
      "metadata": {
        "id": "G_OFFnfKPbxx"
      }
    },
    {
      "cell_type": "code",
      "source": [
        "# Use all variables as featured target, hence, Label is droped from featured variables, which is defined as X\n",
        "featured_variables = df.columns.drop('Label')\n",
        "X = df[featured_variables]"
      ],
      "metadata": {
        "id": "X6QugVG8PpRQ"
      },
      "execution_count": null,
      "outputs": []
    },
    {
      "cell_type": "markdown",
      "source": [
        "Create a new variable 'Bot'"
      ],
      "metadata": {
        "id": "o8s6-IVHRMmO"
      }
    },
    {
      "cell_type": "code",
      "source": [
        "# Create a new column 'Bot' with 1 for 'Bot' values and 0 for other values\n",
        "df['Bot'] = df['Label'].apply(lambda x: 1 if x == 'Bot' else 0)\n",
        "\n",
        "# Drop the original 'Label' column if needed\n",
        "df.drop('Label', axis=1, inplace=True)\n",
        "\n",
        "y = df['Bot']\n",
        "\n",
        "# Target Variable 'Label', is converted to (1,0) and defined as 'y',\n",
        "# where 1 = bot and non bot = 0"
      ],
      "metadata": {
        "id": "FoXDApKVQkV0"
      },
      "execution_count": null,
      "outputs": []
    },
    {
      "cell_type": "markdown",
      "source": [
        "# **Split Into Train And Test Set**"
      ],
      "metadata": {
        "id": "YviDqhMF0w8Z"
      }
    },
    {
      "cell_type": "code",
      "source": [
        "from sklearn.model_selection import train_test_split\n",
        "\n",
        "# Split the data into training and test sets (80/20)\n",
        "X_train, X_test, y_train, y_test = train_test_split(X, y, test_size=0.2, random_state=42)"
      ],
      "metadata": {
        "id": "IgWW9Ao0RM40"
      },
      "execution_count": null,
      "outputs": []
    },
    {
      "cell_type": "markdown",
      "source": [
        "# **Implement Model**\n",
        "\n",
        "Light Gradient Boosting Machine (lightgbm) is the model to be used"
      ],
      "metadata": {
        "id": "F9vNx0tR1elm"
      }
    },
    {
      "cell_type": "code",
      "source": [
        "import lightgbm as lgb\n",
        "\n",
        "# Check the shapes of the train and test data\n",
        "print(\"Train data shape:\", X_train.shape)\n",
        "print(\"Test data shape:\", X_test.shape)\n",
        "print(\"Train target shape:\", y_train.shape)\n",
        "print(\"Test target shape:\", y_test.shape)"
      ],
      "metadata": {
        "colab": {
          "base_uri": "https://localhost:8080/"
        },
        "id": "eZPnmCodRkNp",
        "outputId": "82e2c9c0-ad4c-40d7-83b3-ca9f00ee1c2e"
      },
      "execution_count": null,
      "outputs": [
        {
          "output_type": "stream",
          "name": "stdout",
          "text": [
            "Train data shape: (492715, 78)\n",
            "Test data shape: (123179, 78)\n",
            "Train target shape: (492715,)\n",
            "Test target shape: (123179,)\n"
          ]
        }
      ]
    },
    {
      "cell_type": "code",
      "source": [
        "# Create a LightGBM dataset\n",
        "train_data = lgb.Dataset(X_train, label=y_train)"
      ],
      "metadata": {
        "id": "QnFlpsz3Rrn6"
      },
      "execution_count": null,
      "outputs": []
    },
    {
      "cell_type": "code",
      "source": [
        "# Set the parameters for LightGBM\n",
        "params = {\n",
        "    'objective': 'binary',\n",
        "    'metric': 'binary_logloss',\n",
        "    'boosting_type': 'gbdt'\n",
        "}"
      ],
      "metadata": {
        "id": "aj1Y9jp4RvrW"
      },
      "execution_count": null,
      "outputs": []
    },
    {
      "cell_type": "code",
      "source": [
        "# Train the LightGBM model\n",
        "gbm = lgb.train(params, train_data)"
      ],
      "metadata": {
        "colab": {
          "base_uri": "https://localhost:8080/"
        },
        "id": "bcdBUjW6RyuE",
        "outputId": "8268a319-cca2-4dc3-988f-178187f98d20"
      },
      "execution_count": null,
      "outputs": [
        {
          "output_type": "stream",
          "name": "stdout",
          "text": [
            "[LightGBM] [Warning] Found whitespace in feature_names, replace with underlines\n",
            "[LightGBM] [Info] Number of positive: 1570, number of negative: 491145\n",
            "[LightGBM] [Warning] Auto-choosing row-wise multi-threading, the overhead of testing was 0.145638 seconds.\n",
            "You can set `force_row_wise=true` to remove the overhead.\n",
            "And if memory is not enough, you can set `force_col_wise=true`.\n",
            "[LightGBM] [Info] Total Bins 14513\n",
            "[LightGBM] [Info] Number of data points in the train set: 492715, number of used features: 68\n",
            "[LightGBM] [Info] [binary:BoostFromScore]: pavg=0.003186 -> initscore=-5.745664\n",
            "[LightGBM] [Info] Start training from score -5.745664\n"
          ]
        }
      ]
    },
    {
      "cell_type": "code",
      "source": [
        "# Make predictions on the test data\n",
        "y_pred = gbm.predict(X_test)\n",
        "y_pred = (y_pred > 0.5).astype(int)"
      ],
      "metadata": {
        "id": "CFn3LMCxR4Mk"
      },
      "execution_count": null,
      "outputs": []
    },
    {
      "cell_type": "markdown",
      "source": [
        "# **Evaluation Parameters**"
      ],
      "metadata": {
        "id": "UQiKHQdLJopN"
      }
    },
    {
      "cell_type": "code",
      "source": [
        "from sklearn.metrics import accuracy_score\n",
        "# Calculate the accuracy of the model\n",
        "accuracy = accuracy_score(y_test, y_pred)\n",
        "print(\"Accuracy:\", accuracy)\n"
      ],
      "metadata": {
        "colab": {
          "base_uri": "https://localhost:8080/"
        },
        "id": "wjeQK52q9mwy",
        "outputId": "7994d2f0-a45f-4209-cf0d-47bea9a10870"
      },
      "execution_count": null,
      "outputs": [
        {
          "output_type": "stream",
          "name": "stdout",
          "text": [
            "Accuracy: 0.9979947880726423\n"
          ]
        }
      ]
    },
    {
      "cell_type": "code",
      "source": [
        "from sklearn.metrics import classification_report\n",
        "\n",
        "target_names = ['no bot', 'bot']\n",
        "# Print Classification report\n",
        "print(classification_report(y_test, y_pred, target_names=target_names))"
      ],
      "metadata": {
        "colab": {
          "base_uri": "https://localhost:8080/"
        },
        "id": "HiUswNFR2X-a",
        "outputId": "43152395-85a7-43c2-b204-04b0d19c024c"
      },
      "execution_count": null,
      "outputs": [
        {
          "output_type": "stream",
          "name": "stdout",
          "text": [
            "              precision    recall  f1-score   support\n",
            "\n",
            "      no bot       1.00      1.00      1.00    122796\n",
            "         bot       0.63      0.86      0.73       383\n",
            "\n",
            "    accuracy                           1.00    123179\n",
            "   macro avg       0.81      0.93      0.86    123179\n",
            "weighted avg       1.00      1.00      1.00    123179\n",
            "\n"
          ]
        }
      ]
    },
    {
      "cell_type": "code",
      "source": [
        "import numpy as np\n",
        "\n",
        "# Define the class labels and corresponding metrics\n",
        "class_labels = ['no bot', 'bot']\n",
        "precision = [1.00, 0.63]\n",
        "recall = [1.00, 0.86]\n",
        "f1_score = [1.00, 0.73]\n",
        "support = [122796, 383]\n",
        "\n",
        "# Define the x-axis tick positions\n",
        "x_ticks = np.arange(len(class_labels))\n",
        "\n",
        "# Plot precision, recall, and f1-score\n",
        "plt.bar(x_ticks, precision, width=0.2, label='Precision')\n",
        "plt.bar(x_ticks + 0.2, recall, width=0.2, label='Recall')\n",
        "plt.bar(x_ticks + 0.4, f1_score, width=0.2, label='F1-score')\n",
        "\n",
        "# Set the x-axis tick labels and axis labels\n",
        "plt.xticks(x_ticks + 0.2, class_labels)\n",
        "plt.xlabel('Class')\n",
        "plt.ylabel('Score')\n",
        "\n",
        "# Add a legend\n",
        "plt.legend()\n",
        "\n",
        "# Show the plot\n",
        "plt.show()"
      ],
      "metadata": {
        "colab": {
          "base_uri": "https://localhost:8080/",
          "height": 449
        },
        "id": "YJmGqtTqYImf",
        "outputId": "267b10f4-a299-4df1-a3fe-f874c0c08582"
      },
      "execution_count": null,
      "outputs": [
        {
          "output_type": "display_data",
          "data": {
            "text/plain": [
              "<Figure size 640x480 with 1 Axes>"
            ],
            "image/png": "[encoded data removed]"
          },
          "metadata": {}
        }
      ]
    }
  ]
}